{
 "cells": [
  {
   "cell_type": "markdown",
   "metadata": {},
   "source": [
    "# Regular Expressions\n",
    "\n",
    "In this notebook, we'll learn a few aspects of regular expressions.\n",
    "\n",
    "In Python, _re_ is the regular expressions library."
   ]
  },
  {
   "cell_type": "code",
   "execution_count": null,
   "metadata": {},
   "outputs": [],
   "source": [
    "import pandas as pd\n",
    "import re"
   ]
  },
  {
   "cell_type": "code",
   "execution_count": null,
   "metadata": {},
   "outputs": [],
   "source": [
    "phone_numbers = pd.read_csv('phone_numbers.csv')"
   ]
  },
  {
   "cell_type": "code",
   "execution_count": null,
   "metadata": {},
   "outputs": [],
   "source": [
    "phone_numbers.head(10)"
   ]
  },
  {
   "cell_type": "markdown",
   "metadata": {},
   "source": [
    "Our goal will be to extract out the three chunks of numbers from these phone numbers. We'll call them the area code, the middle, and the end.\n",
    "\n",
    "Notice that there is quite a variety of formats in the numbers so a simple string subset or string split will not work. Regular expressions are more powerful than simple string methods and can be used when there is variety in the possible formats of text your are parsing.\n",
    "\n",
    "A useful resource to have when learning or using regular expressions is https://regex101.com/"
   ]
  },
  {
   "cell_type": "code",
   "execution_count": null,
   "metadata": {},
   "outputs": [],
   "source": [
    "phone_numbers['end'] = phone_numbers['number'].str.slice(-4)"
   ]
  },
  {
   "cell_type": "code",
   "execution_count": null,
   "metadata": {},
   "outputs": [],
   "source": [
    "phone_numbers.head()"
   ]
  },
  {
   "cell_type": "markdown",
   "metadata": {},
   "source": [
    "Let's start with the easy part, the end. What is true about the end? When using regular expressions, \\d will match any digit.\n",
    "\n",
    "If there are a specific number of consecutive digits you are looking for, you can denote that by using curly braces with the acceptable number(s) of digits you are looking for.\n",
    "\n",
    "Let's first try it out using the `.findall` method from `re`."
   ]
  },
  {
   "cell_type": "code",
   "execution_count": null,
   "metadata": {},
   "outputs": [],
   "source": [
    "x = phone_numbers.loc[0, 'number']\n",
    "x"
   ]
  },
  {
   "cell_type": "code",
   "execution_count": null,
   "metadata": {},
   "outputs": [],
   "source": [
    "re.findall('\\d{4}', x)"
   ]
  },
  {
   "cell_type": "markdown",
   "metadata": {},
   "source": [
    "_pandas_ also has some useful methods for working with regular expressions. Namely, the `.str.extract` method can be used to extract out parts of text by using regular expressions.\n",
    "\n",
    "When using `.extract`, you need to specify one or more **capturing groups**, which are the portion of the text that you want to extract. When using regular expressions, surrounding a portion of your regular expression with parentheses will turn it into a capturing group. This can be useful if you are looking for a particular pattern but only want to extract a piece of that pattern."
   ]
  },
  {
   "cell_type": "code",
   "execution_count": null,
   "metadata": {},
   "outputs": [],
   "source": [
    "phone_numbers['number'].str.extract('(\\d{4})')"
   ]
  },
  {
   "cell_type": "code",
   "execution_count": null,
   "metadata": {},
   "outputs": [],
   "source": [
    "phone_numbers.head(10)"
   ]
  },
  {
   "cell_type": "markdown",
   "metadata": {},
   "source": [
    "Now let's extract the middle portion.\n",
    "\n",
    "Two things of note:\n",
    "\n",
    "1. When using regular expressions, . signifies any character. If we want to match a literal period, we need to escape it with a slash \\.\n",
    "\n",
    "2. If you want to match one of a list of possible characters, you can use a bracket [] and list all possible values or range of values."
   ]
  },
  {
   "cell_type": "code",
   "execution_count": null,
   "metadata": {},
   "outputs": [],
   "source": [
    "x"
   ]
  },
  {
   "cell_type": "code",
   "execution_count": null,
   "metadata": {},
   "outputs": [],
   "source": [
    "re.findall('[\\.-](\\d{3})[\\.-]', x)"
   ]
  },
  {
   "cell_type": "code",
   "execution_count": null,
   "metadata": {},
   "outputs": [],
   "source": [
    "phone_numbers['middle'] = phone_numbers['number'].str.extract('[\\.-](\\d{3})[\\.-]')"
   ]
  },
  {
   "cell_type": "code",
   "execution_count": null,
   "metadata": {},
   "outputs": [],
   "source": [
    "phone_numbers.head(10)"
   ]
  },
  {
   "cell_type": "markdown",
   "metadata": {},
   "source": [
    "Finally, the area code. "
   ]
  },
  {
   "cell_type": "markdown",
   "metadata": {},
   "source": [
    "Of note:\n",
    "\n",
    "1. Since they are used to denote capturing groups, you need to escape parentheses with a \\.\n",
    "\n",
    "2. If you want to match 0 or 1 times, you can quantify with a ?.\n",
    "\n",
    "3. Other quantifiers which we won't need here:  \n",
    "    \\* matches 0 or more times.  \n",
    "    \\+ matches 1 or more times."
   ]
  },
  {
   "cell_type": "code",
   "execution_count": null,
   "metadata": {},
   "outputs": [],
   "source": [
    "x"
   ]
  },
  {
   "cell_type": "code",
   "execution_count": null,
   "metadata": {},
   "outputs": [],
   "source": [
    "''.join(re.findall('\\d', x))"
   ]
  },
  {
   "cell_type": "code",
   "execution_count": null,
   "metadata": {},
   "outputs": [],
   "source": [
    "phone_numbers['area_code'] = phone_numbers['number'].str.extract('^\\(?(\\d{3})')"
   ]
  },
  {
   "cell_type": "code",
   "execution_count": null,
   "metadata": {},
   "outputs": [],
   "source": [
    "phone_numbers['number'].apply(lambda x: ''.join(re.findall('\\d', x)))"
   ]
  },
  {
   "cell_type": "code",
   "execution_count": null,
   "metadata": {},
   "outputs": [],
   "source": [
    "phone_numbers['number'].str.replace('[().-]', '')"
   ]
  }
 ],
 "metadata": {
  "kernelspec": {
   "display_name": "Python 3",
   "language": "python",
   "name": "python3"
  },
  "language_info": {
   "codemirror_mode": {
    "name": "ipython",
    "version": 3
   },
   "file_extension": ".py",
   "mimetype": "text/x-python",
   "name": "python",
   "nbconvert_exporter": "python",
   "pygments_lexer": "ipython3",
   "version": "3.8.3"
  }
 },
 "nbformat": 4,
 "nbformat_minor": 4
}
