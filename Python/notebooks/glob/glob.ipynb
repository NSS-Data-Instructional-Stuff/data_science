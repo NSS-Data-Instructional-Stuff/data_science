{
 "cells": [
  {
   "cell_type": "markdown",
   "metadata": {},
   "source": [
    "## `glob`\n",
    "\n",
    "If you find yourself needing to find all files of a particular type within a folder or directory structure, you can use the `glob` module, which allows you to do wildcard matching on filenames."
   ]
  },
  {
   "cell_type": "code",
   "execution_count": null,
   "metadata": {},
   "outputs": [],
   "source": [
    "import glob"
   ]
  },
  {
   "cell_type": "markdown",
   "metadata": {},
   "source": [
    "To return a list of of files matching a particular pattern, use `glob.glob()` and supply a pathname pattern.\n",
    "\n",
    "In the pattern you supply, you can use the wildcards \\*, which will match 0 or more of any character and ?, which will match any one character."
   ]
  },
  {
   "cell_type": "code",
   "execution_count": 16,
   "metadata": {},
   "outputs": [
    {
     "data": {
      "text/plain": [
       "['data/file_008.txt',\n",
       " 'data/file_000.txt',\n",
       " 'data/file_014.txt',\n",
       " 'data/file_005.txt',\n",
       " 'data/file_001.txt',\n",
       " 'data/file_003.txt',\n",
       " 'data/file_002.txt',\n",
       " 'data/file_004.txt',\n",
       " 'data/file_010.txt',\n",
       " 'data/file_012.txt',\n",
       " 'data/file_015.txt',\n",
       " 'data/file_017.txt',\n",
       " 'data/file_013.txt',\n",
       " 'data/file_009.txt',\n",
       " 'data/file_007.txt',\n",
       " 'data/file_006.txt',\n",
       " 'data/file_016.txt',\n",
       " 'data/file_011.txt',\n",
       " 'data/file_019.txt',\n",
       " 'data/file_018.txt']"
      ]
     },
     "execution_count": 16,
     "metadata": {},
     "output_type": "execute_result"
    }
   ],
   "source": [
    "glob.glob('data/*.txt')"
   ]
  }
 ],
 "metadata": {
  "kernelspec": {
   "display_name": "Python 3",
   "language": "python",
   "name": "python3"
  },
  "language_info": {
   "codemirror_mode": {
    "name": "ipython",
    "version": 3
   },
   "file_extension": ".py",
   "mimetype": "text/x-python",
   "name": "python",
   "nbconvert_exporter": "python",
   "pygments_lexer": "ipython3",
   "version": "3.8.3"
  }
 },
 "nbformat": 4,
 "nbformat_minor": 4
}
