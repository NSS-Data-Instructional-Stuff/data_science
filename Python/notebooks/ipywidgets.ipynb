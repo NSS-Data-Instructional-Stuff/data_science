{
 "cells": [
  {
   "cell_type": "markdown",
   "metadata": {},
   "source": [
    "**ipywidgets** is a package which allows use to add easier interactivity to Jupyter notebooks. We can embed UI controls to allow the user to modify the input to a function without having to modify code. This can allow users to more easily datasets to uncover new insights.\n",
    "\n",
    "One way to create interactive widgets is to use `interact`"
   ]
  },
  {
   "cell_type": "code",
   "execution_count": null,
   "metadata": {},
   "outputs": [],
   "source": [
    "from ipywidgets import interact"
   ]
  },
  {
   "cell_type": "markdown",
   "metadata": {},
   "source": [
    "## `interact` as a decorator\n",
    "\n",
    "`interact` can be used as a decorator. In python, a decorator is a function which modifies the behavior of another function. It is basically a function that takes another function as input. Decorators are specified with `@`.\n",
    "\n",
    "Let's create an interactive widget using the squaring function.\n",
    "\n",
    "First, let's create a non-interactive version of our function."
   ]
  },
  {
   "cell_type": "code",
   "execution_count": null,
   "metadata": {},
   "outputs": [],
   "source": [
    "# Non-interactive version\n",
    "def square(x):\n",
    "    return x**2"
   ]
  },
  {
   "cell_type": "markdown",
   "metadata": {},
   "source": [
    "The syntax to create a function is \n",
    "\n",
    "`def <functionname>(parameters):\n",
    "    <what the function does, possibly with a return statement>`\n",
    "    \n",
    "To use our function, we need to specify its name, along with the value of any arguments for that function. In this case, we need to tell our function what value of `x` to use.\n",
    "\n",
    "This can be done by explicitly telling it that we want a particular value for `x`:"
   ]
  },
  {
   "cell_type": "code",
   "execution_count": null,
   "metadata": {},
   "outputs": [],
   "source": [
    "square(x = 10)"
   ]
  },
  {
   "cell_type": "markdown",
   "metadata": {},
   "source": [
    "Or we can pass in the arguments without explicitly naming them. In the event that your function has mutiple arguments, you need to pass in the arguments in the same order as in the function definition."
   ]
  },
  {
   "cell_type": "code",
   "execution_count": null,
   "metadata": {},
   "outputs": [],
   "source": [
    "square(10)"
   ]
  },
  {
   "cell_type": "markdown",
   "metadata": {},
   "source": [
    "To make our function interactive, we can tack on the `@interact` decorator. We need to specify the starting value for the input."
   ]
  },
  {
   "cell_type": "code",
   "execution_count": null,
   "metadata": {},
   "outputs": [],
   "source": [
    "@interact(x = 5)\n",
    "def square(x):\n",
    "    return x**2"
   ]
  },
  {
   "cell_type": "markdown",
   "metadata": {},
   "source": [
    "As you can see, `interact` does its best to try and figure out what type of variable `x` is and what a reasonable range of values for `x` is.\n",
    "\n",
    "If you want more precision in what values are allowed for `x`, you can, for example, import the `IntSlider` class and use that to specify the valid range."
   ]
  },
  {
   "cell_type": "code",
   "execution_count": null,
   "metadata": {},
   "outputs": [],
   "source": [
    "from ipywidgets import IntSlider"
   ]
  },
  {
   "cell_type": "code",
   "execution_count": null,
   "metadata": {},
   "outputs": [],
   "source": [
    "@interact(x = IntSlider(value = 5, min = 0, max = 20))\n",
    "def square(x):\n",
    "    return x**2"
   ]
  },
  {
   "cell_type": "markdown",
   "metadata": {},
   "source": [
    "We can also create interactive widgets for functions with more than one argument:"
   ]
  },
  {
   "cell_type": "code",
   "execution_count": null,
   "metadata": {},
   "outputs": [],
   "source": [
    "@interact(x = 5, y = 5)\n",
    "def difference_squares(x,y):\n",
    "    return x**2 - y**2"
   ]
  },
  {
   "cell_type": "markdown",
   "metadata": {},
   "source": [
    "We don't just have to return values - we can also create plots:"
   ]
  },
  {
   "cell_type": "code",
   "execution_count": null,
   "metadata": {},
   "outputs": [],
   "source": [
    "import matplotlib.pyplot as plt"
   ]
  },
  {
   "cell_type": "markdown",
   "metadata": {},
   "source": [
    "Notice how interact automatically creates a dropdown widget based on the fact that you gave a list of values for k."
   ]
  },
  {
   "cell_type": "code",
   "execution_count": null,
   "metadata": {},
   "outputs": [],
   "source": [
    "@interact(k = [1/4,1/3,1/2,1,2,3,4])\n",
    "def plot_power_function(k):\n",
    "    xs = range(50)\n",
    "    dynamic_ys = [x ** k for x in xs]\n",
    "    plt.plot(xs, dynamic_ys)"
   ]
  },
  {
   "cell_type": "markdown",
   "metadata": {},
   "source": [
    "### Using `ipywidgets` with `pandas`."
   ]
  },
  {
   "cell_type": "code",
   "execution_count": null,
   "metadata": {},
   "outputs": [],
   "source": [
    "import pandas as pd"
   ]
  },
  {
   "cell_type": "code",
   "execution_count": null,
   "metadata": {},
   "outputs": [],
   "source": [
    "crashes = pd.read_csv('data/crashes_2018.csv')"
   ]
  },
  {
   "cell_type": "code",
   "execution_count": null,
   "metadata": {},
   "outputs": [],
   "source": [
    "crashes.columns = [x.replace(' ', '_') for x in crashes.columns]\n",
    "crashes.columns"
   ]
  },
  {
   "cell_type": "code",
   "execution_count": null,
   "metadata": {},
   "outputs": [],
   "source": [
    "@interact(condition = crashes.Weather_Description.dropna().unique())\n",
    "def make_plot(condition):\n",
    "    data = crashes.loc[crashes.Weather_Description == condition].Collision_Type_Description.value_counts()\n",
    "    data.plot.barh()"
   ]
  }
 ],
 "metadata": {
  "kernelspec": {
   "display_name": "Python 3",
   "language": "python",
   "name": "python3"
  },
  "language_info": {
   "codemirror_mode": {
    "name": "ipython",
    "version": 3
   },
   "file_extension": ".py",
   "mimetype": "text/x-python",
   "name": "python",
   "nbconvert_exporter": "python",
   "pygments_lexer": "ipython3",
   "version": "3.8.3"
  }
 },
 "nbformat": 4,
 "nbformat_minor": 2
}
