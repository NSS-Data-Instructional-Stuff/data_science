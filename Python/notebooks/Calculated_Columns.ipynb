{
 "cells": [
  {
   "cell_type": "markdown",
   "metadata": {},
   "source": [
    "# Creating Calculated Columns in `pandas`\n",
    "\n",
    "In this notebook, you'll see a few ways to create calculated columns in pandas."
   ]
  },
  {
   "cell_type": "code",
   "execution_count": null,
   "metadata": {},
   "outputs": [],
   "source": [
    "import pandas as pd\n",
    "import numpy as np"
   ]
  },
  {
   "cell_type": "code",
   "execution_count": null,
   "metadata": {},
   "outputs": [],
   "source": [
    "weather = pd.read_csv('data/weather.csv')"
   ]
  },
  {
   "cell_type": "code",
   "execution_count": null,
   "metadata": {},
   "outputs": [],
   "source": [
    "weather.head()"
   ]
  },
  {
   "cell_type": "markdown",
   "metadata": {},
   "source": [
    "## Method 1: Vectorized Operations\n",
    "\n",
    "A vectorized operation is when you do a calculation on a whole column or columns at once. This is the preferred method as it is almost always the fastest, and it should be used whenever possible."
   ]
  },
  {
   "cell_type": "markdown",
   "metadata": {},
   "source": [
    "Example: Let's say we want to convert our high temperature, which is currently in degrees fahrenheit to degrees celsius. Recall that to convert from fahrenheit to celsius, subtract 32 and then multiple by 5/9."
   ]
  },
  {
   "cell_type": "code",
   "execution_count": null,
   "metadata": {},
   "outputs": [],
   "source": [
    "weather['High_Temp_Celsius'] = (weather['High_Temp'] - 32) * 5/9"
   ]
  },
  {
   "cell_type": "code",
   "execution_count": null,
   "metadata": {},
   "outputs": [],
   "source": [
    "weather.head()"
   ]
  },
  {
   "cell_type": "markdown",
   "metadata": {},
   "source": [
    "You can also create new columns by combining two or more other columns. Let's say we want to calcuate the range of temperature values."
   ]
  },
  {
   "cell_type": "code",
   "execution_count": null,
   "metadata": {},
   "outputs": [],
   "source": [
    "weather['Temp_Range'] = weather['High_Temp'] - weather['Low_Temp']"
   ]
  },
  {
   "cell_type": "markdown",
   "metadata": {},
   "source": [
    "You can even use a lot of numpy functions, which are vectorized."
   ]
  },
  {
   "cell_type": "code",
   "execution_count": null,
   "metadata": {},
   "outputs": [],
   "source": [
    "weather['Sqrt_Temp'] = np.sqrt(weather['High_Temp'])"
   ]
  },
  {
   "cell_type": "code",
   "execution_count": null,
   "metadata": {},
   "outputs": [],
   "source": [
    "weather.head()"
   ]
  },
  {
   "cell_type": "markdown",
   "metadata": {},
   "source": [
    "## Method 2: `.apply`"
   ]
  },
  {
   "cell_type": "markdown",
   "metadata": {},
   "source": [
    "You can use functions with `.apply`. Generally, `.apply` will be slower than using a vectorized solution."
   ]
  },
  {
   "cell_type": "code",
   "execution_count": null,
   "metadata": {},
   "outputs": [],
   "source": [
    "weather['Sqrt_Temp'] = weather['High_Temp'].apply(np.sqrt)"
   ]
  },
  {
   "cell_type": "markdown",
   "metadata": {},
   "source": [
    "You can also write your own functions and use them with `.apply`."
   ]
  },
  {
   "cell_type": "code",
   "execution_count": null,
   "metadata": {},
   "outputs": [],
   "source": [
    "def convert_fahrenheit_to_celsius(temp):\n",
    "    return (temp - 32) * 5/9"
   ]
  },
  {
   "cell_type": "code",
   "execution_count": null,
   "metadata": {},
   "outputs": [],
   "source": [
    "weather['Low_Temp_Celsius'] = weather['Low_Temp'].apply(convert_fahrenheit_to_celsius)"
   ]
  },
  {
   "cell_type": "code",
   "execution_count": null,
   "metadata": {},
   "outputs": [],
   "source": [
    "weather.head()"
   ]
  },
  {
   "cell_type": "markdown",
   "metadata": {},
   "source": [
    "## Method 2b: `.apply` with a lambda function."
   ]
  },
  {
   "cell_type": "markdown",
   "metadata": {},
   "source": [
    "Recall that a **lambda function** is an anonymous function. Lambda functions are useful if you need only need to use a function a single time.\n",
    "\n",
    "Generally, using `.apply` with a lambda function is even slower, so avoid it if possible."
   ]
  },
  {
   "cell_type": "code",
   "execution_count": null,
   "metadata": {},
   "outputs": [],
   "source": [
    "weather['Low_Temp_Celsius'] = weather['Low_Temp'].apply(lambda x: (x - 32) * 5/9)"
   ]
  },
  {
   "cell_type": "markdown",
   "metadata": {},
   "source": [
    "If you have a function that involves the values from two or more columns, you can use `.apply` with a lambda function in order to apply that function. In this case, you need to specify that you want to apply the function to the rows (axis = 1).\n",
    "\n",
    "Note: this is an example where you would definitely just use vectorized operations, but for more complicated/nontrivial operations on the columns, you may need to use the `.apply` approach"
   ]
  },
  {
   "cell_type": "code",
   "execution_count": null,
   "metadata": {},
   "outputs": [],
   "source": [
    "def difference(a, b):\n",
    "    return a - b"
   ]
  },
  {
   "cell_type": "code",
   "execution_count": null,
   "metadata": {},
   "outputs": [],
   "source": [
    "# Note the axis = 1 argument\n",
    "weather['Temp_Range'] = weather.apply(lambda row: difference(row['High_Temp'], row['Low_Temp']), axis = 1)"
   ]
  },
  {
   "cell_type": "code",
   "execution_count": null,
   "metadata": {},
   "outputs": [],
   "source": [
    "weather.head()"
   ]
  },
  {
   "cell_type": "markdown",
   "metadata": {},
   "source": [
    "# Method 3: Iteration\n",
    "\n",
    "Two ways to iterate through a dataframe are the `iterrows` and the `itertuples` methods.\n",
    "\n",
    "The first method, `iterrows` returns a tuple containing the index value of each row and the content of that row, as a `pandas` Series."
   ]
  },
  {
   "cell_type": "code",
   "execution_count": null,
   "metadata": {},
   "outputs": [],
   "source": [
    "for idx, row in weather.iterrows():\n",
    "    print(idx)\n",
    "    print(row)\n",
    "    print('-----------')"
   ]
  },
  {
   "cell_type": "markdown",
   "metadata": {},
   "source": [
    "Since the second component of this tuple is a Series, you can access its elements by slicing."
   ]
  },
  {
   "cell_type": "code",
   "execution_count": null,
   "metadata": {},
   "outputs": [],
   "source": [
    "for idx, row in weather.iterrows():\n",
    "    print('Date: {}'.format(row['Date']))\n",
    "    print('High Temperature: {}'.format(row['High_Temp']))\n",
    "    print('----------')"
   ]
  },
  {
   "cell_type": "markdown",
   "metadata": {},
   "source": [
    "The `itertuples` method is similar, but it instead returns a `namedtuple`. This makes it faster than `iterrows` in general."
   ]
  },
  {
   "cell_type": "code",
   "execution_count": null,
   "metadata": {},
   "outputs": [],
   "source": [
    "for item in weather.itertuples():\n",
    "    print(item)\n",
    "    print('------')"
   ]
  },
  {
   "cell_type": "markdown",
   "metadata": {},
   "source": [
    "Using either of this iteration methods, you can create a new calculated column. However, you should only use this as a last resort or if you are doing some operation for which vectorized operations or `.apply` will not work.\n",
    "\n",
    "Note that to access an element of a namedtuple, you need to use a . followed by the element."
   ]
  },
  {
   "cell_type": "code",
   "execution_count": null,
   "metadata": {},
   "outputs": [],
   "source": [
    "temp_range = []\n",
    "for row in weather.itertuples():\n",
    "    weather.loc[row.Index, \"Avg_Temp_Celsius\"] = (row.Avg_Temp - 32) * 5/9"
   ]
  },
  {
   "cell_type": "code",
   "execution_count": null,
   "metadata": {},
   "outputs": [],
   "source": [
    "weather.head()"
   ]
  }
 ],
 "metadata": {
  "kernelspec": {
   "display_name": "Python 3",
   "language": "python",
   "name": "python3"
  },
  "language_info": {
   "codemirror_mode": {
    "name": "ipython",
    "version": 3
   },
   "file_extension": ".py",
   "mimetype": "text/x-python",
   "name": "python",
   "nbconvert_exporter": "python",
   "pygments_lexer": "ipython3",
   "version": "3.8.3"
  }
 },
 "nbformat": 4,
 "nbformat_minor": 4
}
