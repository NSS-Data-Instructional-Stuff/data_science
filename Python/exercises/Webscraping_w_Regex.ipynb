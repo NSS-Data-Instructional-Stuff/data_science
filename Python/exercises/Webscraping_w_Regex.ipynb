{
 "cells": [
  {
   "cell_type": "markdown",
   "metadata": {},
   "source": [
    "## Webscraping Exercise\n",
    "\n",
    "The purpose of this exercise is to use *beautifulsoup* to extract out information from this article: https://www.usatoday.com/story/money/business/2018/09/13/mcdonalds-states-most-stores/37748287/.\n",
    "\n",
    "Unfortunately, the information we want is not stored in a table and is not formatted in a way that makes it easy to extract, so it will take some work before you can do any analysis.\n",
    "\n",
    "Your objective is to create a pandas DataFrame containing all 50 states and the four metrics from the article (number of McDonald's per 100,000, adult obesity rate, percent consuming vegetables less than daily, and median household income)."
   ]
  },
  {
   "cell_type": "code",
   "execution_count": null,
   "metadata": {},
   "outputs": [],
   "source": [
    "import requests\n",
    "from bs4 import BeautifulSoup\n",
    "import re\n",
    "import pandas as pd"
   ]
  },
  {
   "cell_type": "markdown",
   "metadata": {},
   "source": [
    "**Step 1: Use _requests_ to fetch the contents of the article and convert to soup with _BeautifulSoup_**"
   ]
  },
  {
   "cell_type": "code",
   "execution_count": null,
   "metadata": {},
   "outputs": [],
   "source": [
    "# Your code here  "
   ]
  },
  {
   "cell_type": "markdown",
   "metadata": {},
   "source": [
    "### Step 2: Extract State Names"
   ]
  },
  {
   "cell_type": "markdown",
   "metadata": {},
   "source": [
    "**A.** Using whatever method you would like, extract out the states as a list named `states`. Do this in the same order that they appear in the article."
   ]
  },
  {
   "cell_type": "code",
   "execution_count": null,
   "metadata": {},
   "outputs": [],
   "source": [
    "# Your code here"
   ]
  },
  {
   "cell_type": "markdown",
   "metadata": {},
   "source": [
    "**B.** Now, extract the other four variables as lists named `McD`, `obesity`, `veggies`, and `income`. Make sure that they are in the same order as states."
   ]
  },
  {
   "cell_type": "code",
   "execution_count": null,
   "metadata": {},
   "outputs": [],
   "source": [
    "# Your code here"
   ]
  },
  {
   "cell_type": "markdown",
   "metadata": {},
   "source": [
    "### Step 3: Convert the Result to a pandas DataFrame\n",
    "\n",
    "Once you have created a DataFrame, take a look at the results and see if there are any significant correlations between the variables."
   ]
  },
  {
   "cell_type": "code",
   "execution_count": null,
   "metadata": {},
   "outputs": [],
   "source": [
    "# Your code here"
   ]
  }
 ],
 "metadata": {
  "kernelspec": {
   "display_name": "Python 3",
   "language": "python",
   "name": "python3"
  },
  "language_info": {
   "codemirror_mode": {
    "name": "ipython",
    "version": 3
   },
   "file_extension": ".py",
   "mimetype": "text/x-python",
   "name": "python",
   "nbconvert_exporter": "python",
   "pygments_lexer": "ipython3",
   "version": "3.8.3"
  }
 },
 "nbformat": 4,
 "nbformat_minor": 2
}
