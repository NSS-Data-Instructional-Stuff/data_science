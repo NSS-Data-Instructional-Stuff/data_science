{
 "cells": [
  {
   "cell_type": "markdown",
   "metadata": {},
   "source": [
    "The purpose of this notebook is review some of the concepts related to writing functions that you encountered in the Data Science Toolkit course."
   ]
  },
  {
   "cell_type": "markdown",
   "metadata": {},
   "source": [
    "We'll start with writing a basic funtion.\n",
    "\n",
    "**Exercise 1:**\n",
    "\n",
    "Create a function named `convert_fahrenheit_to_celsius` that takes as input a temperature measured in degrees Fahrenheit and returns that temperature measured in degrees Celsius. \n",
    "\n",
    "    example input: 32\n",
    "    example output: 0\n",
    "    \n",
    "    example input: 212\n",
    "    example output: 100"
   ]
  },
  {
   "cell_type": "code",
   "execution_count": null,
   "metadata": {},
   "outputs": [],
   "source": [
    "# Your Code Here"
   ]
  },
  {
   "cell_type": "markdown",
   "metadata": {},
   "source": [
    "Now, we'll see how you can use functions to help you with a common task when doing data exploration - building plots. Quite often you will be creating a series of very similar plots, where a lot of the code is duplicated from plot to plot. This is a great opportunity to use functions in order to follow the Don't Repeat Yourself (DRY) principle."
   ]
  },
  {
   "cell_type": "code",
   "execution_count": null,
   "metadata": {},
   "outputs": [],
   "source": [
    "import pandas as pd\n",
    "import matplotlib.pyplot as plt"
   ]
  },
  {
   "cell_type": "code",
   "execution_count": null,
   "metadata": {},
   "outputs": [],
   "source": [
    "crashes = pd.read_csv('data/crashes_2018.csv')"
   ]
  },
  {
   "cell_type": "code",
   "execution_count": null,
   "metadata": {},
   "outputs": [],
   "source": [
    "crashes.head()"
   ]
  },
  {
   "cell_type": "code",
   "execution_count": null,
   "metadata": {},
   "outputs": [],
   "source": [
    "crashes.columns.values"
   ]
  },
  {
   "cell_type": "markdown",
   "metadata": {},
   "source": [
    "**Exercise 2:**\n",
    "Create a function named `make_histogram` which takes as input a column name and creates a histogram of the values from the `crashes` DataFrame from that column. Give the user the option to select a color for their histogram, but if no color is specified, the bars should be purple."
   ]
  },
  {
   "cell_type": "code",
   "execution_count": null,
   "metadata": {},
   "outputs": [],
   "source": [
    "# Your code here"
   ]
  },
  {
   "cell_type": "markdown",
   "metadata": {},
   "source": [
    "If we allow any value as input, we can get undesired behavior. For example, if the user inputs a non-numeric column, you may get a plot which does not make sense. If the user inputs a column which is not in the DataFrame, you can get an error. As much as possible, you should write your functions to fail gracefully.\n",
    "\n",
    "**Exercise 3:** If you have not done so already, add a way to validate the input to check that it is a valid numeric column. If not, a message should be returned telling the user that they have input an invalid value."
   ]
  },
  {
   "cell_type": "code",
   "execution_count": null,
   "metadata": {},
   "outputs": [],
   "source": [
    "# Your code here"
   ]
  },
  {
   "cell_type": "markdown",
   "metadata": {},
   "source": [
    "**Exercise 4:**\n",
    "If you have not already done so, modify your function so that the title includes the name of the column selected."
   ]
  },
  {
   "cell_type": "code",
   "execution_count": null,
   "metadata": {},
   "outputs": [],
   "source": [
    "# Your code here"
   ]
  },
  {
   "cell_type": "markdown",
   "metadata": {},
   "source": [
    "Histograms have many additional parameters. For example, `bins` can be used to change the number of bin or `density` can be used to return densities instead of counts.\n",
    "\n",
    "**Exercise 5:** Modify your function so that it can take as many of these additional arguments as the user wishes to pass in and modifies the plot accordingly."
   ]
  },
  {
   "cell_type": "code",
   "execution_count": null,
   "metadata": {},
   "outputs": [],
   "source": [
    "# Your code here"
   ]
  }
 ],
 "metadata": {
  "kernelspec": {
   "display_name": "Python 3",
   "language": "python",
   "name": "python3"
  },
  "language_info": {
   "codemirror_mode": {
    "name": "ipython",
    "version": 3
   },
   "file_extension": ".py",
   "mimetype": "text/x-python",
   "name": "python",
   "nbconvert_exporter": "python",
   "pygments_lexer": "ipython3",
   "version": "3.8.3"
  }
 },
 "nbformat": 4,
 "nbformat_minor": 4
}
