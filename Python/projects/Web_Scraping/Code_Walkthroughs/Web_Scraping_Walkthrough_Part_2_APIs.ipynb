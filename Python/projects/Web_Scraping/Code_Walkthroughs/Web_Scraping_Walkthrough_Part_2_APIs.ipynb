{
 "cells": [
  {
   "cell_type": "markdown",
   "metadata": {},
   "source": [
    "# Web Scraping Intro, Part 2: APIs\n",
    "\n",
    "An Application Programming Interface, or **API**, is a structured way to retrieve data from a website. Using an API is safer and easier than something like webscraping, since what you get back is already in a usable format. Many organizations use APIs like:\n",
    "- Government organizations ([US Government](https://www.data.gov/developers/apis))\n",
    "- Large companies ([Twitter API](https://developer.twitter.com/en/docs))\n",
    "- News organizations ([NYT API](https://developer.nytimes.com/))\n",
    "- And [many more](https://github.com/public-apis/public-apis)\n",
    "\n",
    "If you type \"how to use an api in python\" in google, you get back many articles walking through how to use an API. It is a well documented and useful tool to be familiar with.\n",
    "\n",
    "We can use the `requests` library to retrieve data from an API."
   ]
  },
  {
   "cell_type": "code",
   "execution_count": null,
   "metadata": {},
   "outputs": [],
   "source": [
    "import requests"
   ]
  },
  {
   "cell_type": "markdown",
   "metadata": {},
   "source": [
    "## Using the data.nashville.gov API"
   ]
  },
  {
   "cell_type": "markdown",
   "metadata": {},
   "source": [
    "The Nashville Open Data Portal provides an API for retrieveing data.\n",
    "\n",
    "Let's look at the traffic accidents data: https://data.nashville.gov/Police/Traffic-Accidents/6v6w-hpcw\n",
    "\n",
    "Notice that in the upper right corner there is an API button. \n",
    "\n",
    "You'll see that data.nashville.gov allows accessing many of their datasets through the Socrata Open Data API (SODA).\n",
    "\n",
    "Click on this and choose the **CSV** endpoint. Copy the url below."
   ]
  },
  {
   "cell_type": "code",
   "execution_count": null,
   "metadata": {},
   "outputs": [],
   "source": [
    "url = 'https://data.nashville.gov/resource/6v6w-hpcw.csv?'"
   ]
  },
  {
   "cell_type": "markdown",
   "metadata": {},
   "source": [
    "We can send a GET request to this url to fetch the associated csv."
   ]
  },
  {
   "cell_type": "code",
   "execution_count": null,
   "metadata": {},
   "outputs": [],
   "source": [
    "r = requests.get(url)"
   ]
  },
  {
   "cell_type": "markdown",
   "metadata": {},
   "source": [
    "Let's see that is returned."
   ]
  },
  {
   "cell_type": "code",
   "execution_count": null,
   "metadata": {},
   "outputs": [],
   "source": [
    "print(r.text[:1000])"
   ]
  },
  {
   "cell_type": "markdown",
   "metadata": {},
   "source": [
    "It is a string formatted like a csv file. If we want to convert this to a dataframe, we can do so using the StringIO method."
   ]
  },
  {
   "cell_type": "code",
   "execution_count": null,
   "metadata": {},
   "outputs": [],
   "source": [
    "import pandas as pd\n",
    "from io import StringIO"
   ]
  },
  {
   "cell_type": "code",
   "execution_count": null,
   "metadata": {},
   "outputs": [],
   "source": [
    "crashes = pd.read_csv(StringIO(r.text))\n",
    "crashes.head()"
   ]
  },
  {
   "cell_type": "markdown",
   "metadata": {},
   "source": [
    "Another way to make it work is to pass the url itself to `read_csv`."
   ]
  },
  {
   "cell_type": "code",
   "execution_count": null,
   "metadata": {},
   "outputs": [],
   "source": [
    "crashes = pd.read_csv(r.url)\n",
    "crashes.head()"
   ]
  },
  {
   "cell_type": "markdown",
   "metadata": {},
   "source": [
    "Finally, we can save the text as a csv file and then read it back in using pandas:"
   ]
  },
  {
   "cell_type": "code",
   "execution_count": null,
   "metadata": {},
   "outputs": [],
   "source": [
    "with open('crashes.csv', 'w') as fi:\n",
    "    fi.write(r.text)"
   ]
  },
  {
   "cell_type": "code",
   "execution_count": null,
   "metadata": {},
   "outputs": [],
   "source": [
    "crashes = pd.read_csv('crashes.csv')\n",
    "crashes.head()"
   ]
  },
  {
   "cell_type": "markdown",
   "metadata": {},
   "source": [
    "We can also request only a subset of the data. One way to do so is by adding additional parameters to the url.\n",
    "\n",
    "For example, let's say we want to look for hit and run crashes that happened near the Nashville Software School (zipcode 37217). We can encode these as a dictionary.\n",
    "\n",
    "See the [documentation](https://dev.socrata.com/foundry/data.nashville.gov/6v6w-hpcw) for more information about what parameters you can pass in."
   ]
  },
  {
   "cell_type": "code",
   "execution_count": null,
   "metadata": {},
   "outputs": [],
   "source": [
    "payload = {\n",
    "    'zip': '37217',\n",
    "    'hit_and_run': 'True'\n",
    "          }"
   ]
  },
  {
   "cell_type": "markdown",
   "metadata": {},
   "source": [
    "Then pass this dictionary to the `.get` request using the `params` argument."
   ]
  },
  {
   "cell_type": "code",
   "execution_count": null,
   "metadata": {},
   "outputs": [],
   "source": [
    "r = requests.get(url=url, params=payload)"
   ]
  },
  {
   "cell_type": "markdown",
   "metadata": {},
   "source": [
    "If you want to inspect the resulting url, you can access the response url attribute. You can see how the parameters we created are tacked onto the original url."
   ]
  },
  {
   "cell_type": "code",
   "execution_count": null,
   "metadata": {},
   "outputs": [],
   "source": [
    "print(r.url)"
   ]
  },
  {
   "cell_type": "code",
   "execution_count": null,
   "metadata": {},
   "outputs": [],
   "source": [
    "crashes = pd.read_csv(StringIO(r.text))\n",
    "crashes.head()"
   ]
  },
  {
   "cell_type": "markdown",
   "metadata": {},
   "source": [
    "We are somewhat limited in how we can filter our request by just using parameter. For more complicated types of queries, check out [SoQL](https://dev.socrata.com/docs/queries/), the Socrata Query Language. SoQL has many similarities to SQL.\n",
    "\n",
    "A request using SoQL might look like this:"
   ]
  },
  {
   "cell_type": "code",
   "execution_count": null,
   "metadata": {},
   "outputs": [],
   "source": [
    "url = \"https://data.nashville.gov/resource/6v6w-hpcw.csv?$where=date_and_time between '2019-01-10T12:00:00' and '2020-01-10T14:00:00' AND number_of_injuries > 0&$limit=2000\""
   ]
  },
  {
   "cell_type": "code",
   "execution_count": null,
   "metadata": {},
   "outputs": [],
   "source": [
    "r = requests.get(url)"
   ]
  },
  {
   "cell_type": "code",
   "execution_count": null,
   "metadata": {},
   "outputs": [],
   "source": [
    "crashes = pd.read_csv(StringIO(r.text))\n",
    "crashes.head()"
   ]
  }
 ],
 "metadata": {
  "kernelspec": {
   "display_name": "Python 3",
   "language": "python",
   "name": "python3"
  },
  "language_info": {
   "codemirror_mode": {
    "name": "ipython",
    "version": 3
   },
   "file_extension": ".py",
   "mimetype": "text/x-python",
   "name": "python",
   "nbconvert_exporter": "python",
   "pygments_lexer": "ipython3",
   "version": "3.8.3"
  }
 },
 "nbformat": 4,
 "nbformat_minor": 2
}
