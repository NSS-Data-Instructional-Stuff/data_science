{
 "cells": [
  {
   "cell_type": "markdown",
   "id": "21a51192",
   "metadata": {},
   "source": [
    "## DBSCAN - Digits Exercise"
   ]
  },
  {
   "cell_type": "code",
   "execution_count": 1,
   "id": "36eb5335",
   "metadata": {},
   "outputs": [],
   "source": [
    "import pandas as pd\n",
    "from sklearn.datasets import load_digits\n",
    "import matplotlib.pyplot as plt\n",
    "\n",
    "from sklearn.pipeline import Pipeline\n",
    "from sklearn.preprocessing import MinMaxScaler\n",
    "\n",
    "from sklearn.cluster import DBSCAN\n",
    "\n",
    "from scipy.spatial.distance import pdist"
   ]
  },
  {
   "cell_type": "markdown",
   "id": "fc94106e",
   "metadata": {},
   "source": [
    "For this exercise, you'll be working with the digits dataset from sklearn. These are 8x8 handwritten digits. "
   ]
  },
  {
   "cell_type": "code",
   "execution_count": 2,
   "id": "b2ca166b",
   "metadata": {},
   "outputs": [
    {
     "data": {
      "text/plain": [
       "dict_keys(['data', 'target', 'frame', 'feature_names', 'target_names', 'images', 'DESCR'])"
      ]
     },
     "execution_count": 2,
     "metadata": {},
     "output_type": "execute_result"
    }
   ],
   "source": [
    "digits = load_digits(as_frame = True)\n",
    "\n",
    "digits.keys()"
   ]
  },
  {
   "cell_type": "markdown",
   "id": "98c37fc6",
   "metadata": {},
   "source": [
    "We can make use of matplotlib to visualize each image. Try changing the value of `i` below to view different examples."
   ]
  },
  {
   "cell_type": "code",
   "execution_count": 3,
   "id": "ab5deb23",
   "metadata": {},
   "outputs": [
    {
     "name": "stdout",
     "output_type": "stream",
     "text": [
      "Label: 8\n"
     ]
    },
    {
     "data": {
      "image/png": "[encoded data removed]",
      "text/plain": [
       "<Figure size 432x288 with 1 Axes>"
      ]
     },
     "metadata": {
      "needs_background": "light"
     },
     "output_type": "display_data"
    }
   ],
   "source": [
    "i = 18\n",
    "\n",
    "print(f'Label: {digits[\"target\"][i]}')\n",
    "plt.imshow(digits['images'][i], cmap = 'Greys');"
   ]
  },
  {
   "cell_type": "markdown",
   "id": "f8ca1164",
   "metadata": {},
   "source": [
    "**Question 1:** What is the dimensionality of this dataset? That is, how many variables do we have?"
   ]
  },
  {
   "cell_type": "markdown",
   "id": "dedd65ce",
   "metadata": {},
   "source": [
    "In this notebook, we'll take a simple approach to measure similarity of images - the [Euclidean distance](https://en.wikipedia.org/wiki/Euclidean_distance), which is the normal distance formula from high school algebra but extended to more than 2 dimensions.\n",
    "\n",
    "Let's start by getting an idea about the typical distance between observations.\n",
    "\n",
    "Currently, the values are between 0 and 255. Let's rescale so that the observations are between 0 and 1 using a MinMaxScaler and then compute distances using the `pdist` function from scipy."
   ]
  },
  {
   "cell_type": "code",
   "execution_count": 4,
   "id": "7d542559",
   "metadata": {},
   "outputs": [],
   "source": [
    "distances = pdist(MinMaxScaler().fit_transform(digits['data']))"
   ]
  },
  {
   "cell_type": "markdown",
   "id": "8f9ea055",
   "metadata": {},
   "source": [
    "If we want to look at the distribution, it might help to convert to a pandas Series."
   ]
  },
  {
   "cell_type": "code",
   "execution_count": 5,
   "id": "2bb17fd2",
   "metadata": {},
   "outputs": [],
   "source": [
    "distances = pd.Series(distances)"
   ]
  },
  {
   "cell_type": "markdown",
   "id": "feda07ec",
   "metadata": {},
   "source": [
    "**Question 2:** Look at the distribution of distances. What do you notice?"
   ]
  },
  {
   "cell_type": "code",
   "execution_count": 6,
   "id": "8d1ba054",
   "metadata": {},
   "outputs": [
    {
     "data": {
      "text/plain": [
       "count    1.613706e+06\n",
       "mean     3.046336e+00\n",
       "std      5.153044e-01\n",
       "min      3.307189e-01\n",
       "25%      2.759489e+00\n",
       "50%      3.091501e+00\n",
       "75%      3.396751e+00\n",
       "max      4.866015e+00\n",
       "dtype: float64"
      ]
     },
     "execution_count": 6,
     "metadata": {},
     "output_type": "execute_result"
    }
   ],
   "source": [
    "distances.describe()"
   ]
  },
  {
   "cell_type": "code",
   "execution_count": 7,
   "id": "1c3596f6",
   "metadata": {},
   "outputs": [
    {
     "data": {
      "image/png": "[encoded data removed]",
      "text/plain": [
       "<Figure size 432x288 with 1 Axes>"
      ]
     },
     "metadata": {
      "needs_background": "light"
     },
     "output_type": "display_data"
    }
   ],
   "source": [
    "pd.Series(distances).hist();"
   ]
  },
  {
   "cell_type": "markdown",
   "id": "681671a1",
   "metadata": {},
   "source": [
    "Now, let's apply the DBSCAN algorithm to our dataset.\n",
    "\n",
    "It might be helpful to refer to the documentation: https://scikit-learn.org/stable/modules/generated/sklearn.cluster.DBSCAN.html"
   ]
  },
  {
   "cell_type": "markdown",
   "id": "6d3cca69",
   "metadata": {},
   "source": [
    "Let's start with the default value for `eps`, 0.5."
   ]
  },
  {
   "cell_type": "code",
   "execution_count": 8,
   "id": "1749e2b7",
   "metadata": {},
   "outputs": [
    {
     "data": {
      "text/plain": [
       "Pipeline(steps=[('scale', MinMaxScaler()), ('cluster', DBSCAN())])"
      ]
     },
     "execution_count": 8,
     "metadata": {},
     "output_type": "execute_result"
    }
   ],
   "source": [
    "pipe = Pipeline(\n",
    "    steps = [\n",
    "        ('scale', MinMaxScaler()),\n",
    "        ('cluster', DBSCAN(eps = 0.5))\n",
    "    ]\n",
    ")\n",
    "\n",
    "pipe.fit(digits['data'])"
   ]
  },
  {
   "cell_type": "markdown",
   "id": "3b510fed",
   "metadata": {},
   "source": [
    "After running the algorithm, we can look at the distribution of labels.\n",
    "\n",
    "**Question 3:** What do you notice about the labels for this setting of eps? Why does this happen?"
   ]
  },
  {
   "cell_type": "code",
   "execution_count": 9,
   "id": "ad14820f",
   "metadata": {},
   "outputs": [
    {
     "data": {
      "text/plain": [
       "-1    1797\n",
       "dtype: int64"
      ]
     },
     "execution_count": 9,
     "metadata": {},
     "output_type": "execute_result"
    }
   ],
   "source": [
    "pd.Series(pipe['cluster'].labels_).value_counts()"
   ]
  },
  {
   "cell_type": "markdown",
   "id": "8399fa22",
   "metadata": {},
   "source": [
    "Now, let's adjust the value of eps up."
   ]
  },
  {
   "cell_type": "code",
   "execution_count": 10,
   "id": "f735155b",
   "metadata": {},
   "outputs": [
    {
     "data": {
      "text/plain": [
       "-1     1429\n",
       " 0       94\n",
       " 3       56\n",
       " 5       50\n",
       " 2       30\n",
       " 13      14\n",
       " 6       11\n",
       " 22      10\n",
       " 1        8\n",
       " 12       8\n",
       " 20       7\n",
       " 18       6\n",
       " 19       6\n",
       " 24       6\n",
       " 14       6\n",
       " 23       5\n",
       " 17       5\n",
       " 16       5\n",
       " 11       5\n",
       " 25       5\n",
       " 9        5\n",
       " 8        5\n",
       " 7        5\n",
       " 4        5\n",
       " 21       5\n",
       " 10       3\n",
       " 15       3\n",
       "dtype: int64"
      ]
     },
     "execution_count": 10,
     "metadata": {},
     "output_type": "execute_result"
    }
   ],
   "source": [
    "pipe = Pipeline(\n",
    "    steps = [\n",
    "        ('scale', MinMaxScaler()),\n",
    "        ('cluster', DBSCAN(eps = 1))\n",
    "    ]\n",
    ")\n",
    "\n",
    "pipe.fit(digits['data'])\n",
    "\n",
    "pd.Series(pipe['cluster'].labels_).value_counts()"
   ]
  },
  {
   "cell_type": "markdown",
   "id": "41c97677",
   "metadata": {},
   "source": [
    "Let's look at the images for some of the smaller clusters to see if the result looks plausible."
   ]
  },
  {
   "cell_type": "code",
   "execution_count": 11,
   "id": "335f0931",
   "metadata": {},
   "outputs": [
    {
     "ename": "SyntaxError",
     "evalue": "invalid syntax (2755001909.py, line 2)",
     "output_type": "error",
     "traceback": [
      "\u001b[0;36m  File \u001b[0;32m\"/tmp/ipykernel_69201/2755001909.py\"\u001b[0;36m, line \u001b[0;32m2\u001b[0m\n\u001b[0;31m    )].index.to_list()\u001b[0m\n\u001b[0m    ^\u001b[0m\n\u001b[0;31mSyntaxError\u001b[0m\u001b[0;31m:\u001b[0m invalid syntax\n"
     ]
    }
   ],
   "source": [
    "digits['data'][(pipe['cluster'].labels_ == # Put in the cluster number of one of the smaller clusters here\n",
    "               )].index.to_list()"
   ]
  },
  {
   "cell_type": "code",
   "execution_count": 12,
   "id": "fe9595e9",
   "metadata": {},
   "outputs": [
    {
     "data": {
      "text/plain": [
       "[338, 989, 1183]"
      ]
     },
     "execution_count": 12,
     "metadata": {},
     "output_type": "execute_result"
    }
   ],
   "source": [
    "digits['data'][(pipe['cluster'].labels_ == 15\n",
    "               )].index.to_list()"
   ]
  },
  {
   "cell_type": "code",
   "execution_count": 15,
   "id": "e5e93fde",
   "metadata": {},
   "outputs": [
    {
     "name": "stdout",
     "output_type": "stream",
     "text": [
      "Label: 6\n"
     ]
    },
    {
     "data": {
      "image/png": "[encoded data removed]",
      "text/plain": [
       "<Figure size 432x288 with 1 Axes>"
      ]
     },
     "metadata": {
      "needs_background": "light"
     },
     "output_type": "display_data"
    }
   ],
   "source": [
    "i = 1183\n",
    "\n",
    "print(f'Label: {digits[\"target\"][i]}')\n",
    "plt.imshow(digits['images'][i], cmap = 'Greys');"
   ]
  },
  {
   "cell_type": "markdown",
   "id": "31ec10a5",
   "metadata": {},
   "source": [
    "Now, vary the value of eps and watch how the different digits get clustered together. \n",
    "\n",
    "**Question 4:** What do you notice as you vary the value of eps? Do digits tend to be correctly clustered together? "
   ]
  },
  {
   "cell_type": "code",
   "execution_count": null,
   "id": "8336b2fe",
   "metadata": {},
   "outputs": [],
   "source": [
    "pipe = Pipeline(\n",
    "    steps = [\n",
    "        ('scale', MinMaxScaler()),\n",
    "        ('cluster', DBSCAN(eps = # Adjust this and observe who the target/cluster distribution changes\n",
    "                          ))\n",
    "    ]\n",
    ")\n",
    "\n",
    "pipe.fit(digits['data'])\n",
    "\n",
    "pd.DataFrame({\n",
    "    'target': digits['target'],\n",
    "    'cluster': pipe['cluster'].labels_\n",
    "}).groupby(['cluster'])['target'].value_counts()"
   ]
  },
  {
   "cell_type": "code",
   "execution_count": 16,
   "id": "ea7acb34",
   "metadata": {},
   "outputs": [
    {
     "data": {
      "text/plain": [
       "cluster  target\n",
       "-1       8         116\n",
       "         5          85\n",
       "         9          78\n",
       "         3          53\n",
       "         2          49\n",
       "         7          48\n",
       "         4          43\n",
       "         1          18\n",
       "         6          11\n",
       "         0          10\n",
       " 0       0         168\n",
       " 1       1          86\n",
       "         8          22\n",
       "         6           1\n",
       " 2       3         122\n",
       " 3       6         169\n",
       "         5           1\n",
       " 4       1          52\n",
       " 5       4         138\n",
       " 6       2         114\n",
       " 7       5          47\n",
       " 8       7         121\n",
       " 9       5          32\n",
       " 10      9          85\n",
       " 11      8          17\n",
       " 12      9          12\n",
       " 13      2           5\n",
       " 14      7          10\n",
       " 15      5           7\n",
       " 16      9           5\n",
       " 17      1          26\n",
       " 18      8           7\n",
       " 19      3           8\n",
       " 20      2           5\n",
       " 21      8           7\n",
       " 22      5           5\n",
       " 23      8           5\n",
       " 24      5           5\n",
       " 25      2           4\n",
       "Name: target, dtype: int64"
      ]
     },
     "execution_count": 16,
     "metadata": {},
     "output_type": "execute_result"
    }
   ],
   "source": [
    "pipe = Pipeline(\n",
    "    steps = [\n",
    "        ('scale', MinMaxScaler()),\n",
    "        ('cluster', DBSCAN(eps = 1.25\n",
    "                          ))\n",
    "    ]\n",
    ")\n",
    "\n",
    "pipe.fit(digits['data'])\n",
    "\n",
    "pd.DataFrame({\n",
    "    'target': digits['target'],\n",
    "    'cluster': pipe['cluster'].labels_\n",
    "}).groupby(['cluster'])['target'].value_counts()"
   ]
  },
  {
   "cell_type": "markdown",
   "id": "5222a143",
   "metadata": {},
   "source": [
    "You can use the following cell to identify the index of anything that looks odd."
   ]
  },
  {
   "cell_type": "code",
   "execution_count": 20,
   "id": "6275820d",
   "metadata": {},
   "outputs": [
    {
     "data": {
      "text/html": [
       "<div>\n",
       "<style scoped>\n",
       "    .dataframe tbody tr th:only-of-type {\n",
       "        vertical-align: middle;\n",
       "    }\n",
       "\n",
       "    .dataframe tbody tr th {\n",
       "        vertical-align: top;\n",
       "    }\n",
       "\n",
       "    .dataframe thead th {\n",
       "        text-align: right;\n",
       "    }\n",
       "</style>\n",
       "<table border=\"1\" class=\"dataframe\">\n",
       "  <thead>\n",
       "    <tr style=\"text-align: right;\">\n",
       "      <th></th>\n",
       "      <th>target</th>\n",
       "      <th>cluster</th>\n",
       "    </tr>\n",
       "  </thead>\n",
       "  <tbody>\n",
       "    <tr>\n",
       "      <th>1</th>\n",
       "      <td>1</td>\n",
       "      <td>1</td>\n",
       "    </tr>\n",
       "    <tr>\n",
       "      <th>93</th>\n",
       "      <td>1</td>\n",
       "      <td>1</td>\n",
       "    </tr>\n",
       "    <tr>\n",
       "      <th>99</th>\n",
       "      <td>1</td>\n",
       "      <td>1</td>\n",
       "    </tr>\n",
       "    <tr>\n",
       "      <th>257</th>\n",
       "      <td>1</td>\n",
       "      <td>1</td>\n",
       "    </tr>\n",
       "    <tr>\n",
       "      <th>277</th>\n",
       "      <td>1</td>\n",
       "      <td>1</td>\n",
       "    </tr>\n",
       "    <tr>\n",
       "      <th>...</th>\n",
       "      <td>...</td>\n",
       "      <td>...</td>\n",
       "    </tr>\n",
       "    <tr>\n",
       "      <th>1752</th>\n",
       "      <td>1</td>\n",
       "      <td>1</td>\n",
       "    </tr>\n",
       "    <tr>\n",
       "      <th>1757</th>\n",
       "      <td>1</td>\n",
       "      <td>1</td>\n",
       "    </tr>\n",
       "    <tr>\n",
       "      <th>1760</th>\n",
       "      <td>1</td>\n",
       "      <td>1</td>\n",
       "    </tr>\n",
       "    <tr>\n",
       "      <th>1766</th>\n",
       "      <td>1</td>\n",
       "      <td>1</td>\n",
       "    </tr>\n",
       "    <tr>\n",
       "      <th>1774</th>\n",
       "      <td>1</td>\n",
       "      <td>1</td>\n",
       "    </tr>\n",
       "  </tbody>\n",
       "</table>\n",
       "<p>86 rows × 2 columns</p>\n",
       "</div>"
      ],
      "text/plain": [
       "      target  cluster\n",
       "1          1        1\n",
       "93         1        1\n",
       "99         1        1\n",
       "257        1        1\n",
       "277        1        1\n",
       "...      ...      ...\n",
       "1752       1        1\n",
       "1757       1        1\n",
       "1760       1        1\n",
       "1766       1        1\n",
       "1774       1        1\n",
       "\n",
       "[86 rows x 2 columns]"
      ]
     },
     "execution_count": 20,
     "metadata": {},
     "output_type": "execute_result"
    }
   ],
   "source": [
    "pd.DataFrame({\n",
    "    'target': digits['target'],\n",
    "    'cluster': pipe['cluster'].labels_\n",
    "}).query('cluster == 1 and target == 1')"
   ]
  },
  {
   "cell_type": "code",
   "execution_count": 21,
   "id": "731c402e",
   "metadata": {},
   "outputs": [
    {
     "name": "stdout",
     "output_type": "stream",
     "text": [
      "Label: 1\n"
     ]
    },
    {
     "data": {
      "image/png": "[encoded data removed]",
      "text/plain": [
       "<Figure size 432x288 with 1 Axes>"
      ]
     },
     "metadata": {
      "needs_background": "light"
     },
     "output_type": "display_data"
    }
   ],
   "source": [
    "i = 1774\n",
    "\n",
    "print(f'Label: {digits[\"target\"][i]}')\n",
    "plt.imshow(digits['images'][i], cmap = 'Greys');"
   ]
  },
  {
   "cell_type": "markdown",
   "id": "015afac0",
   "metadata": {},
   "source": [
    "Finally, adjust the value of eps until you have only a small number of outliers."
   ]
  },
  {
   "cell_type": "code",
   "execution_count": 186,
   "id": "a33e3841",
   "metadata": {},
   "outputs": [
    {
     "ename": "SyntaxError",
     "evalue": "invalid syntax (1877545734.py, line 5)",
     "output_type": "error",
     "traceback": [
      "\u001b[0;36m  File \u001b[0;32m\"/tmp/ipykernel_12348/1877545734.py\"\u001b[0;36m, line \u001b[0;32m5\u001b[0m\n\u001b[0;31m    ))\u001b[0m\n\u001b[0m    ^\u001b[0m\n\u001b[0;31mSyntaxError\u001b[0m\u001b[0;31m:\u001b[0m invalid syntax\n"
     ]
    }
   ],
   "source": [
    "pipe = Pipeline(\n",
    "    steps = [\n",
    "        ('scale', MinMaxScaler()),\n",
    "        ('cluster', DBSCAN(eps = # Adjust this until you have only a small number of outlier points \n",
    "                          ))\n",
    "    ]\n",
    ")\n",
    "\n",
    "pipe.fit(digits['data'])\n",
    "\n",
    "pd.Series(pipe['cluster'].labels_).value_counts()"
   ]
  },
  {
   "cell_type": "code",
   "execution_count": 231,
   "id": "e0527c22",
   "metadata": {},
   "outputs": [
    {
     "data": {
      "text/plain": [
       " 0    1793\n",
       "-1       4\n",
       "dtype: int64"
      ]
     },
     "execution_count": 231,
     "metadata": {},
     "output_type": "execute_result"
    }
   ],
   "source": [
    "pipe = Pipeline(\n",
    "    steps = [\n",
    "        ('scale', MinMaxScaler()),\n",
    "        ('cluster', DBSCAN(eps = 2\n",
    "                          ))\n",
    "    ]\n",
    ")\n",
    "\n",
    "pipe.fit(digits['data'])\n",
    "\n",
    "pd.Series(pipe['cluster'].labels_).value_counts()"
   ]
  },
  {
   "cell_type": "code",
   "execution_count": 232,
   "id": "e879a329",
   "metadata": {},
   "outputs": [
    {
     "data": {
      "text/plain": [
       "[502, 988, 1149, 1264]"
      ]
     },
     "execution_count": 232,
     "metadata": {},
     "output_type": "execute_result"
    }
   ],
   "source": [
    "digits['data'][(pipe['cluster'].labels_ == -1\n",
    "               )].index.to_list()"
   ]
  },
  {
   "cell_type": "code",
   "execution_count": 234,
   "id": "3a5fcac0",
   "metadata": {},
   "outputs": [
    {
     "name": "stdout",
     "output_type": "stream",
     "text": [
      "Label: 8\n"
     ]
    },
    {
     "data": {
      "image/png": "[encoded data removed]",
      "text/plain": [
       "<Figure size 432x288 with 1 Axes>"
      ]
     },
     "metadata": {
      "needs_background": "light"
     },
     "output_type": "display_data"
    }
   ],
   "source": [
    "i = 1149\n",
    "\n",
    "print(f'Label: {digits[\"target\"][i]}')\n",
    "plt.imshow(digits['images'][i], cmap = 'Greys');"
   ]
  },
  {
   "cell_type": "markdown",
   "id": "7103c7bd",
   "metadata": {},
   "source": [
    "**Question 5:** What might be some downsides to using the Euclidean distance on this dataset?"
   ]
  }
 ],
 "metadata": {
  "kernelspec": {
   "display_name": "Python 3 (ipykernel)",
   "language": "python",
   "name": "python3"
  },
  "language_info": {
   "codemirror_mode": {
    "name": "ipython",
    "version": 3
   },
   "file_extension": ".py",
   "mimetype": "text/x-python",
   "name": "python",
   "nbconvert_exporter": "python",
   "pygments_lexer": "ipython3",
   "version": "3.8.3"
  }
 },
 "nbformat": 4,
 "nbformat_minor": 5
}
