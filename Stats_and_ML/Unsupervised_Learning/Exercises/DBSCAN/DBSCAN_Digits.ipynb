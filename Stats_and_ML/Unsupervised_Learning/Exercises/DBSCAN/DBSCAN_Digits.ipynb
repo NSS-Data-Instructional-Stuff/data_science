{
 "cells": [
  {
   "cell_type": "markdown",
   "id": "21a51192",
   "metadata": {},
   "source": [
    "## DBSCAN - Digits Exercise"
   ]
  },
  {
   "cell_type": "code",
   "execution_count": null,
   "id": "36eb5335",
   "metadata": {},
   "outputs": [],
   "source": [
    "import pandas as pd\n",
    "from sklearn.datasets import load_digits\n",
    "import matplotlib.pyplot as plt\n",
    "\n",
    "from sklearn.pipeline import Pipeline\n",
    "from sklearn.preprocessing import MinMaxScaler\n",
    "\n",
    "from sklearn.cluster import DBSCAN\n",
    "\n",
    "from scipy.spatial.distance import pdist"
   ]
  },
  {
   "cell_type": "markdown",
   "id": "fc94106e",
   "metadata": {},
   "source": [
    "For this exercise, you'll be working with the digits dataset from sklearn. These are 8x8 handwritten digits. \n",
    "\n",
    "The `load_digits` function returns the digits and other metadata as a dictionary."
   ]
  },
  {
   "cell_type": "code",
   "execution_count": null,
   "id": "b2ca166b",
   "metadata": {},
   "outputs": [],
   "source": [
    "digits = load_digits(as_frame = True)\n",
    "\n",
    "digits.keys()"
   ]
  },
  {
   "cell_type": "markdown",
   "id": "98c37fc6",
   "metadata": {},
   "source": [
    "We can make use of matplotlib to visualize each image. Try changing the value of `i` below to view different examples."
   ]
  },
  {
   "cell_type": "code",
   "execution_count": null,
   "id": "ab5deb23",
   "metadata": {},
   "outputs": [],
   "source": [
    "i = 13\n",
    "\n",
    "print(f'Label: {digits[\"target\"][i]}')\n",
    "plt.imshow(digits['images'][i], cmap = 'Greys');"
   ]
  },
  {
   "cell_type": "markdown",
   "id": "f8ca1164",
   "metadata": {},
   "source": [
    "**Question 1:** We'll be working with `digits['data']`. What is the dimensionality of this dataset? That is, how many variables do we have?"
   ]
  },
  {
   "cell_type": "markdown",
   "id": "dedd65ce",
   "metadata": {},
   "source": [
    "In this notebook, we'll take a simple approach to measure similarity of images - the [Euclidean distance](https://en.wikipedia.org/wiki/Euclidean_distance), which is the normal distance formula from high school algebra but extended to more than 2 dimensions.\n",
    "\n",
    "Let's start by getting an idea about the typical distance between observations.\n",
    "\n",
    "Currently, the values are between 0 and 255. Let's rescale so that the observations are between 0 and 1 using a MinMaxScaler and then compute distances using the `pdist` function from scipy."
   ]
  },
  {
   "cell_type": "code",
   "execution_count": null,
   "id": "7d542559",
   "metadata": {},
   "outputs": [],
   "source": [
    "distances = pdist(MinMaxScaler().fit_transform(digits['data']))"
   ]
  },
  {
   "cell_type": "markdown",
   "id": "8f9ea055",
   "metadata": {},
   "source": [
    "If we want to look at the distribution, it might help to convert the result to a pandas Series."
   ]
  },
  {
   "cell_type": "code",
   "execution_count": null,
   "id": "2bb17fd2",
   "metadata": {},
   "outputs": [],
   "source": [
    "distances = pd.Series(distances)"
   ]
  },
  {
   "cell_type": "markdown",
   "id": "feda07ec",
   "metadata": {},
   "source": [
    "**Question 2:** Look at the distribution of distances. What do you notice?"
   ]
  },
  {
   "cell_type": "code",
   "execution_count": null,
   "id": "8d1ba054",
   "metadata": {},
   "outputs": [],
   "source": [
    "# Your Code Here"
   ]
  },
  {
   "cell_type": "markdown",
   "id": "681671a1",
   "metadata": {},
   "source": [
    "Now, let's apply the DBSCAN algorithm to our dataset.\n",
    "\n",
    "It might be helpful to refer to the documentation: https://scikit-learn.org/stable/modules/generated/sklearn.cluster.DBSCAN.html"
   ]
  },
  {
   "cell_type": "markdown",
   "id": "6d3cca69",
   "metadata": {},
   "source": [
    "Let's start with the default value for `eps`, 0.5. Note that we're using a pipeline so that we can scale our points before clustering."
   ]
  },
  {
   "cell_type": "code",
   "execution_count": null,
   "id": "1749e2b7",
   "metadata": {},
   "outputs": [],
   "source": [
    "pipe = Pipeline(\n",
    "    steps = [\n",
    "        ('scale', MinMaxScaler()),\n",
    "        ('cluster', DBSCAN(eps = 0.5))\n",
    "    ]\n",
    ")\n",
    "\n",
    "pipe.fit(digits['data'])"
   ]
  },
  {
   "cell_type": "markdown",
   "id": "3b510fed",
   "metadata": {},
   "source": [
    "After running the algorithm, we can look at the distribution of labels.\n",
    "\n",
    "**Question 3:** What do you notice about the labels for this setting of eps? Why does this happen? Hint: you may need to refer to the documentation to understand the meaning of the labels you get."
   ]
  },
  {
   "cell_type": "code",
   "execution_count": null,
   "id": "ad14820f",
   "metadata": {},
   "outputs": [],
   "source": [
    "pd.Series(pipe['cluster'].labels_).value_counts()"
   ]
  },
  {
   "cell_type": "markdown",
   "id": "8399fa22",
   "metadata": {},
   "source": [
    "Now, let's adjust the value of eps up."
   ]
  },
  {
   "cell_type": "code",
   "execution_count": null,
   "id": "f735155b",
   "metadata": {},
   "outputs": [],
   "source": [
    "pipe = Pipeline(\n",
    "    steps = [\n",
    "        ('scale', MinMaxScaler()),\n",
    "        ('cluster', DBSCAN(eps = 1))\n",
    "    ]\n",
    ")\n",
    "\n",
    "pipe.fit(digits['data'])\n",
    "\n",
    "pd.Series(pipe['cluster'].labels_).value_counts()"
   ]
  },
  {
   "cell_type": "markdown",
   "id": "41c97677",
   "metadata": {},
   "source": [
    "Let's look at the images for some of the smaller clusters to see if the result looks plausible."
   ]
  },
  {
   "cell_type": "code",
   "execution_count": null,
   "id": "335f0931",
   "metadata": {},
   "outputs": [],
   "source": [
    "digits['data'][(pipe['cluster'].labels_ == # Put in the cluster number of one of the smaller clusters here\n",
    "               )].index.to_list()"
   ]
  },
  {
   "cell_type": "code",
   "execution_count": null,
   "id": "e5e93fde",
   "metadata": {},
   "outputs": [],
   "source": [
    "i = # Use values from one of your clusters here\n",
    "\n",
    "print(f'Label: {digits[\"target\"][i]}')\n",
    "plt.imshow(digits['images'][i], cmap = 'Greys');"
   ]
  },
  {
   "cell_type": "markdown",
   "id": "31ec10a5",
   "metadata": {},
   "source": [
    "Now, vary the value of eps and watch how the different digits get clustered together. \n",
    "\n",
    "**Question 4:** What do you notice as you vary the value of eps? Do digits tend to be correctly clustered together? "
   ]
  },
  {
   "cell_type": "code",
   "execution_count": null,
   "id": "8336b2fe",
   "metadata": {},
   "outputs": [],
   "source": [
    "pipe = Pipeline(\n",
    "    steps = [\n",
    "        ('scale', MinMaxScaler()),\n",
    "        ('cluster', DBSCAN(eps = # Adjust this and observe who the target/cluster distribution changes\n",
    "                          ))\n",
    "    ]\n",
    ")\n",
    "\n",
    "pipe.fit(digits['data'])\n",
    "\n",
    "pd.DataFrame({\n",
    "    'target': digits['target'],\n",
    "    'cluster': pipe['cluster'].labels_\n",
    "}).groupby(['cluster'])['target'].value_counts()"
   ]
  },
  {
   "cell_type": "markdown",
   "id": "5222a143",
   "metadata": {},
   "source": [
    "Look at see which target values end up clustered together. You can use the following cell to identify the index of anything that looks odd."
   ]
  },
  {
   "cell_type": "code",
   "execution_count": null,
   "id": "6275820d",
   "metadata": {},
   "outputs": [],
   "source": [
    "pd.DataFrame({\n",
    "    'target': digits['target'],\n",
    "    'cluster': pipe['cluster'].labels_\n",
    "}).query('cluster == _ and target == _')"
   ]
  },
  {
   "cell_type": "code",
   "execution_count": null,
   "id": "731c402e",
   "metadata": {},
   "outputs": [],
   "source": [
    "i = # Add the index of any unusual points here\n",
    "\n",
    "print(f'Label: {digits[\"target\"][i]}')\n",
    "plt.imshow(digits['images'][i], cmap = 'Greys');"
   ]
  },
  {
   "cell_type": "markdown",
   "id": "015afac0",
   "metadata": {},
   "source": [
    "Finally, adjust the value of eps until you have only a small number of outliers. Once you do that, take a look at the noise/outlier point."
   ]
  },
  {
   "cell_type": "code",
   "execution_count": null,
   "id": "a33e3841",
   "metadata": {},
   "outputs": [],
   "source": [
    "pipe = Pipeline(\n",
    "    steps = [\n",
    "        ('scale', MinMaxScaler()),\n",
    "        ('cluster', DBSCAN(eps = # Adjust this until you have only a small number of outlier points \n",
    "                          ))\n",
    "    ]\n",
    ")\n",
    "\n",
    "pipe.fit(digits['data'])\n",
    "\n",
    "pd.Series(pipe['cluster'].labels_).value_counts()"
   ]
  },
  {
   "cell_type": "code",
   "execution_count": null,
   "id": "e879a329",
   "metadata": {},
   "outputs": [],
   "source": [
    "digits['data'][(pipe['cluster'].labels_ == -1\n",
    "               )].index.to_list()"
   ]
  },
  {
   "cell_type": "code",
   "execution_count": null,
   "id": "3a5fcac0",
   "metadata": {},
   "outputs": [],
   "source": [
    "i = # Add in the index of one of the outlier points here\n",
    "\n",
    "print(f'Label: {digits[\"target\"][i]}')\n",
    "plt.imshow(digits['images'][i], cmap = 'Greys');"
   ]
  },
  {
   "cell_type": "markdown",
   "id": "7103c7bd",
   "metadata": {},
   "source": [
    "**Question 5:** What might be some downsides to using the Euclidean distance on this dataset?"
   ]
  }
 ],
 "metadata": {
  "kernelspec": {
   "display_name": "Python 3 (ipykernel)",
   "language": "python",
   "name": "python3"
  },
  "language_info": {
   "codemirror_mode": {
    "name": "ipython",
    "version": 3
   },
   "file_extension": ".py",
   "mimetype": "text/x-python",
   "name": "python",
   "nbconvert_exporter": "python",
   "pygments_lexer": "ipython3",
   "version": "3.8.3"
  }
 },
 "nbformat": 4,
 "nbformat_minor": 5
}
