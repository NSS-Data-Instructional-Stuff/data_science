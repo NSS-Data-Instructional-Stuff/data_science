{
 "cells": [
  {
   "cell_type": "code",
   "execution_count": null,
   "id": "4f6cdc9b",
   "metadata": {},
   "outputs": [],
   "source": [
    "import pandas as pd\n",
    "from sklearn.cluster import DBSCAN\n",
    "from sklearn.preprocessing import MinMaxScaler\n",
    "import folium\n",
    "from sklearn.pipeline import Pipeline\n",
    "import numpy as np"
   ]
  },
  {
   "cell_type": "markdown",
   "id": "aaf05045",
   "metadata": {},
   "source": [
    "In this notebook, we'll be working with the Nashville traffic accidents data. For simplicity, we'll only look at crashes that happened in February of 2020."
   ]
  },
  {
   "cell_type": "code",
   "execution_count": null,
   "id": "89938203",
   "metadata": {
    "scrolled": true
   },
   "outputs": [],
   "source": [
    "crashes = pd.read_csv('data/Traffic_Accidents.csv')\n",
    "\n",
    "crashes['Date and Time'] = pd.to_datetime(crashes['Date and Time'], format = '%m/%d/%Y %I:%M:%S %p')\n",
    "\n",
    "crashes = crashes[(crashes['Date and Time'].dt.year == 2020) & \n",
    "                  (crashes['Date and Time'].dt.month == 2)].sort_values('Date and Time')\n",
    "\n",
    "crashes = crashes.dropna(subset = ['Latitude', 'Longitude'])"
   ]
  },
  {
   "cell_type": "markdown",
   "id": "472338a3",
   "metadata": {},
   "source": [
    "Since we're doing calculations involving latitude and longitude, let's use distance in miles."
   ]
  },
  {
   "cell_type": "code",
   "execution_count": null,
   "id": "a56b19c1",
   "metadata": {},
   "outputs": [],
   "source": [
    "def haversine(x, y):\n",
    "    lon1, lat1, lon2, lat2 = map(np.radians, [x[0], x[1], y[0], y[1]])\n",
    "    \n",
    "\n",
    "    dlon = lon2 - lon1\n",
    "    dlat = lat2 - lat1\n",
    "\n",
    "    a = np.sin(dlat/2.0)**2 + np.cos(lat1) * np.cos(lat2) * np.sin(dlon/2.0)**2\n",
    "\n",
    "    c = 2 * np.arcsin(np.sqrt(a))\n",
    "    mi = 3959 * c\n",
    "    return mi"
   ]
  },
  {
   "cell_type": "markdown",
   "id": "c5451fb3",
   "metadata": {},
   "source": [
    "**Goal:** Identify traffic hotspots. We want to find groups of a large number of crashes that happened a small distance from each other. Try and identify 2 or 3 such areas.\n",
    "\n",
    "Hint: You can use the haversine function above as your distance metric in the DSCAN"
   ]
  },
  {
   "cell_type": "code",
   "execution_count": null,
   "id": "63963b3d",
   "metadata": {},
   "outputs": [],
   "source": [
    "variables = ['Longitude', 'Latitude']\n",
    "\n",
    "X = crashes[variables]\n",
    "\n",
    "dbscan = DBSCAN(# Fill this in)\n",
    "\n",
    "dbscan.fit(X)"
   ]
  },
  {
   "cell_type": "code",
   "execution_count": null,
   "id": "4a0915ca",
   "metadata": {},
   "outputs": [],
   "source": [
    "pd.Series(dbscan.labels_).value_counts()"
   ]
  },
  {
   "cell_type": "markdown",
   "id": "20831e31",
   "metadata": {},
   "source": [
    "After finding good values for these parameters, you can use the following code to map out your findings."
   ]
  },
  {
   "cell_type": "code",
   "execution_count": null,
   "id": "578ce6bf",
   "metadata": {},
   "outputs": [],
   "source": [
    "crashes = crashes.assign(cluster = dbscan.labels_)\n",
    "\n",
    "cluster_num = 0\n",
    "\n",
    "crashes_sub = crashes[crashes['cluster'] == cluster_num][['Latitude', 'Longitude', 'cluster']]\n",
    "\n",
    "# The format for a point in folium is: [lat, lng]\n",
    "\n",
    "nash_map = folium.Map(location = [36.1612, -86.7775], zoom_start = 12)\n",
    "\n",
    "for idx, (lat, lng, cluster), in crashes_sub.iterrows():\n",
    "    point = [lat, lng]\n",
    "    folium.Marker(location = point).add_to(nash_map)\n",
    "\n",
    "nash_map"
   ]
  }
 ],
 "metadata": {
  "kernelspec": {
   "display_name": "Python 3 (ipykernel)",
   "language": "python",
   "name": "python3"
  },
  "language_info": {
   "codemirror_mode": {
    "name": "ipython",
    "version": 3
   },
   "file_extension": ".py",
   "mimetype": "text/x-python",
   "name": "python",
   "nbconvert_exporter": "python",
   "pygments_lexer": "ipython3",
   "version": "3.8.3"
  }
 },
 "nbformat": 4,
 "nbformat_minor": 5
}
