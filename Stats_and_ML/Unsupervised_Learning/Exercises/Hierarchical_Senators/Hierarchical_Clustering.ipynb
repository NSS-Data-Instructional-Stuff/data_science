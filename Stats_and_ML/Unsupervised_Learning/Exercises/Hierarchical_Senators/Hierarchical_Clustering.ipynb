{
 "cells": [
  {
   "cell_type": "markdown",
   "id": "ad245791",
   "metadata": {},
   "source": [
    "## Hierarchical Clustering\n",
    "\n",
    "In this notebook, you'll see how to perform hierarchical clustering on the voting records of the US Senate."
   ]
  },
  {
   "cell_type": "code",
   "execution_count": 1,
   "id": "6167d322",
   "metadata": {},
   "outputs": [],
   "source": [
    "import pandas as pd\n",
    "import numpy as np\n",
    "import matplotlib.pyplot as plt\n",
    "\n",
    "from scipy.cluster.hierarchy import linkage, dendrogram\n",
    "\n",
    "from sklearn.preprocessing import LabelEncoder\n",
    "\n",
    "from scipy.spatial.distance import pdist, squareform"
   ]
  },
  {
   "cell_type": "markdown",
   "id": "93541b23",
   "metadata": {},
   "source": [
    "The file votes.csv contains the votes of all senators from the first session of the 117th Congress and was scraped from https://www.senate.gov/legislative/LIS/roll_call_lists/vote_menu_117_1.htm."
   ]
  },
  {
   "cell_type": "code",
   "execution_count": 2,
   "id": "9bd0727f",
   "metadata": {},
   "outputs": [
    {
     "data": {
      "text/html": [
       "<div>\n",
       "<style scoped>\n",
       "    .dataframe tbody tr th:only-of-type {\n",
       "        vertical-align: middle;\n",
       "    }\n",
       "\n",
       "    .dataframe tbody tr th {\n",
       "        vertical-align: top;\n",
       "    }\n",
       "\n",
       "    .dataframe thead th {\n",
       "        text-align: right;\n",
       "    }\n",
       "</style>\n",
       "<table border=\"1\" class=\"dataframe\">\n",
       "  <thead>\n",
       "    <tr style=\"text-align: right;\">\n",
       "      <th></th>\n",
       "      <th>senator</th>\n",
       "      <th>vote_number_001</th>\n",
       "      <th>vote_number_002</th>\n",
       "      <th>vote_number_003</th>\n",
       "      <th>vote_number_004</th>\n",
       "      <th>vote_number_005</th>\n",
       "      <th>vote_number_006</th>\n",
       "      <th>vote_number_007</th>\n",
       "      <th>vote_number_008</th>\n",
       "      <th>vote_number_009</th>\n",
       "      <th>...</th>\n",
       "      <th>vote_number_519</th>\n",
       "      <th>vote_number_520</th>\n",
       "      <th>vote_number_521</th>\n",
       "      <th>vote_number_522</th>\n",
       "      <th>vote_number_523</th>\n",
       "      <th>vote_number_524</th>\n",
       "      <th>vote_number_525</th>\n",
       "      <th>vote_number_526</th>\n",
       "      <th>vote_number_527</th>\n",
       "      <th>vote_number_528</th>\n",
       "    </tr>\n",
       "  </thead>\n",
       "  <tbody>\n",
       "    <tr>\n",
       "      <th>0</th>\n",
       "      <td>Baldwin (D-WI)</td>\n",
       "      <td>Nay</td>\n",
       "      <td>Nay</td>\n",
       "      <td>Yea</td>\n",
       "      <td>Nay</td>\n",
       "      <td>Yea</td>\n",
       "      <td>Yea</td>\n",
       "      <td>Yea</td>\n",
       "      <td>Yea</td>\n",
       "      <td>Yea</td>\n",
       "      <td>...</td>\n",
       "      <td>Yea</td>\n",
       "      <td>Yea</td>\n",
       "      <td>Yea</td>\n",
       "      <td>Yea</td>\n",
       "      <td>Yea</td>\n",
       "      <td>Yea</td>\n",
       "      <td>Yea</td>\n",
       "      <td>Yea</td>\n",
       "      <td>Yea</td>\n",
       "      <td>Yea</td>\n",
       "    </tr>\n",
       "    <tr>\n",
       "      <th>1</th>\n",
       "      <td>Barrasso (R-WY)</td>\n",
       "      <td>Nay</td>\n",
       "      <td>Nay</td>\n",
       "      <td>Yea</td>\n",
       "      <td>Nay</td>\n",
       "      <td>Yea</td>\n",
       "      <td>Nay</td>\n",
       "      <td>Nay</td>\n",
       "      <td>Nay</td>\n",
       "      <td>Yea</td>\n",
       "      <td>...</td>\n",
       "      <td>Not Voting</td>\n",
       "      <td>Not Voting</td>\n",
       "      <td>Not Voting</td>\n",
       "      <td>Not Voting</td>\n",
       "      <td>Not Voting</td>\n",
       "      <td>Not Voting</td>\n",
       "      <td>Not Voting</td>\n",
       "      <td>Not Voting</td>\n",
       "      <td>Not Voting</td>\n",
       "      <td>Not Voting</td>\n",
       "    </tr>\n",
       "    <tr>\n",
       "      <th>2</th>\n",
       "      <td>Bennet (D-CO)</td>\n",
       "      <td>Nay</td>\n",
       "      <td>Nay</td>\n",
       "      <td>Yea</td>\n",
       "      <td>Yea</td>\n",
       "      <td>Yea</td>\n",
       "      <td>Yea</td>\n",
       "      <td>Yea</td>\n",
       "      <td>Yea</td>\n",
       "      <td>Yea</td>\n",
       "      <td>...</td>\n",
       "      <td>Yea</td>\n",
       "      <td>Yea</td>\n",
       "      <td>Yea</td>\n",
       "      <td>Yea</td>\n",
       "      <td>Yea</td>\n",
       "      <td>Yea</td>\n",
       "      <td>Yea</td>\n",
       "      <td>Yea</td>\n",
       "      <td>Yea</td>\n",
       "      <td>Yea</td>\n",
       "    </tr>\n",
       "    <tr>\n",
       "      <th>3</th>\n",
       "      <td>Blackburn (R-TN)</td>\n",
       "      <td>Nay</td>\n",
       "      <td>Nay</td>\n",
       "      <td>Nay</td>\n",
       "      <td>Nay</td>\n",
       "      <td>Yea</td>\n",
       "      <td>Nay</td>\n",
       "      <td>Nay</td>\n",
       "      <td>Nay</td>\n",
       "      <td>Nay</td>\n",
       "      <td>...</td>\n",
       "      <td>Not Voting</td>\n",
       "      <td>Not Voting</td>\n",
       "      <td>Not Voting</td>\n",
       "      <td>Not Voting</td>\n",
       "      <td>Not Voting</td>\n",
       "      <td>Not Voting</td>\n",
       "      <td>Not Voting</td>\n",
       "      <td>Not Voting</td>\n",
       "      <td>Not Voting</td>\n",
       "      <td>Not Voting</td>\n",
       "    </tr>\n",
       "    <tr>\n",
       "      <th>4</th>\n",
       "      <td>Blumenthal (D-CT)</td>\n",
       "      <td>Nay</td>\n",
       "      <td>Nay</td>\n",
       "      <td>Yea</td>\n",
       "      <td>Nay</td>\n",
       "      <td>Yea</td>\n",
       "      <td>Yea</td>\n",
       "      <td>Yea</td>\n",
       "      <td>Yea</td>\n",
       "      <td>Yea</td>\n",
       "      <td>...</td>\n",
       "      <td>Yea</td>\n",
       "      <td>Yea</td>\n",
       "      <td>Yea</td>\n",
       "      <td>Yea</td>\n",
       "      <td>Yea</td>\n",
       "      <td>Yea</td>\n",
       "      <td>Yea</td>\n",
       "      <td>Yea</td>\n",
       "      <td>Yea</td>\n",
       "      <td>Yea</td>\n",
       "    </tr>\n",
       "  </tbody>\n",
       "</table>\n",
       "<p>5 rows × 529 columns</p>\n",
       "</div>"
      ],
      "text/plain": [
       "             senator vote_number_001 vote_number_002 vote_number_003  \\\n",
       "0     Baldwin (D-WI)             Nay             Nay             Yea   \n",
       "1    Barrasso (R-WY)             Nay             Nay             Yea   \n",
       "2      Bennet (D-CO)             Nay             Nay             Yea   \n",
       "3   Blackburn (R-TN)             Nay             Nay             Nay   \n",
       "4  Blumenthal (D-CT)             Nay             Nay             Yea   \n",
       "\n",
       "  vote_number_004 vote_number_005 vote_number_006 vote_number_007  \\\n",
       "0             Nay             Yea             Yea             Yea   \n",
       "1             Nay             Yea             Nay             Nay   \n",
       "2             Yea             Yea             Yea             Yea   \n",
       "3             Nay             Yea             Nay             Nay   \n",
       "4             Nay             Yea             Yea             Yea   \n",
       "\n",
       "  vote_number_008 vote_number_009  ... vote_number_519 vote_number_520  \\\n",
       "0             Yea             Yea  ...             Yea             Yea   \n",
       "1             Nay             Yea  ...      Not Voting      Not Voting   \n",
       "2             Yea             Yea  ...             Yea             Yea   \n",
       "3             Nay             Nay  ...      Not Voting      Not Voting   \n",
       "4             Yea             Yea  ...             Yea             Yea   \n",
       "\n",
       "  vote_number_521 vote_number_522 vote_number_523 vote_number_524  \\\n",
       "0             Yea             Yea             Yea             Yea   \n",
       "1      Not Voting      Not Voting      Not Voting      Not Voting   \n",
       "2             Yea             Yea             Yea             Yea   \n",
       "3      Not Voting      Not Voting      Not Voting      Not Voting   \n",
       "4             Yea             Yea             Yea             Yea   \n",
       "\n",
       "  vote_number_525 vote_number_526 vote_number_527 vote_number_528  \n",
       "0             Yea             Yea             Yea             Yea  \n",
       "1      Not Voting      Not Voting      Not Voting      Not Voting  \n",
       "2             Yea             Yea             Yea             Yea  \n",
       "3      Not Voting      Not Voting      Not Voting      Not Voting  \n",
       "4             Yea             Yea             Yea             Yea  \n",
       "\n",
       "[5 rows x 529 columns]"
      ]
     },
     "execution_count": 2,
     "metadata": {},
     "output_type": "execute_result"
    }
   ],
   "source": [
    "votes = pd.read_csv('data/votes.csv').dropna()\n",
    "votes.head()"
   ]
  },
  {
   "cell_type": "markdown",
   "id": "2b88e550",
   "metadata": {},
   "source": [
    "In order to perform clustering, we need to have a way to measure the similarity of two senators. There are a number of ways to do this, but we'll use the [Hamming distance](https://en.wikipedia.org/wiki/Hamming_distance). The big idea is that we want to measure how often two senators vote in the same way. \n",
    "\n",
    "Calculations using Hamming distance are implemented in the scipy spatial distance module and we can easily convert a DataFrame of observations into a distance matrix using the [`pdist` function](https://docs.scipy.org/doc/scipy/reference/generated/scipy.spatial.distance.pdist.html#scipy.spatial.distance.pdist).\n",
    "\n",
    "The only problem is that `pdist` wants the input array to be numeric, and we currently have strings. However, there are tools available to help with this. The preprocessing module of scikit-learn contains a [LabelEncoder](https://scikit-learn.org/stable/modules/generated/sklearn.preprocessing.LabelEncoder.html) class which can convert a column of text into numeric labels.\n",
    "\n",
    "In order to be able to do this, we need to take our data and convert it so that we have a single column that contains all of the votes. This is similar to pivot_wider from the tidyverse. The _pandas_ equivalent is [`melt`](https://pandas.pydata.org/docs/reference/api/pandas.melt.html)."
   ]
  },
  {
   "cell_type": "markdown",
   "id": "1fbeabd8",
   "metadata": {},
   "source": [
    "**Step 1:** Use the `melt` method to convert the votes dataframe into longform with three columns:\n",
    "1. senator, which contains the name of the senator\n",
    "2. variable, which contains the vote number\n",
    "3. value, which contains the vote"
   ]
  },
  {
   "cell_type": "code",
   "execution_count": null,
   "id": "ff293603",
   "metadata": {},
   "outputs": [],
   "source": [
    "votes = votes.melt(# Fill this in)\n",
    "votes.head()"
   ]
  },
  {
   "cell_type": "markdown",
   "id": "964096e2",
   "metadata": {},
   "source": [
    "**Step 2:** Create and fit a LabelEncoder on the value column of the votes DataFrame."
   ]
  },
  {
   "cell_type": "code",
   "execution_count": null,
   "id": "7055b4b0",
   "metadata": {},
   "outputs": [],
   "source": [
    "le = LabelEncoder().fit(votes['value'])"
   ]
  },
  {
   "cell_type": "markdown",
   "id": "af993d96",
   "metadata": {},
   "source": [
    "**Step 3:** Use the `transform` method to convert the value column to a numeric value."
   ]
  },
  {
   "cell_type": "code",
   "execution_count": null,
   "id": "136930ff",
   "metadata": {},
   "outputs": [],
   "source": [
    "votes['value'] = le.transform(votes['value'])"
   ]
  },
  {
   "cell_type": "markdown",
   "id": "ab224d12",
   "metadata": {},
   "source": [
    "**Step 4:** Convert the dataframe back to wide format using the [`pivot`](https://pandas.pydata.org/docs/reference/api/pandas.DataFrame.pivot.html) method."
   ]
  },
  {
   "cell_type": "code",
   "execution_count": null,
   "id": "29e359fe",
   "metadata": {},
   "outputs": [],
   "source": [
    "votes = votes.pivot(# Fill this in)"
   ]
  },
  {
   "cell_type": "markdown",
   "id": "d2ea75b7",
   "metadata": {},
   "source": [
    "**Question:** Which type of vote does the number 3 correspond to? (Hint: look at the methods of your LabelEncoder object)."
   ]
  },
  {
   "cell_type": "markdown",
   "id": "47b3f365",
   "metadata": {},
   "source": [
    "**Step 5:** Create a matrix called `distances` which contains the Hamming distance between observations."
   ]
  },
  {
   "cell_type": "code",
   "execution_count": null,
   "id": "d5dc0f73",
   "metadata": {},
   "outputs": [],
   "source": [
    "distances = pdist(votes, metric = 'hamming')"
   ]
  },
  {
   "cell_type": "markdown",
   "id": "5d1a12b1",
   "metadata": {},
   "source": [
    "Now, we can use the linkage function to build a dendogram. First, we'll try out using complete linkages.\n",
    "\n",
    "To read more about the linkage options, see the documentation for the linkage function here: https://docs.scipy.org/doc/scipy/reference/generated/scipy.cluster.hierarchy.linkage.html\n",
    "\n",
    "To make it easier to read, we can export to a png file."
   ]
  },
  {
   "cell_type": "code",
   "execution_count": null,
   "id": "3ba00417",
   "metadata": {},
   "outputs": [],
   "source": [
    "mergings = linkage(distances, method='complete')\n",
    "\n",
    "plt.figure(figsize = (12,4))\n",
    "dendrogram(mergings,\n",
    "           labels = votes.index,\n",
    "           leaf_rotation = 90,\n",
    "           leaf_font_size = 6);\n",
    "\n",
    "plt.tight_layout()\n",
    "plt.savefig('images/dendogram_complete.png', transparent=False, facecolor='white', dpi = 150)"
   ]
  },
  {
   "cell_type": "markdown",
   "id": "85669c2f",
   "metadata": {},
   "source": [
    "**Question 1:** The top horizontal line occurs at a y-value of around 0.9. How do we interpret this value?\n",
    "\n",
    "\n",
    "**Question 2:** Notice that the Graham/Collins/Murkowski cluster merges with the rest of the Republicans around the value of 0.25 on the y-axis. How do we interpret this?"
   ]
  },
  {
   "cell_type": "markdown",
   "id": "8ff71e3c",
   "metadata": {},
   "source": [
    "Lindsey Graham ends up being first clustered with Susan Collins and Lisa Murkowski.\n",
    "\n",
    "**Question 3 - True or False:** In terms of Hamming distance, Lindsey Graham is closer to Susan Collins and Lisa Murkowski than any other Senators."
   ]
  },
  {
   "cell_type": "markdown",
   "id": "08e57798",
   "metadata": {},
   "source": [
    "Now, let's try it using the single linkage method."
   ]
  },
  {
   "cell_type": "code",
   "execution_count": null,
   "id": "c8b0b376",
   "metadata": {},
   "outputs": [],
   "source": [
    "mergings = linkage(distances, method='single')\n",
    "\n",
    "plt.figure(figsize = (12,4))\n",
    "dendrogram(mergings,\n",
    "           labels = votes.index,\n",
    "           leaf_rotation = 90,\n",
    "           leaf_font_size = 6);\n",
    "\n",
    "plt.tight_layout()\n",
    "plt.savefig('images/dendogram_single.png', transparent=False, facecolor='white', dpi = 150)"
   ]
  },
  {
   "cell_type": "markdown",
   "id": "66bc8495",
   "metadata": {},
   "source": [
    "**Question 4:** What differences are there between the single-linkage and complete-linkage versions of the dendograms?\n",
    "\n",
    "**Question 5:** Why is the y-value at which all clusters are combined so much lower when using single-linkage?"
   ]
  },
  {
   "cell_type": "markdown",
   "id": "59b03b65",
   "metadata": {},
   "source": [
    "**Bonus Material:** If we want to get clusters out of our dendogram, we can make use of the [AgglomerativeClustering class](https://scikit-learn.org/stable/modules/generated/sklearn.cluster.AgglomerativeClustering.html) from scikit-learn."
   ]
  },
  {
   "cell_type": "code",
   "execution_count": null,
   "id": "f4987d0c",
   "metadata": {},
   "outputs": [],
   "source": [
    "from sklearn.cluster import AgglomerativeClustering"
   ]
  },
  {
   "cell_type": "markdown",
   "id": "cc6f2505",
   "metadata": {},
   "source": [
    "In order to use this, we'll need to pass in our distances and let it know that we want to use our precomputed values.\n",
    "\n",
    "Note that pdist returns a condensed distance matrix, whereas AgglomerativeClustering expects a square distance matrix. We can convert between the two using the `squareform` function.\n",
    "\n",
    "We can specify the number of clusters that we want."
   ]
  },
  {
   "cell_type": "code",
   "execution_count": null,
   "id": "c02a2a63",
   "metadata": {},
   "outputs": [],
   "source": [
    "cluster = AgglomerativeClustering(affinity = 'precomputed', \n",
    "                                  linkage = 'complete',\n",
    "                                  n_clusters = 2                               \n",
    "                                 ).fit(squareform(distances))"
   ]
  },
  {
   "cell_type": "markdown",
   "id": "2c765b22",
   "metadata": {},
   "source": [
    "Let's try out a couple of different values for the number of clusters. To evaluate the resulting clustering, we'll use [silhouette scores](https://en.wikipedia.org/wiki/Silhouette_(clustering)) which are implemented in the scikit learn metric module: https://scikit-learn.org/stable/modules/generated/sklearn.metrics.silhouette_score.html."
   ]
  },
  {
   "cell_type": "code",
   "execution_count": null,
   "id": "d4addd21",
   "metadata": {},
   "outputs": [],
   "source": [
    "from sklearn.metrics import silhouette_score"
   ]
  },
  {
   "cell_type": "markdown",
   "id": "862e55b5",
   "metadata": {},
   "source": [
    "Fill in the argument values to compute the silhouette score."
   ]
  },
  {
   "cell_type": "code",
   "execution_count": null,
   "id": "b89f9aa6",
   "metadata": {},
   "outputs": [],
   "source": [
    "silhouette_score(\n",
    "    X = # Fill this in \n",
    "    labels = # Fill this in \n",
    "    metric = # Fill this in \n",
    ")"
   ]
  },
  {
   "cell_type": "code",
   "execution_count": null,
   "id": "c6409d58",
   "metadata": {},
   "outputs": [],
   "source": [
    "max_clusters = 10\n",
    "\n",
    "silhouette_scores = []\n",
    "\n",
    "for n_clusters in range(2, max_clusters + 1):\n",
    "    cluster = AgglomerativeClustering(affinity = 'precomputed', \n",
    "                                      linkage = 'complete',\n",
    "                                      n_clusters = n_clusters).fit(squareform(distances))\n",
    "    \n",
    "    silhouette_scores.append(silhouette_score(squareform(distances), cluster.labels_, metric = 'precomputed'))"
   ]
  },
  {
   "cell_type": "code",
   "execution_count": null,
   "id": "5e410612",
   "metadata": {},
   "outputs": [],
   "source": [
    "plt.figure(figsize = (10,6))\n",
    "\n",
    "plt.plot(range(2, max_clusters + 1), silhouette_scores);"
   ]
  },
  {
   "cell_type": "markdown",
   "id": "f587c080",
   "metadata": {},
   "source": [
    "Based on this, how many clusters should we use?"
   ]
  },
  {
   "cell_type": "markdown",
   "id": "b87ac35e",
   "metadata": {},
   "source": [
    "Finally, let's compare the above results to those of the first session of the 115th Congress, which took place in 2017.\n",
    "\n",
    "The results are contained in file votes_2017.csv."
   ]
  },
  {
   "cell_type": "code",
   "execution_count": null,
   "id": "b3330164",
   "metadata": {},
   "outputs": [],
   "source": [
    "votes = (\n",
    "    pd.read_csv('data/votes_2017.csv')\n",
    "    .dropna()\n",
    "    .melt(id_vars = 'senator')\n",
    ")\n",
    " \n",
    "le = LabelEncoder().fit(votes['value'])\n",
    "votes['value'] = le.transform(votes['value'])\n",
    "\n",
    "votes = votes.pivot(index = 'senator', columns = 'variable', values = 'value')\n",
    "\n",
    "distances = pdist(votes, metric = 'hamming')"
   ]
  },
  {
   "cell_type": "code",
   "execution_count": null,
   "id": "5f9f0a39",
   "metadata": {},
   "outputs": [],
   "source": [
    "mergings = linkage(distances, method='complete')\n",
    "\n",
    "plt.figure(figsize = (12,4))\n",
    "dendrogram(mergings,\n",
    "           labels = votes.index,\n",
    "           leaf_rotation = 90,\n",
    "           leaf_font_size = 6);\n",
    "\n",
    "plt.tight_layout()\n",
    "plt.savefig('images/dendogram_complete_2017.png', transparent=False, facecolor='white', dpi = 150)"
   ]
  },
  {
   "cell_type": "markdown",
   "id": "ba5ce57e",
   "metadata": {},
   "source": [
    "What do you notice when you compare this dendogram to the one above?"
   ]
  },
  {
   "cell_type": "markdown",
   "id": "fa9a73ed",
   "metadata": {},
   "source": [
    "**Coding Challenge:** The above results show what happens when we compute Hamming distance, including any \"Not Voting\" results. This results in Mike Rounds, who has missed almost a third of his votes (he is the most absent Senator), to be quite far away from any other Senator.\n",
    "\n",
    "Redo the calculations but when making you distance calculations, only consider votes where both Senators either voted \"Yea\" or \"Nay\"."
   ]
  }
 ],
 "metadata": {
  "kernelspec": {
   "display_name": "Python 3 (ipykernel)",
   "language": "python",
   "name": "python3"
  },
  "language_info": {
   "codemirror_mode": {
    "name": "ipython",
    "version": 3
   },
   "file_extension": ".py",
   "mimetype": "text/x-python",
   "name": "python",
   "nbconvert_exporter": "python",
   "pygments_lexer": "ipython3",
   "version": "3.8.3"
  }
 },
 "nbformat": 4,
 "nbformat_minor": 5
}
