{
 "cells": [
  {
   "cell_type": "markdown",
   "id": "e7d89761",
   "metadata": {},
   "source": [
    "## Hierarchical Clustering\n",
    "\n",
    "In this notebook, you'll see how to perform hierarchical clustering on the voting records of the US Senate."
   ]
  },
  {
   "cell_type": "code",
   "execution_count": null,
   "id": "6167d322",
   "metadata": {},
   "outputs": [],
   "source": [
    "import pandas as pd\n",
    "import numpy as np\n",
    "import matplotlib.pyplot as plt\n",
    "\n",
    "from scipy.cluster.hierarchy import linkage, dendrogram\n",
    "\n",
    "from sklearn.preprocessing import LabelEncoder\n",
    "\n",
    "from scipy.spatial.distance import pdist, squareform"
   ]
  },
  {
   "cell_type": "markdown",
   "id": "4c918cf1",
   "metadata": {},
   "source": [
    "The file votes.csv contains the votes of all senators from the first session of the 117th Congress and was scraped from https://www.senate.gov/legislative/LIS/roll_call_lists/vote_menu_117_1.htm."
   ]
  },
  {
   "cell_type": "code",
   "execution_count": null,
   "id": "9bd0727f",
   "metadata": {},
   "outputs": [],
   "source": [
    "votes = pd.read_csv('data/votes.csv').dropna()\n",
    "votes.head()"
   ]
  },
  {
   "cell_type": "markdown",
   "id": "334183d7",
   "metadata": {},
   "source": [
    "In order to perform clustering, we need to have a way to measure the similarity of two senators. There are a number of ways to do this, but we'll use the [Hamming distance](https://en.wikipedia.org/wiki/Hamming_distance). The big idea is that we want to measure how often two senators vote in the same way. \n",
    "\n",
    "Calculations using Hamming distance are implemented in the scipy spatial distance module and we can easily convert a DataFrame of observations into a distance matrix using the [`pdist` function](https://docs.scipy.org/doc/scipy/reference/generated/scipy.spatial.distance.pdist.html#scipy.spatial.distance.pdist).\n",
    "\n",
    "The only problem is that `pdist` wants the input array to be numeric, and we currently have strings. However, there are tools available to help with this. The preprocessing module of scikit-learn contains a [LabelEncoder](https://scikit-learn.org/stable/modules/generated/sklearn.preprocessing.LabelEncoder.html) class which can convert a column of text into numeric labels.\n",
    "\n",
    "In order to be able to do this, we need to take our data and convert it so that we have a single column that contains all of the votes. This is similar to pivot_wider from the tidyverse. The _pandas_ equivalent is [`melt`](https://pandas.pydata.org/docs/reference/api/pandas.melt.html)."
   ]
  },
  {
   "cell_type": "markdown",
   "id": "7349aa3d",
   "metadata": {},
   "source": [
    "**Step 1:** Use the `melt` method to convert the votes dataframe into longform with three columns:\n",
    "1. senator, which contains the name of the senator\n",
    "2. variable, which contains the vote number\n",
    "3. value, which contains the vote"
   ]
  },
  {
   "cell_type": "code",
   "execution_count": null,
   "id": "01637ff7",
   "metadata": {},
   "outputs": [],
   "source": [
    "votes = votes.melt(id_vars = 'senator')\n",
    "votes.head()"
   ]
  },
  {
   "cell_type": "markdown",
   "id": "c43f5cf3",
   "metadata": {},
   "source": [
    "**Step 2:** Create and fit a LabelEncoder on the value column of the votes DataFrame."
   ]
  },
  {
   "cell_type": "code",
   "execution_count": null,
   "id": "8d49db3e",
   "metadata": {},
   "outputs": [],
   "source": [
    "le = LabelEncoder().fit(votes['value'])"
   ]
  },
  {
   "cell_type": "markdown",
   "id": "3a20a5f7",
   "metadata": {},
   "source": [
    "**Step 3:** Use the `transform` method to convert the value column to a numeric value."
   ]
  },
  {
   "cell_type": "code",
   "execution_count": null,
   "id": "136930ff",
   "metadata": {},
   "outputs": [],
   "source": [
    "votes['value'] = le.transform(votes['value'])"
   ]
  },
  {
   "cell_type": "markdown",
   "id": "426c5382",
   "metadata": {},
   "source": [
    "**Step 4:** Convert the dataframe back to wide format using the [`pivot`](https://pandas.pydata.org/docs/reference/api/pandas.DataFrame.pivot.html) method."
   ]
  },
  {
   "cell_type": "code",
   "execution_count": null,
   "id": "e4b4ec08",
   "metadata": {},
   "outputs": [],
   "source": [
    "votes = votes.pivot(index = 'senator', columns = 'variable', values = 'value')"
   ]
  },
  {
   "cell_type": "markdown",
   "id": "02986450",
   "metadata": {},
   "source": [
    "**Question:** Which type of vote does the number 3 correspond to? (Hint: look at the methods of your LabelEncoder object)."
   ]
  },
  {
   "cell_type": "markdown",
   "id": "c449a27d",
   "metadata": {},
   "source": [
    "**Step 5:** Create a matrix called `distances` which contains the Hamming distance between observations."
   ]
  },
  {
   "cell_type": "code",
   "execution_count": null,
   "id": "d5dc0f73",
   "metadata": {},
   "outputs": [],
   "source": [
    "distances = pdist(votes, metric = 'hamming')"
   ]
  },
  {
   "cell_type": "markdown",
   "id": "21856de7",
   "metadata": {},
   "source": [
    "Now, we can use the linkage function to build a dendogram. First, we'll try out using complete linkages.\n",
    "\n",
    "To make it easier to read, we can export to a png file."
   ]
  },
  {
   "cell_type": "code",
   "execution_count": null,
   "id": "3ba00417",
   "metadata": {},
   "outputs": [],
   "source": [
    "mergings = linkage(distances, method='complete')\n",
    "\n",
    "plt.figure(figsize = (12,4))\n",
    "dendrogram(mergings,\n",
    "           labels = votes.index,\n",
    "           leaf_rotation = 90,\n",
    "           leaf_font_size = 6);\n",
    "\n",
    "plt.tight_layout()\n",
    "plt.savefig('images/dendogram_complete.png', transparent=False, facecolor='white', dpi = 150)"
   ]
  },
  {
   "cell_type": "markdown",
   "id": "dbf601d6",
   "metadata": {},
   "source": [
    "**Question:** The top horizontal line occurs at a y-value of around 0.9. How do we interpret this value?\n",
    "\n",
    "\n",
    "**Question:** Notice that the Graham/Collins/Murkowski cluster merges with the rest of the Republicans around the value of 0.25 on the y-axis. How do we interpret this?"
   ]
  },
  {
   "cell_type": "markdown",
   "id": "eac7bd46",
   "metadata": {},
   "source": [
    "Lindsey Graham ends up being first clustered with Susan Collins and Lisa Murkowski.\n",
    "\n",
    "**True or False:** In terms of Hamming distance, Lindsey Graham is closer to Susan Collins and Lisa Murkowski than any other Senators."
   ]
  },
  {
   "cell_type": "code",
   "execution_count": null,
   "id": "41afadb8",
   "metadata": {},
   "outputs": [],
   "source": [
    "votes.index.tolist().index('Graham (R-SC)')"
   ]
  },
  {
   "cell_type": "code",
   "execution_count": null,
   "id": "e25e34ac",
   "metadata": {},
   "outputs": [],
   "source": [
    "graham_distances = pd.DataFrame({'senator': votes.index, \n",
    "                                 'distance': squareform(distances)[votes.index.tolist().index('Graham (R-SC)'), :]})"
   ]
  },
  {
   "cell_type": "code",
   "execution_count": null,
   "id": "04282bcf",
   "metadata": {},
   "outputs": [],
   "source": [
    "graham_distances.sort_values('distance').head(10)"
   ]
  },
  {
   "cell_type": "markdown",
   "id": "a9fbf833",
   "metadata": {},
   "source": [
    "Now, let's try it using the single linkage method."
   ]
  },
  {
   "cell_type": "code",
   "execution_count": null,
   "id": "f304a15d",
   "metadata": {},
   "outputs": [],
   "source": [
    "mergings = linkage(distances, method='single')\n",
    "\n",
    "plt.figure(figsize = (12,4))\n",
    "dendrogram(mergings,\n",
    "           labels = votes.index,\n",
    "           leaf_rotation = 90,\n",
    "           leaf_font_size = 6);\n",
    "\n",
    "plt.tight_layout()\n",
    "plt.savefig('images/dendogram_single.png', transparent=False, facecolor='white', dpi = 150)"
   ]
  },
  {
   "cell_type": "markdown",
   "id": "015f3cba",
   "metadata": {},
   "source": [
    "**Question:** What differences are there between the single-linkage and complete-linkage versions of the dendograms?\n",
    "\n",
    "**Question:** Why is the y-value at which all clusters are combined so much lower when using single-linkage?"
   ]
  },
  {
   "cell_type": "markdown",
   "id": "66bcfc6f",
   "metadata": {},
   "source": [
    "If we want to get clusters out of our dendogram, we can make use of the [AgglomerativeClustering class](https://scikit-learn.org/stable/modules/generated/sklearn.cluster.AgglomerativeClustering.html) from scikit-learn."
   ]
  },
  {
   "cell_type": "code",
   "execution_count": null,
   "id": "f4987d0c",
   "metadata": {},
   "outputs": [],
   "source": [
    "from sklearn.cluster import AgglomerativeClustering"
   ]
  },
  {
   "cell_type": "markdown",
   "id": "70379016",
   "metadata": {},
   "source": [
    "In order to use this, we'll need to pass in our distances and let it know that we want to use our precomputed values.\n",
    "\n",
    "Note that pdist returns a condensed distance matrix, whereas AgglomerativeClustering expects a square distance matrix. We can convert between the two using the `squareform` function.\n",
    "\n",
    "We can specify the number of clusters that we want."
   ]
  },
  {
   "cell_type": "code",
   "execution_count": null,
   "id": "c02a2a63",
   "metadata": {},
   "outputs": [],
   "source": [
    "cluster = AgglomerativeClustering(affinity = 'precomputed', \n",
    "                                  linkage = 'complete',\n",
    "                                  n_clusters = 2                               \n",
    "                                 ).fit(squareform(distances))"
   ]
  },
  {
   "cell_type": "markdown",
   "id": "ad770a13",
   "metadata": {},
   "source": [
    "Let's try out a couple of different values for the number of clusters. To evaluate the resulting clustering, we'll use [silhouette scores](https://en.wikipedia.org/wiki/Silhouette_(clustering)) which are implemented in the scikit learn metric module: https://scikit-learn.org/stable/modules/generated/sklearn.metrics.silhouette_score.html."
   ]
  },
  {
   "cell_type": "code",
   "execution_count": null,
   "id": "d4addd21",
   "metadata": {},
   "outputs": [],
   "source": [
    "from sklearn.metrics import silhouette_score"
   ]
  },
  {
   "cell_type": "markdown",
   "id": "ae9f4df9",
   "metadata": {},
   "source": [
    "Fill in the argument values to compute the silhouette score."
   ]
  },
  {
   "cell_type": "code",
   "execution_count": null,
   "id": "b89f9aa6",
   "metadata": {},
   "outputs": [],
   "source": [
    "silhouette_score(\n",
    "    X = squareform(distances), \n",
    "    labels = cluster.labels_, \n",
    "    metric = 'precomputed')"
   ]
  },
  {
   "cell_type": "code",
   "execution_count": null,
   "id": "c6409d58",
   "metadata": {},
   "outputs": [],
   "source": [
    "max_clusters = 10\n",
    "\n",
    "silhouette_scores = []\n",
    "\n",
    "for n_clusters in range(2, max_clusters + 1):\n",
    "    cluster = AgglomerativeClustering(affinity = 'precomputed', \n",
    "                                      linkage = 'complete',\n",
    "                                      n_clusters = n_clusters).fit(squareform(distances))\n",
    "    \n",
    "    silhouette_scores.append(silhouette_score(squareform(distances), cluster.labels_, metric = 'precomputed'))"
   ]
  },
  {
   "cell_type": "code",
   "execution_count": null,
   "id": "5e410612",
   "metadata": {},
   "outputs": [],
   "source": [
    "plt.figure(figsize = (10,6))\n",
    "\n",
    "plt.plot(range(2, max_clusters + 1), silhouette_scores);"
   ]
  },
  {
   "cell_type": "markdown",
   "id": "5e05b4aa",
   "metadata": {},
   "source": [
    "Based on this, how many clusters should we use?"
   ]
  },
  {
   "cell_type": "markdown",
   "id": "4ddcc45c",
   "metadata": {},
   "source": [
    "Finally, let's compare the above results to those of the first session of the 115th Congress, which took place in 2017.\n",
    "\n",
    "The results are contained in file votes_2017.csv."
   ]
  },
  {
   "cell_type": "code",
   "execution_count": null,
   "id": "3b0a1911",
   "metadata": {},
   "outputs": [],
   "source": [
    "votes = (\n",
    "    pd.read_csv('data/votes_2017.csv')\n",
    "    .dropna()\n",
    "    .melt(id_vars = 'senator')\n",
    ")\n",
    " \n",
    "le = LabelEncoder().fit(votes['value'])\n",
    "votes['value'] = le.transform(votes['value'])\n",
    "\n",
    "votes = votes.pivot(index = 'senator', columns = 'variable', values = 'value')\n",
    "\n",
    "distances = pdist(votes, metric = 'hamming')"
   ]
  },
  {
   "cell_type": "code",
   "execution_count": null,
   "id": "884a3c5f",
   "metadata": {},
   "outputs": [],
   "source": [
    "mergings = linkage(distances, method='complete')\n",
    "\n",
    "plt.figure(figsize = (12,4))\n",
    "dendrogram(mergings,\n",
    "           labels = votes.index,\n",
    "           leaf_rotation = 90,\n",
    "           leaf_font_size = 6);\n",
    "\n",
    "plt.tight_layout()\n",
    "plt.savefig('images/dendogram_complete_2017.png', transparent=False, facecolor='white', dpi = 150)"
   ]
  },
  {
   "cell_type": "markdown",
   "id": "d813e94b",
   "metadata": {},
   "source": [
    "What do you notice when you compare this dendogram to the one above?"
   ]
  },
  {
   "cell_type": "markdown",
   "id": "53a4fb63",
   "metadata": {},
   "source": [
    "**Coding Challenge:** The above results show what happens when we compute Hamming distance, including any \"Not Voting\" results. This results in Mike Rounds, who has missed almost a third of his votes (he is the most absent Senator), to be quite far away from any other Senator.\n",
    "\n",
    "Redo the calculations but when making you distance calculations, only consider votes where both Senators either voted \"Yea\" or \"Nay\"."
   ]
  }
 ],
 "metadata": {
  "kernelspec": {
   "display_name": "Python 3 (ipykernel)",
   "language": "python",
   "name": "python3"
  },
  "language_info": {
   "codemirror_mode": {
    "name": "ipython",
    "version": 3
   },
   "file_extension": ".py",
   "mimetype": "text/x-python",
   "name": "python",
   "nbconvert_exporter": "python",
   "pygments_lexer": "ipython3",
   "version": "3.8.3"
  }
 },
 "nbformat": 4,
 "nbformat_minor": 5
}
