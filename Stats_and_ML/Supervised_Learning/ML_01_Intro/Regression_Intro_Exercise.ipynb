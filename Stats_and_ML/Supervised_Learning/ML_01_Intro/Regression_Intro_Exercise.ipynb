{
 "cells": [
  {
   "cell_type": "code",
   "execution_count": 1,
   "metadata": {},
   "outputs": [],
   "source": [
    "import numpy as np\n",
    "import pandas as pd\n",
    "import matplotlib.pyplot as plt\n",
    "\n",
    "from sklearn.model_selection import train_test_split\n",
    "from sklearn.linear_model import LinearRegression\n",
    "from sklearn.pipeline import Pipeline\n",
    "from sklearn.preprocessing import PolynomialFeatures\n",
    "\n",
    "from sklearn.metrics import mean_squared_error"
   ]
  },
  {
   "cell_type": "code",
   "execution_count": 2,
   "metadata": {},
   "outputs": [],
   "source": [
    "cars = pd.read_csv('../datasets/fuel_economy/cars_2010.csv')"
   ]
  },
  {
   "cell_type": "code",
   "execution_count": 3,
   "metadata": {},
   "outputs": [
    {
     "data": {
      "text/html": [
       "<div>\n",
       "<style scoped>\n",
       "    .dataframe tbody tr th:only-of-type {\n",
       "        vertical-align: middle;\n",
       "    }\n",
       "\n",
       "    .dataframe tbody tr th {\n",
       "        vertical-align: top;\n",
       "    }\n",
       "\n",
       "    .dataframe thead th {\n",
       "        text-align: right;\n",
       "    }\n",
       "</style>\n",
       "<table border=\"1\" class=\"dataframe\">\n",
       "  <thead>\n",
       "    <tr style=\"text-align: right;\">\n",
       "      <th></th>\n",
       "      <th>EngDispl</th>\n",
       "      <th>NumCyl</th>\n",
       "      <th>Transmission</th>\n",
       "      <th>FE</th>\n",
       "      <th>AirAspirationMethod</th>\n",
       "      <th>NumGears</th>\n",
       "      <th>TransLockup</th>\n",
       "      <th>TransCreeperGear</th>\n",
       "      <th>DriveDesc</th>\n",
       "      <th>IntakeValvePerCyl</th>\n",
       "      <th>ExhaustValvesPerCyl</th>\n",
       "      <th>CarlineClassDesc</th>\n",
       "      <th>VarValveTiming</th>\n",
       "      <th>VarValveLift</th>\n",
       "    </tr>\n",
       "  </thead>\n",
       "  <tbody>\n",
       "    <tr>\n",
       "      <th>0</th>\n",
       "      <td>4.7</td>\n",
       "      <td>8</td>\n",
       "      <td>AM6</td>\n",
       "      <td>28.0198</td>\n",
       "      <td>NaturallyAspirated</td>\n",
       "      <td>6</td>\n",
       "      <td>1</td>\n",
       "      <td>0</td>\n",
       "      <td>TwoWheelDriveRear</td>\n",
       "      <td>2</td>\n",
       "      <td>2</td>\n",
       "      <td>2Seaters</td>\n",
       "      <td>1</td>\n",
       "      <td>0</td>\n",
       "    </tr>\n",
       "    <tr>\n",
       "      <th>1</th>\n",
       "      <td>4.7</td>\n",
       "      <td>8</td>\n",
       "      <td>M6</td>\n",
       "      <td>25.6094</td>\n",
       "      <td>NaturallyAspirated</td>\n",
       "      <td>6</td>\n",
       "      <td>1</td>\n",
       "      <td>0</td>\n",
       "      <td>TwoWheelDriveRear</td>\n",
       "      <td>2</td>\n",
       "      <td>2</td>\n",
       "      <td>2Seaters</td>\n",
       "      <td>1</td>\n",
       "      <td>0</td>\n",
       "    </tr>\n",
       "    <tr>\n",
       "      <th>2</th>\n",
       "      <td>4.2</td>\n",
       "      <td>8</td>\n",
       "      <td>M6</td>\n",
       "      <td>26.8000</td>\n",
       "      <td>NaturallyAspirated</td>\n",
       "      <td>6</td>\n",
       "      <td>1</td>\n",
       "      <td>0</td>\n",
       "      <td>AllWheelDrive</td>\n",
       "      <td>2</td>\n",
       "      <td>2</td>\n",
       "      <td>2Seaters</td>\n",
       "      <td>1</td>\n",
       "      <td>0</td>\n",
       "    </tr>\n",
       "    <tr>\n",
       "      <th>3</th>\n",
       "      <td>4.2</td>\n",
       "      <td>8</td>\n",
       "      <td>AM6</td>\n",
       "      <td>25.0451</td>\n",
       "      <td>NaturallyAspirated</td>\n",
       "      <td>6</td>\n",
       "      <td>1</td>\n",
       "      <td>0</td>\n",
       "      <td>AllWheelDrive</td>\n",
       "      <td>2</td>\n",
       "      <td>2</td>\n",
       "      <td>2Seaters</td>\n",
       "      <td>1</td>\n",
       "      <td>0</td>\n",
       "    </tr>\n",
       "    <tr>\n",
       "      <th>4</th>\n",
       "      <td>5.2</td>\n",
       "      <td>10</td>\n",
       "      <td>AM6</td>\n",
       "      <td>24.8000</td>\n",
       "      <td>NaturallyAspirated</td>\n",
       "      <td>6</td>\n",
       "      <td>0</td>\n",
       "      <td>0</td>\n",
       "      <td>AllWheelDrive</td>\n",
       "      <td>2</td>\n",
       "      <td>2</td>\n",
       "      <td>2Seaters</td>\n",
       "      <td>1</td>\n",
       "      <td>0</td>\n",
       "    </tr>\n",
       "  </tbody>\n",
       "</table>\n",
       "</div>"
      ],
      "text/plain": [
       "   EngDispl  NumCyl Transmission       FE AirAspirationMethod  NumGears  \\\n",
       "0       4.7       8          AM6  28.0198  NaturallyAspirated         6   \n",
       "1       4.7       8           M6  25.6094  NaturallyAspirated         6   \n",
       "2       4.2       8           M6  26.8000  NaturallyAspirated         6   \n",
       "3       4.2       8          AM6  25.0451  NaturallyAspirated         6   \n",
       "4       5.2      10          AM6  24.8000  NaturallyAspirated         6   \n",
       "\n",
       "   TransLockup  TransCreeperGear          DriveDesc  IntakeValvePerCyl  \\\n",
       "0            1                 0  TwoWheelDriveRear                  2   \n",
       "1            1                 0  TwoWheelDriveRear                  2   \n",
       "2            1                 0      AllWheelDrive                  2   \n",
       "3            1                 0      AllWheelDrive                  2   \n",
       "4            0                 0      AllWheelDrive                  2   \n",
       "\n",
       "   ExhaustValvesPerCyl CarlineClassDesc  VarValveTiming  VarValveLift  \n",
       "0                    2         2Seaters               1             0  \n",
       "1                    2         2Seaters               1             0  \n",
       "2                    2         2Seaters               1             0  \n",
       "3                    2         2Seaters               1             0  \n",
       "4                    2         2Seaters               1             0  "
      ]
     },
     "execution_count": 3,
     "metadata": {},
     "output_type": "execute_result"
    }
   ],
   "source": [
    "cars.head()"
   ]
  },
  {
   "cell_type": "markdown",
   "metadata": {},
   "source": [
    "The goal of this exercise is to build a polynomial regression model to predict the fuel economy (FE) of a car based on its engine displacement (EngDispl)."
   ]
  },
  {
   "cell_type": "markdown",
   "metadata": {},
   "source": [
    "**Step 1:** Create a scatterplot showing fuel economy (on the y-axis) vs. engine displacement."
   ]
  },
  {
   "cell_type": "code",
   "execution_count": 4,
   "metadata": {},
   "outputs": [],
   "source": [
    "# Your code here"
   ]
  },
  {
   "cell_type": "markdown",
   "metadata": {},
   "source": [
    "We'll grab the predictor into a variable X and the target into a variable y. Notice the double-brackets when we create the X variable. This keeps it as a pandas DataFrame as opposed to a Series, which makes it easier to work with when using scikit-learn."
   ]
  },
  {
   "cell_type": "code",
   "execution_count": 5,
   "metadata": {},
   "outputs": [],
   "source": [
    "X = cars[['EngDispl']]\n",
    "y = cars['FE']"
   ]
  },
  {
   "cell_type": "markdown",
   "metadata": {},
   "source": [
    "**Step 2:** Split your data into a train and test set."
   ]
  },
  {
   "cell_type": "code",
   "execution_count": 6,
   "metadata": {},
   "outputs": [],
   "source": [
    "# Your code here"
   ]
  },
  {
   "cell_type": "markdown",
   "metadata": {},
   "source": [
    "**Step 3:** Fit a polynomial regression model to your data. Try out a range of different degrees and pick one that you think does the best job."
   ]
  },
  {
   "cell_type": "code",
   "execution_count": 7,
   "metadata": {},
   "outputs": [],
   "source": [
    "# Your code here"
   ]
  },
  {
   "cell_type": "markdown",
   "metadata": {},
   "source": [
    "**Step 4:** Now, do one final fit using the whole dataset using what you found to be the best degree."
   ]
  },
  {
   "cell_type": "code",
   "execution_count": 8,
   "metadata": {},
   "outputs": [],
   "source": [
    "# Your code here"
   ]
  },
  {
   "cell_type": "markdown",
   "metadata": {},
   "source": [
    "**Step 5:** Plot your fitted function against your dataset. How does it look? Are there areas where it doesn't do as well?"
   ]
  },
  {
   "cell_type": "code",
   "execution_count": 9,
   "metadata": {},
   "outputs": [],
   "source": [
    "# Your code here"
   ]
  },
  {
   "cell_type": "markdown",
   "metadata": {},
   "source": [
    "**Step 6:** Finally, find the coefficients for your fitted model. You can access the different pieces of your fitted model accessing the `.steps` attribute of the pipeline you created.\n",
    "\n",
    "Also, for a linear regression model, you can access the intercept using the `.interecept_` attribute and the coefficients using the `.coef_` attribute."
   ]
  },
  {
   "cell_type": "code",
   "execution_count": 10,
   "metadata": {},
   "outputs": [],
   "source": [
    "# Your code here."
   ]
  }
 ],
 "metadata": {
  "kernelspec": {
   "display_name": "Python 3",
   "language": "python",
   "name": "python3"
  },
  "language_info": {
   "codemirror_mode": {
    "name": "ipython",
    "version": 3
   },
   "file_extension": ".py",
   "mimetype": "text/x-python",
   "name": "python",
   "nbconvert_exporter": "python",
   "pygments_lexer": "ipython3",
   "version": "3.8.3"
  }
 },
 "nbformat": 4,
 "nbformat_minor": 4
}
