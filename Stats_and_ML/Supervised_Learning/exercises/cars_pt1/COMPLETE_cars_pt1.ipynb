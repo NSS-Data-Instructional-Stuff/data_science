{
 "cells": [
  {
   "cell_type": "markdown",
   "id": "dc2862e8",
   "metadata": {},
   "source": [
    "## More Linear Regression Practice\n",
    "\n",
    "In this notebook, you'll be working with data on cars from the year 2010 with the goal being to see how well you can predict the fuel economy based on the other variables that you have."
   ]
  },
  {
   "cell_type": "code",
   "execution_count": 2,
   "id": "9dcb28ad",
   "metadata": {},
   "outputs": [],
   "source": [
    "import pandas as pd\n",
    "from sklearn.linear_model import LinearRegression\n",
    "from sklearn.model_selection import train_test_split\n",
    "from sklearn.metrics import mean_squared_error, r2_score\n",
    "import numpy as np\n",
    "import matplotlib.pyplot as plt\n",
    "from sklearn.pipeline import Pipeline\n",
    "from sklearn.preprocessing import OneHotEncoder, PolynomialFeatures\n",
    "from sklearn.compose import ColumnTransformer"
   ]
  },
  {
   "cell_type": "code",
   "execution_count": 3,
   "id": "0d5c5dd0",
   "metadata": {},
   "outputs": [],
   "source": [
    "cars = pd.read_csv('data/cars_2010.csv')"
   ]
  },
  {
   "cell_type": "code",
   "execution_count": 4,
   "id": "b16aa38a",
   "metadata": {},
   "outputs": [
    {
     "data": {
      "text/html": [
       "<div>\n",
       "<style scoped>\n",
       "    .dataframe tbody tr th:only-of-type {\n",
       "        vertical-align: middle;\n",
       "    }\n",
       "\n",
       "    .dataframe tbody tr th {\n",
       "        vertical-align: top;\n",
       "    }\n",
       "\n",
       "    .dataframe thead th {\n",
       "        text-align: right;\n",
       "    }\n",
       "</style>\n",
       "<table border=\"1\" class=\"dataframe\">\n",
       "  <thead>\n",
       "    <tr style=\"text-align: right;\">\n",
       "      <th></th>\n",
       "      <th>EngDispl</th>\n",
       "      <th>NumCyl</th>\n",
       "      <th>Transmission</th>\n",
       "      <th>FE</th>\n",
       "      <th>AirAspirationMethod</th>\n",
       "      <th>NumGears</th>\n",
       "      <th>TransLockup</th>\n",
       "      <th>TransCreeperGear</th>\n",
       "      <th>DriveDesc</th>\n",
       "      <th>IntakeValvePerCyl</th>\n",
       "      <th>ExhaustValvesPerCyl</th>\n",
       "      <th>CarlineClassDesc</th>\n",
       "      <th>VarValveTiming</th>\n",
       "      <th>VarValveLift</th>\n",
       "    </tr>\n",
       "  </thead>\n",
       "  <tbody>\n",
       "    <tr>\n",
       "      <th>0</th>\n",
       "      <td>4.7</td>\n",
       "      <td>8</td>\n",
       "      <td>AM6</td>\n",
       "      <td>28.0198</td>\n",
       "      <td>NaturallyAspirated</td>\n",
       "      <td>6</td>\n",
       "      <td>1</td>\n",
       "      <td>0</td>\n",
       "      <td>TwoWheelDriveRear</td>\n",
       "      <td>2</td>\n",
       "      <td>2</td>\n",
       "      <td>2Seaters</td>\n",
       "      <td>1</td>\n",
       "      <td>0</td>\n",
       "    </tr>\n",
       "    <tr>\n",
       "      <th>1</th>\n",
       "      <td>4.7</td>\n",
       "      <td>8</td>\n",
       "      <td>M6</td>\n",
       "      <td>25.6094</td>\n",
       "      <td>NaturallyAspirated</td>\n",
       "      <td>6</td>\n",
       "      <td>1</td>\n",
       "      <td>0</td>\n",
       "      <td>TwoWheelDriveRear</td>\n",
       "      <td>2</td>\n",
       "      <td>2</td>\n",
       "      <td>2Seaters</td>\n",
       "      <td>1</td>\n",
       "      <td>0</td>\n",
       "    </tr>\n",
       "    <tr>\n",
       "      <th>2</th>\n",
       "      <td>4.2</td>\n",
       "      <td>8</td>\n",
       "      <td>M6</td>\n",
       "      <td>26.8000</td>\n",
       "      <td>NaturallyAspirated</td>\n",
       "      <td>6</td>\n",
       "      <td>1</td>\n",
       "      <td>0</td>\n",
       "      <td>AllWheelDrive</td>\n",
       "      <td>2</td>\n",
       "      <td>2</td>\n",
       "      <td>2Seaters</td>\n",
       "      <td>1</td>\n",
       "      <td>0</td>\n",
       "    </tr>\n",
       "    <tr>\n",
       "      <th>3</th>\n",
       "      <td>4.2</td>\n",
       "      <td>8</td>\n",
       "      <td>AM6</td>\n",
       "      <td>25.0451</td>\n",
       "      <td>NaturallyAspirated</td>\n",
       "      <td>6</td>\n",
       "      <td>1</td>\n",
       "      <td>0</td>\n",
       "      <td>AllWheelDrive</td>\n",
       "      <td>2</td>\n",
       "      <td>2</td>\n",
       "      <td>2Seaters</td>\n",
       "      <td>1</td>\n",
       "      <td>0</td>\n",
       "    </tr>\n",
       "    <tr>\n",
       "      <th>4</th>\n",
       "      <td>5.2</td>\n",
       "      <td>10</td>\n",
       "      <td>AM6</td>\n",
       "      <td>24.8000</td>\n",
       "      <td>NaturallyAspirated</td>\n",
       "      <td>6</td>\n",
       "      <td>0</td>\n",
       "      <td>0</td>\n",
       "      <td>AllWheelDrive</td>\n",
       "      <td>2</td>\n",
       "      <td>2</td>\n",
       "      <td>2Seaters</td>\n",
       "      <td>1</td>\n",
       "      <td>0</td>\n",
       "    </tr>\n",
       "  </tbody>\n",
       "</table>\n",
       "</div>"
      ],
      "text/plain": [
       "   EngDispl  NumCyl Transmission       FE AirAspirationMethod  NumGears  \\\n",
       "0       4.7       8          AM6  28.0198  NaturallyAspirated         6   \n",
       "1       4.7       8           M6  25.6094  NaturallyAspirated         6   \n",
       "2       4.2       8           M6  26.8000  NaturallyAspirated         6   \n",
       "3       4.2       8          AM6  25.0451  NaturallyAspirated         6   \n",
       "4       5.2      10          AM6  24.8000  NaturallyAspirated         6   \n",
       "\n",
       "   TransLockup  TransCreeperGear          DriveDesc  IntakeValvePerCyl  \\\n",
       "0            1                 0  TwoWheelDriveRear                  2   \n",
       "1            1                 0  TwoWheelDriveRear                  2   \n",
       "2            1                 0      AllWheelDrive                  2   \n",
       "3            1                 0      AllWheelDrive                  2   \n",
       "4            0                 0      AllWheelDrive                  2   \n",
       "\n",
       "   ExhaustValvesPerCyl CarlineClassDesc  VarValveTiming  VarValveLift  \n",
       "0                    2         2Seaters               1             0  \n",
       "1                    2         2Seaters               1             0  \n",
       "2                    2         2Seaters               1             0  \n",
       "3                    2         2Seaters               1             0  \n",
       "4                    2         2Seaters               1             0  "
      ]
     },
     "execution_count": 4,
     "metadata": {},
     "output_type": "execute_result"
    }
   ],
   "source": [
    "cars.head()"
   ]
  },
  {
   "cell_type": "markdown",
   "id": "d83a9f49",
   "metadata": {},
   "source": [
    "First, we'll build a linear model that uses only the EngDispl variable. Make sure that you do a train/test split before fitting your model so that you can evaluate its performance."
   ]
  },
  {
   "cell_type": "code",
   "execution_count": 5,
   "id": "8921a639",
   "metadata": {},
   "outputs": [],
   "source": [
    "variables = ['EngDispl']\n",
    "\n",
    "X = cars[variables]\n",
    "y = cars['FE']\n",
    "\n",
    "X_train, X_test, y_train, y_test = train_test_split(X, y, random_state = 321)\n",
    "\n",
    "linreg = LinearRegression().fit(X_train, y_train)"
   ]
  },
  {
   "cell_type": "code",
   "execution_count": 6,
   "id": "b3d5de07",
   "metadata": {},
   "outputs": [
    {
     "data": {
      "text/html": [
       "<div>\n",
       "<style scoped>\n",
       "    .dataframe tbody tr th:only-of-type {\n",
       "        vertical-align: middle;\n",
       "    }\n",
       "\n",
       "    .dataframe tbody tr th {\n",
       "        vertical-align: top;\n",
       "    }\n",
       "\n",
       "    .dataframe thead th {\n",
       "        text-align: right;\n",
       "    }\n",
       "</style>\n",
       "<table border=\"1\" class=\"dataframe\">\n",
       "  <thead>\n",
       "    <tr style=\"text-align: right;\">\n",
       "      <th></th>\n",
       "      <th>variable</th>\n",
       "      <th>coefficient</th>\n",
       "    </tr>\n",
       "  </thead>\n",
       "  <tbody>\n",
       "    <tr>\n",
       "      <th>0</th>\n",
       "      <td>intercept</td>\n",
       "      <td>50.486867</td>\n",
       "    </tr>\n",
       "    <tr>\n",
       "      <th>1</th>\n",
       "      <td>EngDispl</td>\n",
       "      <td>-4.505576</td>\n",
       "    </tr>\n",
       "  </tbody>\n",
       "</table>\n",
       "</div>"
      ],
      "text/plain": [
       "    variable  coefficient\n",
       "0  intercept    50.486867\n",
       "1   EngDispl    -4.505576"
      ]
     },
     "execution_count": 6,
     "metadata": {},
     "output_type": "execute_result"
    }
   ],
   "source": [
    "coefficients = pd.DataFrame({\n",
    "    'variable': ['intercept'] + list(X_train.columns),\n",
    "    'coefficient': [linreg.intercept_] + list(linreg.coef_)\n",
    "})\n",
    "\n",
    "coefficients"
   ]
  },
  {
   "cell_type": "markdown",
   "id": "a4792532",
   "metadata": {},
   "source": [
    "**Question 1:** What would the predicted FE value be for a car with an EngDispl value of 3?"
   ]
  },
  {
   "cell_type": "markdown",
   "id": "1ede3516",
   "metadata": {},
   "source": [
    "Now, let's look at how well our model did on the test data."
   ]
  },
  {
   "cell_type": "code",
   "execution_count": 7,
   "id": "6542c7d9",
   "metadata": {},
   "outputs": [
    {
     "name": "stdout",
     "output_type": "stream",
     "text": [
      "Mean Squared Error: 22.75089012385169\n",
      "R2: 0.5999451221799641\n"
     ]
    }
   ],
   "source": [
    "print(f'Mean Squared Error: {mean_squared_error(y_test, linreg.predict(X_test))}')\n",
    "print(f'R2: {r2_score(y_test, linreg.predict(X_test))}')"
   ]
  },
  {
   "cell_type": "markdown",
   "id": "c1602847",
   "metadata": {},
   "source": [
    "Now, we'll build a model that uses just the AirAspirationMethod to predict fuel economy."
   ]
  },
  {
   "cell_type": "code",
   "execution_count": 8,
   "id": "8939e1ab",
   "metadata": {},
   "outputs": [
    {
     "data": {
      "text/plain": [
       "Pipeline(steps=[('ct',\n",
       "                 ColumnTransformer(remainder='passthrough',\n",
       "                                   transformers=[('ohe',\n",
       "                                                  OneHotEncoder(drop='first'),\n",
       "                                                  ['AirAspirationMethod'])])),\n",
       "                ('linreg', LinearRegression())])"
      ]
     },
     "execution_count": 8,
     "metadata": {},
     "output_type": "execute_result"
    }
   ],
   "source": [
    "variables = ['AirAspirationMethod']\n",
    "categorical_variables = ['AirAspirationMethod']\n",
    "\n",
    "X = cars[variables]\n",
    "y = cars['FE']\n",
    "\n",
    "X_train, X_test, y_train, y_test = train_test_split(X, y, random_state = 321)\n",
    "\n",
    "pipe = Pipeline(steps = [\n",
    "    ('ct', ColumnTransformer(\n",
    "        transformers = [\n",
    "            ('ohe', OneHotEncoder(drop = 'first'), categorical_variables)\n",
    "        ],\n",
    "        remainder = 'passthrough'\n",
    "    )\n",
    "    ),\n",
    "    ('linreg', LinearRegression())\n",
    "])\n",
    "\n",
    "pipe.fit(X_train, y_train)"
   ]
  },
  {
   "cell_type": "code",
   "execution_count": 9,
   "id": "981c1801",
   "metadata": {},
   "outputs": [
    {
     "name": "stdout",
     "output_type": "stream",
     "text": [
      "MSE: 55.47120279927464\n",
      "R2: 0.02458650463398815\n"
     ]
    }
   ],
   "source": [
    "print(f'MSE: {mean_squared_error(y_test, pipe.predict(X_test))}')\n",
    "print(f'R2: {r2_score(y_test, pipe.predict(X_test))}')"
   ]
  },
  {
   "cell_type": "code",
   "execution_count": 10,
   "id": "5d74a118",
   "metadata": {},
   "outputs": [
    {
     "data": {
      "text/html": [
       "<div>\n",
       "<style scoped>\n",
       "    .dataframe tbody tr th:only-of-type {\n",
       "        vertical-align: middle;\n",
       "    }\n",
       "\n",
       "    .dataframe tbody tr th {\n",
       "        vertical-align: top;\n",
       "    }\n",
       "\n",
       "    .dataframe thead th {\n",
       "        text-align: right;\n",
       "    }\n",
       "</style>\n",
       "<table border=\"1\" class=\"dataframe\">\n",
       "  <thead>\n",
       "    <tr style=\"text-align: right;\">\n",
       "      <th></th>\n",
       "      <th>variable</th>\n",
       "      <th>coefficient</th>\n",
       "    </tr>\n",
       "  </thead>\n",
       "  <tbody>\n",
       "    <tr>\n",
       "      <th>0</th>\n",
       "      <td>intercept</td>\n",
       "      <td>34.648947</td>\n",
       "    </tr>\n",
       "    <tr>\n",
       "      <th>1</th>\n",
       "      <td>AirAspirationMethod_Supercharged</td>\n",
       "      <td>-3.302847</td>\n",
       "    </tr>\n",
       "    <tr>\n",
       "      <th>2</th>\n",
       "      <td>AirAspirationMethod_Turbocharged</td>\n",
       "      <td>1.338254</td>\n",
       "    </tr>\n",
       "  </tbody>\n",
       "</table>\n",
       "</div>"
      ],
      "text/plain": [
       "                           variable  coefficient\n",
       "0                         intercept    34.648947\n",
       "1  AirAspirationMethod_Supercharged    -3.302847\n",
       "2  AirAspirationMethod_Turbocharged     1.338254"
      ]
     },
     "execution_count": 10,
     "metadata": {},
     "output_type": "execute_result"
    }
   ],
   "source": [
    "features = list(pipe['ct'].named_transformers_['ohe'].get_feature_names(categorical_variables))\n",
    "features += [x for x in X_train.columns if x not in categorical_variables]\n",
    "\n",
    "coefficients = pd.DataFrame({\n",
    "    'variable': ['intercept'] + features,\n",
    "    'coefficient': [pipe['linreg'].intercept_] + list(pipe['linreg'].coef_)\n",
    "})\n",
    "coefficients"
   ]
  },
  {
   "cell_type": "markdown",
   "id": "95a8fd1c",
   "metadata": {},
   "source": [
    "**Question 2:** What does your model predict for the FE value for a Turbocharged car?"
   ]
  },
  {
   "cell_type": "markdown",
   "id": "860c7211",
   "metadata": {},
   "source": [
    "Now, we'll fit a model using the Engine Displacement and AirAspirationMethod but not the interaction between them."
   ]
  },
  {
   "cell_type": "code",
   "execution_count": 11,
   "id": "fca44210",
   "metadata": {},
   "outputs": [
    {
     "data": {
      "text/plain": [
       "Pipeline(steps=[('ct',\n",
       "                 ColumnTransformer(remainder='passthrough',\n",
       "                                   transformers=[('ohe',\n",
       "                                                  OneHotEncoder(drop='first'),\n",
       "                                                  ['AirAspirationMethod'])])),\n",
       "                ('linreg', LinearRegression())])"
      ]
     },
     "execution_count": 11,
     "metadata": {},
     "output_type": "execute_result"
    }
   ],
   "source": [
    "variables = ['EngDispl', 'AirAspirationMethod']\n",
    "categorical_variables = ['AirAspirationMethod']\n",
    "\n",
    "X = cars[variables]\n",
    "y = cars['FE']\n",
    "\n",
    "X_train, X_test, y_train, y_test = train_test_split(X, y, random_state = 321)\n",
    "\n",
    "pipe = Pipeline(steps = [\n",
    "    ('ct', ColumnTransformer(\n",
    "        transformers = [\n",
    "            ('ohe', OneHotEncoder(drop = 'first'), categorical_variables)\n",
    "        ],\n",
    "        remainder = 'passthrough'\n",
    "        )\n",
    "    ),\n",
    "    ('linreg', LinearRegression())\n",
    "])\n",
    "\n",
    "pipe.fit(X_train, y_train)"
   ]
  },
  {
   "cell_type": "code",
   "execution_count": 12,
   "id": "0495b1c1",
   "metadata": {},
   "outputs": [
    {
     "data": {
      "text/html": [
       "<div>\n",
       "<style scoped>\n",
       "    .dataframe tbody tr th:only-of-type {\n",
       "        vertical-align: middle;\n",
       "    }\n",
       "\n",
       "    .dataframe tbody tr th {\n",
       "        vertical-align: top;\n",
       "    }\n",
       "\n",
       "    .dataframe thead th {\n",
       "        text-align: right;\n",
       "    }\n",
       "</style>\n",
       "<table border=\"1\" class=\"dataframe\">\n",
       "  <thead>\n",
       "    <tr style=\"text-align: right;\">\n",
       "      <th></th>\n",
       "      <th>variable</th>\n",
       "      <th>coefficient</th>\n",
       "    </tr>\n",
       "  </thead>\n",
       "  <tbody>\n",
       "    <tr>\n",
       "      <th>0</th>\n",
       "      <td>intercept</td>\n",
       "      <td>50.955918</td>\n",
       "    </tr>\n",
       "    <tr>\n",
       "      <th>1</th>\n",
       "      <td>AirAspirationMethod_Supercharged</td>\n",
       "      <td>-0.974454</td>\n",
       "    </tr>\n",
       "    <tr>\n",
       "      <th>2</th>\n",
       "      <td>AirAspirationMethod_Turbocharged</td>\n",
       "      <td>-1.513939</td>\n",
       "    </tr>\n",
       "    <tr>\n",
       "      <th>3</th>\n",
       "      <td>EngDispl</td>\n",
       "      <td>-4.570938</td>\n",
       "    </tr>\n",
       "  </tbody>\n",
       "</table>\n",
       "</div>"
      ],
      "text/plain": [
       "                           variable  coefficient\n",
       "0                         intercept    50.955918\n",
       "1  AirAspirationMethod_Supercharged    -0.974454\n",
       "2  AirAspirationMethod_Turbocharged    -1.513939\n",
       "3                          EngDispl    -4.570938"
      ]
     },
     "execution_count": 12,
     "metadata": {},
     "output_type": "execute_result"
    }
   ],
   "source": [
    "features = list(pipe['ct'].named_transformers_['ohe'].get_feature_names(categorical_variables))\n",
    "features += [x for x in X_train.columns if x not in categorical_variables]\n",
    "\n",
    "coefficients = pd.DataFrame({\n",
    "    'variable': ['intercept'] + features,\n",
    "    'coefficient': [pipe['linreg'].intercept_] + list(pipe['linreg'].coef_)\n",
    "})\n",
    "coefficients"
   ]
  },
  {
   "cell_type": "markdown",
   "id": "3d0b2755",
   "metadata": {},
   "source": [
    "**Question 3:** What does your model predict for the FE value of a supercharged car that has and EngDispl value of 4?\n",
    "\n",
    "**Question 4:** What does your model predict for the FE value of a naturally aspirated car that has and EngDispl value of 4?"
   ]
  },
  {
   "cell_type": "markdown",
   "id": "c9a0e785",
   "metadata": {},
   "source": [
    "Let's see how this affected the model performance."
   ]
  },
  {
   "cell_type": "code",
   "execution_count": 13,
   "id": "9bd45c82",
   "metadata": {},
   "outputs": [
    {
     "name": "stdout",
     "output_type": "stream",
     "text": [
      "MSE: 23.03907472758885\n",
      "R2: 0.5948776432457302\n"
     ]
    }
   ],
   "source": [
    "print(f'MSE: {mean_squared_error(y_test, pipe.predict(X_test))}')\n",
    "print(f'R2: {r2_score(y_test, pipe.predict(X_test))}')"
   ]
  },
  {
   "cell_type": "markdown",
   "id": "4be422a2",
   "metadata": {},
   "source": [
    "Now, we'll fit a model using EngDispl, AirAspirationMethod, and the interaction between the two variables."
   ]
  },
  {
   "cell_type": "code",
   "execution_count": 17,
   "id": "7a2717c6",
   "metadata": {},
   "outputs": [
    {
     "data": {
      "text/plain": [
       "Pipeline(steps=[('ct',\n",
       "                 ColumnTransformer(remainder='passthrough',\n",
       "                                   transformers=[('ohe',\n",
       "                                                  OneHotEncoder(drop='first'),\n",
       "                                                  ['AirAspirationMethod'])])),\n",
       "                ('pf',\n",
       "                 PolynomialFeatures(include_bias=False, interaction_only=True)),\n",
       "                ('linreg', LinearRegression())])"
      ]
     },
     "execution_count": 17,
     "metadata": {},
     "output_type": "execute_result"
    }
   ],
   "source": [
    "variables = ['EngDispl', 'AirAspirationMethod']\n",
    "categorical_variables = ['AirAspirationMethod']\n",
    "\n",
    "X = cars[variables]\n",
    "y = cars['FE']\n",
    "\n",
    "X_train, X_test, y_train, y_test = train_test_split(X, y, random_state = 321)\n",
    "\n",
    "pipe = Pipeline(steps = [\n",
    "    ('ct', ColumnTransformer(\n",
    "        transformers = [\n",
    "            ('ohe', OneHotEncoder(drop = 'first'), categorical_variables)\n",
    "        ],\n",
    "        remainder = 'passthrough'\n",
    "        )\n",
    "    ),\n",
    "    ('pf', PolynomialFeatures(include_bias=False, interaction_only=True)),\n",
    "    ('linreg', LinearRegression())\n",
    "])\n",
    "\n",
    "pipe.fit(X_train, y_train)"
   ]
  },
  {
   "cell_type": "code",
   "execution_count": 18,
   "id": "25446355",
   "metadata": {},
   "outputs": [
    {
     "data": {
      "text/html": [
       "<div>\n",
       "<style scoped>\n",
       "    .dataframe tbody tr th:only-of-type {\n",
       "        vertical-align: middle;\n",
       "    }\n",
       "\n",
       "    .dataframe tbody tr th {\n",
       "        vertical-align: top;\n",
       "    }\n",
       "\n",
       "    .dataframe thead th {\n",
       "        text-align: right;\n",
       "    }\n",
       "</style>\n",
       "<table border=\"1\" class=\"dataframe\">\n",
       "  <thead>\n",
       "    <tr style=\"text-align: right;\">\n",
       "      <th></th>\n",
       "      <th>variable</th>\n",
       "      <th>coefficient</th>\n",
       "    </tr>\n",
       "  </thead>\n",
       "  <tbody>\n",
       "    <tr>\n",
       "      <th>0</th>\n",
       "      <td>intercept</td>\n",
       "      <td>5.095005e+01</td>\n",
       "    </tr>\n",
       "    <tr>\n",
       "      <th>1</th>\n",
       "      <td>AirAspirationMethod_Supercharged</td>\n",
       "      <td>-8.517655e+00</td>\n",
       "    </tr>\n",
       "    <tr>\n",
       "      <th>2</th>\n",
       "      <td>AirAspirationMethod_Turbocharged</td>\n",
       "      <td>-9.360632e-01</td>\n",
       "    </tr>\n",
       "    <tr>\n",
       "      <th>3</th>\n",
       "      <td>EngDispl</td>\n",
       "      <td>-4.569292e+00</td>\n",
       "    </tr>\n",
       "    <tr>\n",
       "      <th>4</th>\n",
       "      <td>AirAspirationMethod_Supercharged AirAspiration...</td>\n",
       "      <td>-8.881784e-16</td>\n",
       "    </tr>\n",
       "    <tr>\n",
       "      <th>5</th>\n",
       "      <td>AirAspirationMethod_Supercharged EngDispl</td>\n",
       "      <td>1.850014e+00</td>\n",
       "    </tr>\n",
       "    <tr>\n",
       "      <th>6</th>\n",
       "      <td>AirAspirationMethod_Turbocharged EngDispl</td>\n",
       "      <td>-1.959704e-01</td>\n",
       "    </tr>\n",
       "  </tbody>\n",
       "</table>\n",
       "</div>"
      ],
      "text/plain": [
       "                                            variable   coefficient\n",
       "0                                          intercept  5.095005e+01\n",
       "1                   AirAspirationMethod_Supercharged -8.517655e+00\n",
       "2                   AirAspirationMethod_Turbocharged -9.360632e-01\n",
       "3                                           EngDispl -4.569292e+00\n",
       "4  AirAspirationMethod_Supercharged AirAspiration... -8.881784e-16\n",
       "5          AirAspirationMethod_Supercharged EngDispl  1.850014e+00\n",
       "6          AirAspirationMethod_Turbocharged EngDispl -1.959704e-01"
      ]
     },
     "execution_count": 18,
     "metadata": {},
     "output_type": "execute_result"
    }
   ],
   "source": [
    "features = list(pipe['ct'].named_transformers_['ohe'].get_feature_names(categorical_variables))\n",
    "features += [x for x in X_train.columns if x not in categorical_variables]\n",
    "features = pipe['pf'].get_feature_names(features)\n",
    "\n",
    "coefficients = pd.DataFrame({\n",
    "    'variable': ['intercept'] + features,\n",
    "    'coefficient': [pipe['linreg'].intercept_] + list(pipe['linreg'].coef_)\n",
    "})\n",
    "coefficients"
   ]
  },
  {
   "cell_type": "markdown",
   "id": "b4200d18",
   "metadata": {},
   "source": [
    "**Question 5:** What FE value does the model predict for a supercharged car with an EngDispl value of 4?"
   ]
  },
  {
   "cell_type": "markdown",
   "id": "1ea46847",
   "metadata": {},
   "source": [
    "Let's check how it did on the test data."
   ]
  },
  {
   "cell_type": "code",
   "execution_count": 23,
   "id": "b391512b",
   "metadata": {},
   "outputs": [
    {
     "name": "stdout",
     "output_type": "stream",
     "text": [
      "MSE: 20.162368729787648\n",
      "R2: 0.6454620494034481\n"
     ]
    }
   ],
   "source": [
    "print(f'MSE: {mean_squared_error(y_test, pipe.predict(X_test))}')\n",
    "print(f'R2: {r2_score(y_test, pipe.predict(X_test))}')"
   ]
  },
  {
   "cell_type": "markdown",
   "id": "bc2817e8",
   "metadata": {},
   "source": [
    "Let's look at the plot of EngDispl vs. FE."
   ]
  },
  {
   "cell_type": "code",
   "execution_count": 20,
   "id": "bb9f5c3a",
   "metadata": {},
   "outputs": [
    {
     "data": {
      "image/png": "[encoded data removed]",
      "text/plain": [
       "<Figure size 720x432 with 1 Axes>"
      ]
     },
     "metadata": {
      "needs_background": "light"
     },
     "output_type": "display_data"
    }
   ],
   "source": [
    "cars.plot(kind = 'scatter', x = 'EngDispl', y = 'FE', figsize = (10,6));"
   ]
  },
  {
   "cell_type": "markdown",
   "id": "51874feb",
   "metadata": {},
   "source": [
    "It looks like the relationship between these variable might be slightly non-linear. Perhaps a higher degree polynomial will fit better.\n",
    "Let's try fitting a model of the form\n",
    "\n",
    "$$\\text{Predicted FE} = \\beta_0 + \\beta_1\\cdot(\\text{EngDispl}) + \\beta_2\\cdot(\\text{EngDispl})^2$$\n",
    "\n",
    "We'll do that using the PolynomialFeatures class again."
   ]
  },
  {
   "cell_type": "code",
   "execution_count": 21,
   "id": "6dbe092a",
   "metadata": {},
   "outputs": [
    {
     "data": {
      "text/plain": [
       "Pipeline(steps=[('pf', PolynomialFeatures(include_bias=False)),\n",
       "                ('linreg', LinearRegression())])"
      ]
     },
     "execution_count": 21,
     "metadata": {},
     "output_type": "execute_result"
    }
   ],
   "source": [
    "variables = ['EngDispl']\n",
    "\n",
    "X = cars[variables]\n",
    "y = cars['FE']\n",
    "\n",
    "X_train, X_test, y_train, y_test = train_test_split(X, y, random_state = 321)\n",
    "\n",
    "pipe = Pipeline(steps = [\n",
    "    ('pf', PolynomialFeatures(include_bias=False, interaction_only=False, degree = 2)),\n",
    "    ('linreg', LinearRegression())\n",
    "])\n",
    "\n",
    "pipe.fit(X_train, y_train)"
   ]
  },
  {
   "cell_type": "code",
   "execution_count": 22,
   "id": "74ac7350",
   "metadata": {},
   "outputs": [
    {
     "data": {
      "text/html": [
       "<div>\n",
       "<style scoped>\n",
       "    .dataframe tbody tr th:only-of-type {\n",
       "        vertical-align: middle;\n",
       "    }\n",
       "\n",
       "    .dataframe tbody tr th {\n",
       "        vertical-align: top;\n",
       "    }\n",
       "\n",
       "    .dataframe thead th {\n",
       "        text-align: right;\n",
       "    }\n",
       "</style>\n",
       "<table border=\"1\" class=\"dataframe\">\n",
       "  <thead>\n",
       "    <tr style=\"text-align: right;\">\n",
       "      <th></th>\n",
       "      <th>variable</th>\n",
       "      <th>coefficient</th>\n",
       "    </tr>\n",
       "  </thead>\n",
       "  <tbody>\n",
       "    <tr>\n",
       "      <th>0</th>\n",
       "      <td>intercept</td>\n",
       "      <td>63.112340</td>\n",
       "    </tr>\n",
       "    <tr>\n",
       "      <th>1</th>\n",
       "      <td>EngDispl</td>\n",
       "      <td>-11.849898</td>\n",
       "    </tr>\n",
       "    <tr>\n",
       "      <th>2</th>\n",
       "      <td>EngDispl^2</td>\n",
       "      <td>0.934870</td>\n",
       "    </tr>\n",
       "  </tbody>\n",
       "</table>\n",
       "</div>"
      ],
      "text/plain": [
       "     variable  coefficient\n",
       "0   intercept    63.112340\n",
       "1    EngDispl   -11.849898\n",
       "2  EngDispl^2     0.934870"
      ]
     },
     "execution_count": 22,
     "metadata": {},
     "output_type": "execute_result"
    }
   ],
   "source": [
    "features = pipe['pf'].get_feature_names(variables)\n",
    "\n",
    "coefficients = pd.DataFrame({\n",
    "    'variable': ['intercept'] + features,\n",
    "    'coefficient': [pipe['linreg'].intercept_] + list(pipe['linreg'].coef_)\n",
    "})\n",
    "coefficients"
   ]
  },
  {
   "cell_type": "markdown",
   "id": "2325a151",
   "metadata": {},
   "source": [
    "**Question 6:** What does this model predict for the fuel economy of a car with an EngDispl value of 4?"
   ]
  },
  {
   "cell_type": "markdown",
   "id": "07c5fbdb",
   "metadata": {},
   "source": [
    "Let's check the model performance."
   ]
  },
  {
   "cell_type": "code",
   "execution_count": 24,
   "id": "86b5c345",
   "metadata": {},
   "outputs": [
    {
     "name": "stdout",
     "output_type": "stream",
     "text": [
      "MSE: 20.162368729787648\n",
      "R2: 0.6454620494034481\n"
     ]
    }
   ],
   "source": [
    "print(f'MSE: {mean_squared_error(y_test, pipe.predict(X_test))}')\n",
    "print(f'R2: {r2_score(y_test, pipe.predict(X_test))}')"
   ]
  },
  {
   "cell_type": "markdown",
   "id": "21553097",
   "metadata": {},
   "source": [
    "If you want to see the curve that was fit, you can use the following code to create the plot."
   ]
  },
  {
   "cell_type": "code",
   "execution_count": 25,
   "id": "b8785e45",
   "metadata": {},
   "outputs": [
    {
     "data": {
      "image/png": "[encoded data removed]",
      "text/plain": [
       "<Figure size 720x432 with 1 Axes>"
      ]
     },
     "metadata": {
      "needs_background": "light"
     },
     "output_type": "display_data"
    }
   ],
   "source": [
    "x_grid = np.linspace(start = cars['EngDispl'].min(),\n",
    "                    stop = cars['EngDispl'].max(),\n",
    "                    num = 150)\n",
    "y_grid = pipe.predict(x_grid.reshape(-1, 1))\n",
    "\n",
    "fig, ax = plt.subplots(figsize = (10,6))\n",
    "plt.plot(x_grid, y_grid)\n",
    "cars.plot(kind = 'scatter',\n",
    "             x = 'EngDispl',\n",
    "             y = 'FE', ax = ax);"
   ]
  },
  {
   "cell_type": "markdown",
   "id": "51b79b2a",
   "metadata": {},
   "source": [
    "**Bonus Questions:** Continue to explore other variables and see how well you can fit a linear model to this dataset."
   ]
  }
 ],
 "metadata": {
  "kernelspec": {
   "display_name": "Python 3 (ipykernel)",
   "language": "python",
   "name": "python3"
  },
  "language_info": {
   "codemirror_mode": {
    "name": "ipython",
    "version": 3
   },
   "file_extension": ".py",
   "mimetype": "text/x-python",
   "name": "python",
   "nbconvert_exporter": "python",
   "pygments_lexer": "ipython3",
   "version": "3.8.3"
  }
 },
 "nbformat": 4,
 "nbformat_minor": 5
}
