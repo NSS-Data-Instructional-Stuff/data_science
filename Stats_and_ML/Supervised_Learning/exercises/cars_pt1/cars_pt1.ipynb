{
 "cells": [
  {
   "cell_type": "markdown",
   "id": "dc2862e8",
   "metadata": {},
   "source": [
    "## More Linear Regression Practice\n",
    "\n",
    "In this notebook, you'll be working with data on cars from the year 2010 with the goal being to see how well you can predict the fuel economy based on the other variables that you have."
   ]
  },
  {
   "cell_type": "code",
   "execution_count": null,
   "id": "9dcb28ad",
   "metadata": {},
   "outputs": [],
   "source": [
    "import pandas as pd\n",
    "from sklearn.linear_model import LinearRegression\n",
    "from sklearn.model_selection import train_test_split\n",
    "from sklearn.metrics import mean_squared_error, r2_score\n",
    "import numpy as np\n",
    "import matplotlib.pyplot as plt\n",
    "from sklearn.pipeline import Pipeline\n",
    "from sklearn.preprocessing import OneHotEncoder, PolynomialFeatures\n",
    "from sklearn.compose import ColumnTransformer"
   ]
  },
  {
   "cell_type": "code",
   "execution_count": null,
   "id": "0d5c5dd0",
   "metadata": {},
   "outputs": [],
   "source": [
    "cars = pd.read_csv('data/cars_2010.csv')"
   ]
  },
  {
   "cell_type": "code",
   "execution_count": null,
   "id": "b16aa38a",
   "metadata": {},
   "outputs": [],
   "source": [
    "cars.head()"
   ]
  },
  {
   "cell_type": "markdown",
   "id": "d83a9f49",
   "metadata": {},
   "source": [
    "First, we'll build a linear model that uses only the EngDispl variable. Make sure that you do a train/test split before fitting your model so that you can evaluate its performance."
   ]
  },
  {
   "cell_type": "code",
   "execution_count": null,
   "id": "8921a639",
   "metadata": {},
   "outputs": [],
   "source": [
    "variables = ['EngDispl']\n",
    "\n",
    "X = cars[variables]\n",
    "y = cars['FE']\n",
    "\n",
    "X_train, X_test, y_train, y_test = train_test_split(X, y, random_state = 321)\n",
    "\n",
    "linreg = LinearRegression().fit(X_train, y_train)"
   ]
  },
  {
   "cell_type": "code",
   "execution_count": null,
   "id": "b3d5de07",
   "metadata": {},
   "outputs": [],
   "source": [
    "coefficients = pd.DataFrame({\n",
    "    'variable': ['intercept'] + list(X_train.columns),\n",
    "    'coefficient': [linreg.intercept_] + list(linreg.coef_)\n",
    "})\n",
    "\n",
    "coefficients"
   ]
  },
  {
   "cell_type": "markdown",
   "id": "a4792532",
   "metadata": {},
   "source": [
    "**Question 1:** What would the predicted FE value be for a car with an EngDispl value of 3?"
   ]
  },
  {
   "cell_type": "markdown",
   "id": "1ede3516",
   "metadata": {},
   "source": [
    "Now, let's look at how well our model did on the test data."
   ]
  },
  {
   "cell_type": "code",
   "execution_count": null,
   "id": "6542c7d9",
   "metadata": {},
   "outputs": [],
   "source": [
    "print(f'Mean Squared Error: {mean_squared_error(y_test, linreg.predict(X_test))}')\n",
    "print(f'R2: {r2_score(y_test, linreg.predict(X_test))}')"
   ]
  },
  {
   "cell_type": "markdown",
   "id": "c1602847",
   "metadata": {},
   "source": [
    "Now, we'll build a model that uses just the AirAspirationMethod to predict fuel economy."
   ]
  },
  {
   "cell_type": "code",
   "execution_count": null,
   "id": "8939e1ab",
   "metadata": {},
   "outputs": [],
   "source": [
    "variables = ['AirAspirationMethod']\n",
    "categorical_variables = ['AirAspirationMethod']\n",
    "\n",
    "X = cars[variables]\n",
    "y = cars['FE']\n",
    "\n",
    "X_train, X_test, y_train, y_test = train_test_split(X, y, random_state = 321)\n",
    "\n",
    "pipe = Pipeline(steps = [\n",
    "    ('ct', ColumnTransformer(\n",
    "        transformers = [\n",
    "            ('ohe', OneHotEncoder(drop = 'first'), categorical_variables)\n",
    "        ],\n",
    "        remainder = 'passthrough'\n",
    "    )\n",
    "    ),\n",
    "    ('linreg', LinearRegression())\n",
    "])\n",
    "\n",
    "pipe.fit(X_train, y_train)"
   ]
  },
  {
   "cell_type": "code",
   "execution_count": null,
   "id": "981c1801",
   "metadata": {},
   "outputs": [],
   "source": [
    "print(f'MSE: {mean_squared_error(y_test, pipe.predict(X_test))}')\n",
    "print(f'R2: {r2_score(y_test, pipe.predict(X_test))}')"
   ]
  },
  {
   "cell_type": "code",
   "execution_count": null,
   "id": "5d74a118",
   "metadata": {},
   "outputs": [],
   "source": [
    "features = list(pipe['ct'].named_transformers_['ohe'].get_feature_names(categorical_variables))\n",
    "features += [x for x in X_train.columns if x not in categorical_variables]\n",
    "\n",
    "coefficients = pd.DataFrame({\n",
    "    'variable': ['intercept'] + features,\n",
    "    'coefficient': [pipe['linreg'].intercept_] + list(pipe['linreg'].coef_)\n",
    "})\n",
    "coefficients"
   ]
  },
  {
   "cell_type": "markdown",
   "id": "95a8fd1c",
   "metadata": {},
   "source": [
    "**Question 2:** What does your model predict for the FE value for a Turbocharged car?"
   ]
  },
  {
   "cell_type": "markdown",
   "id": "860c7211",
   "metadata": {},
   "source": [
    "Now, we'll fit a model using the Engine Displacement and AirAspirationMethod but not the interaction between them."
   ]
  },
  {
   "cell_type": "code",
   "execution_count": null,
   "id": "fca44210",
   "metadata": {},
   "outputs": [],
   "source": [
    "variables = ['EngDispl', 'AirAspirationMethod']\n",
    "categorical_variables = ['AirAspirationMethod']\n",
    "\n",
    "X = cars[variables]\n",
    "y = cars['FE']\n",
    "\n",
    "X_train, X_test, y_train, y_test = train_test_split(X, y, random_state = 321)\n",
    "\n",
    "pipe = Pipeline(steps = [\n",
    "    ('ct', ColumnTransformer(\n",
    "        transformers = [\n",
    "            ('ohe', OneHotEncoder(drop = 'first'), categorical_variables)\n",
    "        ],\n",
    "        remainder = 'passthrough'\n",
    "        )\n",
    "    ),\n",
    "    ('linreg', LinearRegression())\n",
    "])\n",
    "\n",
    "pipe.fit(X_train, y_train)"
   ]
  },
  {
   "cell_type": "code",
   "execution_count": null,
   "id": "0495b1c1",
   "metadata": {},
   "outputs": [],
   "source": [
    "features = list(pipe['ct'].named_transformers_['ohe'].get_feature_names(categorical_variables))\n",
    "features += [x for x in X_train.columns if x not in categorical_variables]\n",
    "\n",
    "coefficients = pd.DataFrame({\n",
    "    'variable': ['intercept'] + features,\n",
    "    'coefficient': [pipe['linreg'].intercept_] + list(pipe['linreg'].coef_)\n",
    "})\n",
    "coefficients"
   ]
  },
  {
   "cell_type": "markdown",
   "id": "3d0b2755",
   "metadata": {},
   "source": [
    "**Question 3:** What does your model predict for the FE value of a supercharged car that has and EngDispl value of 4?\n",
    "\n",
    "**Question 4:** What does your model predict for the FE value of a naturally aspirated car that has and EngDispl value of 4?"
   ]
  },
  {
   "cell_type": "markdown",
   "id": "c9a0e785",
   "metadata": {},
   "source": [
    "Let's see how this affected the model performance."
   ]
  },
  {
   "cell_type": "code",
   "execution_count": null,
   "id": "9bd45c82",
   "metadata": {},
   "outputs": [],
   "source": [
    "print(f'MSE: {mean_squared_error(y_test, pipe.predict(X_test))}')\n",
    "print(f'R2: {r2_score(y_test, pipe.predict(X_test))}')"
   ]
  },
  {
   "cell_type": "markdown",
   "id": "4be422a2",
   "metadata": {},
   "source": [
    "Now, we'll fit a model using EngDispl, AirAspirationMethod, and the interaction between the two variables."
   ]
  },
  {
   "cell_type": "code",
   "execution_count": null,
   "id": "7a2717c6",
   "metadata": {},
   "outputs": [],
   "source": [
    "variables = ['EngDispl', 'AirAspirationMethod']\n",
    "categorical_variables = ['AirAspirationMethod']\n",
    "\n",
    "X = cars[variables]\n",
    "y = cars['FE']\n",
    "\n",
    "X_train, X_test, y_train, y_test = train_test_split(X, y, random_state = 321)\n",
    "\n",
    "pipe = Pipeline(steps = [\n",
    "    ('ct', ColumnTransformer(\n",
    "        transformers = [\n",
    "            ('ohe', OneHotEncoder(drop = 'first'), categorical_variables)\n",
    "        ],\n",
    "        remainder = 'passthrough'\n",
    "        )\n",
    "    ),\n",
    "    ('pf', PolynomialFeatures(include_bias=False, interaction_only=True)),\n",
    "    ('linreg', LinearRegression())\n",
    "])\n",
    "\n",
    "pipe.fit(X_train, y_train)"
   ]
  },
  {
   "cell_type": "code",
   "execution_count": null,
   "id": "25446355",
   "metadata": {},
   "outputs": [],
   "source": [
    "features = list(pipe['ct'].named_transformers_['ohe'].get_feature_names(categorical_variables))\n",
    "features += [x for x in X_train.columns if x not in categorical_variables]\n",
    "features = pipe['pf'].get_feature_names(features)\n",
    "\n",
    "coefficients = pd.DataFrame({\n",
    "    'variable': ['intercept'] + features,\n",
    "    'coefficient': [pipe['linreg'].intercept_] + list(pipe['linreg'].coef_)\n",
    "})\n",
    "coefficients"
   ]
  },
  {
   "cell_type": "markdown",
   "id": "b4200d18",
   "metadata": {},
   "source": [
    "**Question 5:** What FE value does the model predict for a supercharged car with an EngDispl value of 4?"
   ]
  },
  {
   "cell_type": "markdown",
   "id": "fe226f10",
   "metadata": {},
   "source": [
    "Let's check how it did on the test data."
   ]
  },
  {
   "cell_type": "code",
   "execution_count": null,
   "id": "b391512b",
   "metadata": {},
   "outputs": [],
   "source": [
    "print(f'MSE: {mean_squared_error(y_test, pipe.predict(X_test))}')\n",
    "print(f'R2: {r2_score(y_test, pipe.predict(X_test))}')"
   ]
  },
  {
   "cell_type": "markdown",
   "id": "bc2817e8",
   "metadata": {},
   "source": [
    "Let's look at the plot of EngDispl vs. FE."
   ]
  },
  {
   "cell_type": "code",
   "execution_count": null,
   "id": "bb9f5c3a",
   "metadata": {},
   "outputs": [],
   "source": [
    "cars.plot(kind = 'scatter', x = 'EngDispl', y = 'FE', figsize = (10,6));"
   ]
  },
  {
   "cell_type": "markdown",
   "id": "51874feb",
   "metadata": {},
   "source": [
    "It looks like the relationship between these variable might be slightly non-linear. Perhaps a higher degree polynomial will fit better.\n",
    "Let's try fitting a model of the form\n",
    "\n",
    "$$\\text{Predicted FE} = \\beta_0 + \\beta_1\\cdot(\\text{EngDispl}) + \\beta_2\\cdot(\\text{EngDispl})^2$$\n",
    "\n",
    "We'll do that using the PolynomialFeatures class again."
   ]
  },
  {
   "cell_type": "code",
   "execution_count": null,
   "id": "6dbe092a",
   "metadata": {},
   "outputs": [],
   "source": [
    "variables = ['EngDispl']\n",
    "\n",
    "X = cars[variables]\n",
    "y = cars['FE']\n",
    "\n",
    "X_train, X_test, y_train, y_test = train_test_split(X, y, random_state = 321)\n",
    "\n",
    "pipe = Pipeline(steps = [\n",
    "    ('pf', PolynomialFeatures(include_bias=False, interaction_only=False, degree = 2)),\n",
    "    ('linreg', LinearRegression())\n",
    "])\n",
    "\n",
    "pipe.fit(X_train, y_train)"
   ]
  },
  {
   "cell_type": "code",
   "execution_count": null,
   "id": "74ac7350",
   "metadata": {},
   "outputs": [],
   "source": [
    "features = pipe['pf'].get_feature_names(variables)\n",
    "\n",
    "coefficients = pd.DataFrame({\n",
    "    'variable': ['intercept'] + features,\n",
    "    'coefficient': [pipe['linreg'].intercept_] + list(pipe['linreg'].coef_)\n",
    "})\n",
    "coefficients"
   ]
  },
  {
   "cell_type": "markdown",
   "id": "2325a151",
   "metadata": {},
   "source": [
    "**Question 6:** What does this model predict for the fuel economy of a car with an EngDispl value of 4?"
   ]
  },
  {
   "cell_type": "markdown",
   "id": "07c5fbdb",
   "metadata": {},
   "source": [
    "Let's check the model performance."
   ]
  },
  {
   "cell_type": "code",
   "execution_count": null,
   "id": "86b5c345",
   "metadata": {},
   "outputs": [],
   "source": [
    "print(f'MSE: {mean_squared_error(y_test, pipe.predict(X_test))}')\n",
    "print(f'R2: {r2_score(y_test, pipe.predict(X_test))}')"
   ]
  },
  {
   "cell_type": "markdown",
   "id": "21553097",
   "metadata": {},
   "source": [
    "If you want to see the curve that was fit, you can use the following code to create the plot."
   ]
  },
  {
   "cell_type": "code",
   "execution_count": null,
   "id": "b8785e45",
   "metadata": {},
   "outputs": [],
   "source": [
    "x_grid = np.linspace(start = cars['EngDispl'].min(),\n",
    "                    stop = cars['EngDispl'].max(),\n",
    "                    num = 150)\n",
    "y_grid = pipe.predict(x_grid.reshape(-1, 1))\n",
    "\n",
    "fig, ax = plt.subplots(figsize = (10,6))\n",
    "plt.plot(x_grid, y_grid)\n",
    "cars.plot(kind = 'scatter',\n",
    "             x = 'EngDispl',\n",
    "             y = 'FE', ax = ax);"
   ]
  },
  {
   "cell_type": "markdown",
   "id": "51b79b2a",
   "metadata": {},
   "source": [
    "**Bonus Questions:** Continue to explore other variables and see how well you can fit a linear model to this dataset."
   ]
  }
 ],
 "metadata": {
  "kernelspec": {
   "display_name": "Python 3 (ipykernel)",
   "language": "python",
   "name": "python3"
  },
  "language_info": {
   "codemirror_mode": {
    "name": "ipython",
    "version": 3
   },
   "file_extension": ".py",
   "mimetype": "text/x-python",
   "name": "python",
   "nbconvert_exporter": "python",
   "pygments_lexer": "ipython3",
   "version": "3.8.3"
  }
 },
 "nbformat": 4,
 "nbformat_minor": 5
}
