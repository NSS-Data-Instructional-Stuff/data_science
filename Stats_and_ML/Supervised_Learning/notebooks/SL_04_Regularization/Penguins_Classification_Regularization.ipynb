{
 "cells": [
  {
   "cell_type": "code",
   "execution_count": 1,
   "id": "ec593f6a",
   "metadata": {},
   "outputs": [],
   "source": [
    "import pandas as pd\n",
    "import numpy as np\n",
    "from sklearn.linear_model import LogisticRegression\n",
    "\n",
    "from sklearn.model_selection import train_test_split\n",
    "\n",
    "from sklearn.pipeline import Pipeline\n",
    "from sklearn.preprocessing import OneHotEncoder, PolynomialFeatures, StandardScaler\n",
    "from sklearn.compose import ColumnTransformer\n",
    "from sklearn.feature_selection import VarianceThreshold\n",
    "\n",
    "from sklearn.metrics import accuracy_score"
   ]
  },
  {
   "cell_type": "code",
   "execution_count": 2,
   "id": "f3c2a9ad",
   "metadata": {},
   "outputs": [],
   "source": [
    "penguins = pd.read_csv('data/penguins.csv').dropna().reset_index()"
   ]
  },
  {
   "cell_type": "markdown",
   "id": "768908e4",
   "metadata": {},
   "source": [
    "Let's start with a regular linear regression model including all of our predictors and interaction terms."
   ]
  },
  {
   "cell_type": "code",
   "execution_count": 3,
   "id": "b1f0e0e5",
   "metadata": {},
   "outputs": [
    {
     "data": {
      "text/plain": [
       "Pipeline(steps=[('ct',\n",
       "                 ColumnTransformer(remainder='passthrough',\n",
       "                                   transformers=[('ohe',\n",
       "                                                  OneHotEncoder(drop='first',\n",
       "                                                                sparse=False),\n",
       "                                                  ['sex'])])),\n",
       "                ('pf',\n",
       "                 PolynomialFeatures(include_bias=False, interaction_only=True)),\n",
       "                ('vt', VarianceThreshold()), ('scaler', StandardScaler()),\n",
       "                ('logistic', LogisticRegression())])"
      ]
     },
     "execution_count": 3,
     "metadata": {},
     "output_type": "execute_result"
    }
   ],
   "source": [
    "variables = ['bill_length_mm', 'bill_depth_mm', 'flipper_length_mm', 'body_mass_g', 'sex']\n",
    "categorical_variables = ['sex']\n",
    "\n",
    "X = penguins[variables]\n",
    "y = penguins['species']\n",
    "\n",
    "X_train, X_test, y_train, y_test = train_test_split(X, y, random_state = 321, stratify = y)\n",
    "\n",
    "pipe = Pipeline(\n",
    "    steps = [\n",
    "        ('ct', ColumnTransformer(\n",
    "            transformers = [\n",
    "                ('ohe', OneHotEncoder(sparse = False, drop = 'first'), categorical_variables)\n",
    "            ],\n",
    "            remainder = 'passthrough')),\n",
    "        ('pf', PolynomialFeatures(interaction_only = True, include_bias = False)),\n",
    "        ('vt', VarianceThreshold()),\n",
    "        ('scaler', StandardScaler()),\n",
    "        ('logistic', LogisticRegression())\n",
    "    ]\n",
    ")\n",
    "\n",
    "pipe.fit(X_train, y_train)"
   ]
  },
  {
   "cell_type": "code",
   "execution_count": 7,
   "id": "90438825",
   "metadata": {},
   "outputs": [
    {
     "data": {
      "text/html": [
       "<div>\n",
       "<style scoped>\n",
       "    .dataframe tbody tr th:only-of-type {\n",
       "        vertical-align: middle;\n",
       "    }\n",
       "\n",
       "    .dataframe tbody tr th {\n",
       "        vertical-align: top;\n",
       "    }\n",
       "\n",
       "    .dataframe thead th {\n",
       "        text-align: right;\n",
       "    }\n",
       "</style>\n",
       "<table border=\"1\" class=\"dataframe\">\n",
       "  <thead>\n",
       "    <tr style=\"text-align: right;\">\n",
       "      <th></th>\n",
       "      <th>variable</th>\n",
       "      <th>coefficient</th>\n",
       "    </tr>\n",
       "  </thead>\n",
       "  <tbody>\n",
       "    <tr>\n",
       "      <th>0</th>\n",
       "      <td>intercept</td>\n",
       "      <td>-0.013130</td>\n",
       "    </tr>\n",
       "    <tr>\n",
       "      <th>1</th>\n",
       "      <td>sex_male</td>\n",
       "      <td>-0.223042</td>\n",
       "    </tr>\n",
       "    <tr>\n",
       "      <th>2</th>\n",
       "      <td>bill_length_mm</td>\n",
       "      <td>0.897597</td>\n",
       "    </tr>\n",
       "    <tr>\n",
       "      <th>3</th>\n",
       "      <td>bill_depth_mm</td>\n",
       "      <td>0.000000</td>\n",
       "    </tr>\n",
       "    <tr>\n",
       "      <th>4</th>\n",
       "      <td>flipper_length_mm</td>\n",
       "      <td>0.000000</td>\n",
       "    </tr>\n",
       "    <tr>\n",
       "      <th>5</th>\n",
       "      <td>body_mass_g</td>\n",
       "      <td>-0.426189</td>\n",
       "    </tr>\n",
       "    <tr>\n",
       "      <th>6</th>\n",
       "      <td>sex_male bill_length_mm</td>\n",
       "      <td>0.000000</td>\n",
       "    </tr>\n",
       "    <tr>\n",
       "      <th>7</th>\n",
       "      <td>sex_male bill_depth_mm</td>\n",
       "      <td>-0.127364</td>\n",
       "    </tr>\n",
       "    <tr>\n",
       "      <th>8</th>\n",
       "      <td>sex_male flipper_length_mm</td>\n",
       "      <td>0.000000</td>\n",
       "    </tr>\n",
       "    <tr>\n",
       "      <th>9</th>\n",
       "      <td>sex_male body_mass_g</td>\n",
       "      <td>0.000000</td>\n",
       "    </tr>\n",
       "    <tr>\n",
       "      <th>10</th>\n",
       "      <td>bill_length_mm bill_depth_mm</td>\n",
       "      <td>0.468930</td>\n",
       "    </tr>\n",
       "    <tr>\n",
       "      <th>11</th>\n",
       "      <td>bill_length_mm flipper_length_mm</td>\n",
       "      <td>0.000000</td>\n",
       "    </tr>\n",
       "    <tr>\n",
       "      <th>12</th>\n",
       "      <td>bill_length_mm body_mass_g</td>\n",
       "      <td>0.000000</td>\n",
       "    </tr>\n",
       "    <tr>\n",
       "      <th>13</th>\n",
       "      <td>bill_depth_mm flipper_length_mm</td>\n",
       "      <td>0.000000</td>\n",
       "    </tr>\n",
       "    <tr>\n",
       "      <th>14</th>\n",
       "      <td>bill_depth_mm body_mass_g</td>\n",
       "      <td>-0.647170</td>\n",
       "    </tr>\n",
       "    <tr>\n",
       "      <th>15</th>\n",
       "      <td>flipper_length_mm body_mass_g</td>\n",
       "      <td>0.000000</td>\n",
       "    </tr>\n",
       "  </tbody>\n",
       "</table>\n",
       "</div>"
      ],
      "text/plain": [
       "                            variable  coefficient\n",
       "0                          intercept    -0.013130\n",
       "1                           sex_male    -0.223042\n",
       "2                     bill_length_mm     0.897597\n",
       "3                      bill_depth_mm     0.000000\n",
       "4                  flipper_length_mm     0.000000\n",
       "5                        body_mass_g    -0.426189\n",
       "6            sex_male bill_length_mm     0.000000\n",
       "7             sex_male bill_depth_mm    -0.127364\n",
       "8         sex_male flipper_length_mm     0.000000\n",
       "9               sex_male body_mass_g     0.000000\n",
       "10      bill_length_mm bill_depth_mm     0.468930\n",
       "11  bill_length_mm flipper_length_mm     0.000000\n",
       "12        bill_length_mm body_mass_g     0.000000\n",
       "13   bill_depth_mm flipper_length_mm     0.000000\n",
       "14         bill_depth_mm body_mass_g    -0.647170\n",
       "15     flipper_length_mm body_mass_g     0.000000"
      ]
     },
     "execution_count": 7,
     "metadata": {},
     "output_type": "execute_result"
    }
   ],
   "source": [
    "features = list(pipe['ct'].named_transformers_['ohe'].get_feature_names_out(categorical_variables))\n",
    "features += [x for x in X_train.columns if x not in categorical_variables]\n",
    "features = list(pipe['pf'].get_feature_names_out(features))\n",
    "features = list(np.array(features)[pipe['vt'].get_support()])\n",
    "\n",
    "species = 'Chinstrap'\n",
    "idx = list(pipe['logistic'].classes_).index(species)\n",
    "\n",
    "coefficients = pd.DataFrame({\n",
    "    'variable': ['intercept'] + features,\n",
    "    'coefficient': [pipe['logistic'].intercept_[idx]] + list(pipe['logistic'].coef_[idx])\n",
    "})\n",
    "\n",
    "coefficients"
   ]
  },
  {
   "cell_type": "markdown",
   "id": "22d156df",
   "metadata": {},
   "source": [
    "Let's say that we want to use a lasso model so that we can get a simpler model. There is not a separate lasso classification model, but we can instead change the arguments to the LogisticRegression model. See the documentation for more information: https://scikit-learn.org/stable/modules/generated/sklearn.linear_model.LogisticRegression.html\n",
    "\n",
    "We need to change the penalty argument from the default of 'l2' (for ridge) to 'l1' (for lasso). We also have to change the solver that is used.\n",
    "\n",
    "Notice also that we need to scale our variables before passing them to the model. We'll do this with a StandardScaler."
   ]
  },
  {
   "cell_type": "code",
   "execution_count": 8,
   "id": "35f5f0ab",
   "metadata": {},
   "outputs": [
    {
     "data": {
      "text/plain": [
       "Pipeline(steps=[('ct',\n",
       "                 ColumnTransformer(remainder='passthrough',\n",
       "                                   transformers=[('ohe',\n",
       "                                                  OneHotEncoder(drop='first',\n",
       "                                                                sparse=False),\n",
       "                                                  ['sex'])])),\n",
       "                ('pf',\n",
       "                 PolynomialFeatures(include_bias=False, interaction_only=True)),\n",
       "                ('vt', VarianceThreshold()), ('scaler', StandardScaler()),\n",
       "                ('logistic',\n",
       "                 LogisticRegression(max_iter=10000, penalty='l1',\n",
       "                                    solver='saga'))])"
      ]
     },
     "execution_count": 8,
     "metadata": {},
     "output_type": "execute_result"
    }
   ],
   "source": [
    "variables = ['bill_length_mm', 'bill_depth_mm', 'flipper_length_mm', 'body_mass_g', 'sex']\n",
    "categorical_variables = ['sex']\n",
    "\n",
    "X = penguins[variables]\n",
    "y = penguins['species']\n",
    "\n",
    "X_train, X_test, y_train, y_test = train_test_split(X, y, random_state = 321, stratify = y)\n",
    "\n",
    "pipe = Pipeline(\n",
    "    steps = [\n",
    "        ('ct', ColumnTransformer(\n",
    "            transformers = [\n",
    "                ('ohe', OneHotEncoder(sparse = False, drop = 'first'), categorical_variables)\n",
    "            ],\n",
    "            remainder = 'passthrough')),\n",
    "        ('pf', PolynomialFeatures(interaction_only = True, include_bias = False)),\n",
    "        ('vt', VarianceThreshold()),\n",
    "        ('scaler', StandardScaler()),\n",
    "        ('logistic', LogisticRegression(penalty = 'l1', solver = 'saga', max_iter = 10000))\n",
    "    ]\n",
    ")\n",
    "\n",
    "pipe.fit(X_train, y_train)"
   ]
  },
  {
   "cell_type": "markdown",
   "id": "ec736de4",
   "metadata": {},
   "source": [
    "We end up with a fairly simple model using just the default penalty of 1."
   ]
  },
  {
   "cell_type": "code",
   "execution_count": 9,
   "id": "68ec2287",
   "metadata": {},
   "outputs": [
    {
     "data": {
      "text/html": [
       "<div>\n",
       "<style scoped>\n",
       "    .dataframe tbody tr th:only-of-type {\n",
       "        vertical-align: middle;\n",
       "    }\n",
       "\n",
       "    .dataframe tbody tr th {\n",
       "        vertical-align: top;\n",
       "    }\n",
       "\n",
       "    .dataframe thead th {\n",
       "        text-align: right;\n",
       "    }\n",
       "</style>\n",
       "<table border=\"1\" class=\"dataframe\">\n",
       "  <thead>\n",
       "    <tr style=\"text-align: right;\">\n",
       "      <th></th>\n",
       "      <th>variable</th>\n",
       "      <th>coefficient</th>\n",
       "    </tr>\n",
       "  </thead>\n",
       "  <tbody>\n",
       "    <tr>\n",
       "      <th>0</th>\n",
       "      <td>intercept</td>\n",
       "      <td>-0.012877</td>\n",
       "    </tr>\n",
       "    <tr>\n",
       "      <th>1</th>\n",
       "      <td>sex_male</td>\n",
       "      <td>-0.221551</td>\n",
       "    </tr>\n",
       "    <tr>\n",
       "      <th>2</th>\n",
       "      <td>bill_length_mm</td>\n",
       "      <td>0.898009</td>\n",
       "    </tr>\n",
       "    <tr>\n",
       "      <th>5</th>\n",
       "      <td>body_mass_g</td>\n",
       "      <td>-0.422067</td>\n",
       "    </tr>\n",
       "    <tr>\n",
       "      <th>7</th>\n",
       "      <td>sex_male bill_depth_mm</td>\n",
       "      <td>-0.128865</td>\n",
       "    </tr>\n",
       "    <tr>\n",
       "      <th>10</th>\n",
       "      <td>bill_length_mm bill_depth_mm</td>\n",
       "      <td>0.468198</td>\n",
       "    </tr>\n",
       "    <tr>\n",
       "      <th>14</th>\n",
       "      <td>bill_depth_mm body_mass_g</td>\n",
       "      <td>-0.650710</td>\n",
       "    </tr>\n",
       "  </tbody>\n",
       "</table>\n",
       "</div>"
      ],
      "text/plain": [
       "                        variable  coefficient\n",
       "0                      intercept    -0.012877\n",
       "1                       sex_male    -0.221551\n",
       "2                 bill_length_mm     0.898009\n",
       "5                    body_mass_g    -0.422067\n",
       "7         sex_male bill_depth_mm    -0.128865\n",
       "10  bill_length_mm bill_depth_mm     0.468198\n",
       "14     bill_depth_mm body_mass_g    -0.650710"
      ]
     },
     "execution_count": 9,
     "metadata": {},
     "output_type": "execute_result"
    }
   ],
   "source": [
    "features = list(pipe['ct'].named_transformers_['ohe'].get_feature_names_out(categorical_variables))\n",
    "features += [x for x in X_train.columns if x not in categorical_variables]\n",
    "features = list(pipe['pf'].get_feature_names_out(features))\n",
    "features = list(np.array(features)[pipe['vt'].get_support()])\n",
    "\n",
    "species = 'Chinstrap'\n",
    "idx = list(pipe['logistic'].classes_).index(species)\n",
    "\n",
    "coefficients = pd.DataFrame({\n",
    "    'variable': ['intercept'] + features,\n",
    "    'coefficient': [pipe['logistic'].intercept_[idx]] + list(pipe['logistic'].coef_[idx])\n",
    "})\n",
    "\n",
    "coefficients[coefficients['coefficient'] != 0]"
   ]
  },
  {
   "cell_type": "markdown",
   "id": "f30bde92",
   "metadata": {},
   "source": [
    "It might be the case that the default value of C is not the best possible one.\n",
    "\n",
    "If we wanted to try out other values, we should use k-fold cross-validation. We can do that using the GridSearchCV class."
   ]
  },
  {
   "cell_type": "code",
   "execution_count": 10,
   "id": "8d7cdbdb",
   "metadata": {},
   "outputs": [],
   "source": [
    "from sklearn.model_selection import GridSearchCV"
   ]
  },
  {
   "cell_type": "markdown",
   "id": "5f2dffc7",
   "metadata": {},
   "source": [
    "For this, we need to give it the estimator and a grid of hyperparameter values to try out. This grid needs to be a dictionary where the keys specify the hyperparameter and the values are a list of values to try out.\n",
    "\n",
    "You can also specify how you want to score each hyperparameter."
   ]
  },
  {
   "cell_type": "code",
   "execution_count": 11,
   "id": "90ffe88b",
   "metadata": {},
   "outputs": [],
   "source": [
    "gs = GridSearchCV(estimator = pipe, \n",
    "                 param_grid = {'logistic__C': [1, 0.5, 0.1, 0.05, 0.01]},\n",
    "                 scoring = 'accuracy')"
   ]
  },
  {
   "cell_type": "code",
   "execution_count": 12,
   "id": "06851b17",
   "metadata": {},
   "outputs": [
    {
     "data": {
      "text/plain": [
       "GridSearchCV(estimator=Pipeline(steps=[('ct',\n",
       "                                        ColumnTransformer(remainder='passthrough',\n",
       "                                                          transformers=[('ohe',\n",
       "                                                                         OneHotEncoder(drop='first',\n",
       "                                                                                       sparse=False),\n",
       "                                                                         ['sex'])])),\n",
       "                                       ('pf',\n",
       "                                        PolynomialFeatures(include_bias=False,\n",
       "                                                           interaction_only=True)),\n",
       "                                       ('vt', VarianceThreshold()),\n",
       "                                       ('scaler', StandardScaler()),\n",
       "                                       ('logistic',\n",
       "                                        LogisticRegression(max_iter=10000,\n",
       "                                                           penalty='l1',\n",
       "                                                           solver='saga'))]),\n",
       "             param_grid={'logistic__C': [1, 0.5, 0.1, 0.05, 0.01]},\n",
       "             scoring='accuracy')"
      ]
     },
     "execution_count": 12,
     "metadata": {},
     "output_type": "execute_result"
    }
   ],
   "source": [
    "gs.fit(X_train, y_train)"
   ]
  },
  {
   "cell_type": "markdown",
   "id": "3035f2ba",
   "metadata": {},
   "source": [
    "After fitting, we can see the best parameters."
   ]
  },
  {
   "cell_type": "code",
   "execution_count": 13,
   "id": "40318aac",
   "metadata": {},
   "outputs": [
    {
     "data": {
      "text/plain": [
       "{'logistic__C': 0.5}"
      ]
     },
     "execution_count": 13,
     "metadata": {},
     "output_type": "execute_result"
    }
   ],
   "source": [
    "gs.best_params_"
   ]
  },
  {
   "cell_type": "markdown",
   "id": "2d175320",
   "metadata": {},
   "source": [
    "If we need to view additional information, we can access the `best_estimator_` attribute."
   ]
  },
  {
   "cell_type": "code",
   "execution_count": 14,
   "id": "5108832d",
   "metadata": {},
   "outputs": [
    {
     "data": {
      "text/plain": [
       "Pipeline(steps=[('ct',\n",
       "                 ColumnTransformer(remainder='passthrough',\n",
       "                                   transformers=[('ohe',\n",
       "                                                  OneHotEncoder(drop='first',\n",
       "                                                                sparse=False),\n",
       "                                                  ['sex'])])),\n",
       "                ('pf',\n",
       "                 PolynomialFeatures(include_bias=False, interaction_only=True)),\n",
       "                ('vt', VarianceThreshold()), ('scaler', StandardScaler()),\n",
       "                ('logistic',\n",
       "                 LogisticRegression(C=0.5, max_iter=10000, penalty='l1',\n",
       "                                    solver='saga'))])"
      ]
     },
     "execution_count": 14,
     "metadata": {},
     "output_type": "execute_result"
    }
   ],
   "source": [
    "gs.best_estimator_"
   ]
  },
  {
   "cell_type": "code",
   "execution_count": 15,
   "id": "b7f427db",
   "metadata": {},
   "outputs": [
    {
     "data": {
      "text/html": [
       "<div>\n",
       "<style scoped>\n",
       "    .dataframe tbody tr th:only-of-type {\n",
       "        vertical-align: middle;\n",
       "    }\n",
       "\n",
       "    .dataframe tbody tr th {\n",
       "        vertical-align: top;\n",
       "    }\n",
       "\n",
       "    .dataframe thead th {\n",
       "        text-align: right;\n",
       "    }\n",
       "</style>\n",
       "<table border=\"1\" class=\"dataframe\">\n",
       "  <thead>\n",
       "    <tr style=\"text-align: right;\">\n",
       "      <th></th>\n",
       "      <th>variable</th>\n",
       "      <th>coefficient</th>\n",
       "    </tr>\n",
       "  </thead>\n",
       "  <tbody>\n",
       "    <tr>\n",
       "      <th>0</th>\n",
       "      <td>intercept</td>\n",
       "      <td>-0.398040</td>\n",
       "    </tr>\n",
       "    <tr>\n",
       "      <th>3</th>\n",
       "      <td>bill_depth_mm</td>\n",
       "      <td>-2.451407</td>\n",
       "    </tr>\n",
       "    <tr>\n",
       "      <th>4</th>\n",
       "      <td>flipper_length_mm</td>\n",
       "      <td>0.883862</td>\n",
       "    </tr>\n",
       "    <tr>\n",
       "      <th>15</th>\n",
       "      <td>flipper_length_mm body_mass_g</td>\n",
       "      <td>1.328929</td>\n",
       "    </tr>\n",
       "  </tbody>\n",
       "</table>\n",
       "</div>"
      ],
      "text/plain": [
       "                         variable  coefficient\n",
       "0                       intercept    -0.398040\n",
       "3                   bill_depth_mm    -2.451407\n",
       "4               flipper_length_mm     0.883862\n",
       "15  flipper_length_mm body_mass_g     1.328929"
      ]
     },
     "execution_count": 15,
     "metadata": {},
     "output_type": "execute_result"
    }
   ],
   "source": [
    "features = list(pipe['ct'].named_transformers_['ohe'].get_feature_names_out(categorical_variables))\n",
    "features += [x for x in X_train.columns if x not in categorical_variables]\n",
    "features = list(pipe['pf'].get_feature_names_out(features))\n",
    "features = list(np.array(features)[pipe['vt'].get_support()])\n",
    "\n",
    "\n",
    "species = 'Gentoo'\n",
    "idx = list(pipe['logistic'].classes_).index(species)\n",
    "\n",
    "coefficients = pd.DataFrame({\n",
    "    'variable': ['intercept'] + features,\n",
    "    'coefficient': [gs.best_estimator_['logistic'].intercept_[idx]] + list(gs.best_estimator_['logistic'].coef_[idx])\n",
    "})\n",
    "\n",
    "coefficients[coefficients['coefficient'] != 0]"
   ]
  },
  {
   "cell_type": "markdown",
   "id": "156cba84",
   "metadata": {},
   "source": [
    "We can generate predictions using the `predict` method of the GridSearchCV object."
   ]
  },
  {
   "cell_type": "code",
   "execution_count": 16,
   "id": "06a940f3",
   "metadata": {},
   "outputs": [
    {
     "data": {
      "text/plain": [
       "1.0"
      ]
     },
     "execution_count": 16,
     "metadata": {},
     "output_type": "execute_result"
    }
   ],
   "source": [
    "accuracy_score(y_test, gs.predict(X_test))"
   ]
  }
 ],
 "metadata": {
  "kernelspec": {
   "display_name": "Python 3 (ipykernel)",
   "language": "python",
   "name": "python3"
  },
  "language_info": {
   "codemirror_mode": {
    "name": "ipython",
    "version": 3
   },
   "file_extension": ".py",
   "mimetype": "text/x-python",
   "name": "python",
   "nbconvert_exporter": "python",
   "pygments_lexer": "ipython3",
   "version": "3.8.3"
  }
 },
 "nbformat": 4,
 "nbformat_minor": 5
}
