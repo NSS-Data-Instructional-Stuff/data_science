{
 "cells": [
  {
   "cell_type": "markdown",
   "id": "495bcc73",
   "metadata": {},
   "source": [
    "## Supplementary Notebook - Linear Modeling using patsy\n",
    "\n",
    "This notebook demonstrate how to create a design matrix using the [patsy](https://patsy.readthedocs.io/en/latest/) library. This library is very useful for specifying exactly the predictors and interactions that you want for you model."
   ]
  },
  {
   "cell_type": "code",
   "execution_count": null,
   "id": "84b716b4",
   "metadata": {},
   "outputs": [],
   "source": [
    "import pandas as pd\n",
    "from sklearn.linear_model import LinearRegression\n",
    "from sklearn.model_selection import train_test_split\n",
    "from sklearn.metrics import mean_squared_error, r2_score\n",
    "import numpy as np\n",
    "import matplotlib.pyplot as plt\n",
    "import seaborn as sns\n",
    "from patsy import dmatrix"
   ]
  },
  {
   "cell_type": "code",
   "execution_count": null,
   "id": "14e53883",
   "metadata": {},
   "outputs": [],
   "source": [
    "penguins = pd.read_csv('data/penguins.csv').dropna().reset_index(drop = True)"
   ]
  },
  {
   "cell_type": "code",
   "execution_count": null,
   "id": "7b18ddad",
   "metadata": {},
   "outputs": [],
   "source": [
    "penguins[['species', 'bill_length_mm', 'bill_depth_mm', 'flipper_length_mm', 'sex', 'body_mass_g']].head()"
   ]
  },
  {
   "cell_type": "markdown",
   "id": "3ab025a5",
   "metadata": {},
   "source": [
    "We'll start with a baseline model to predict body mass based on flipper length alone."
   ]
  },
  {
   "cell_type": "code",
   "execution_count": null,
   "id": "d4aa3adb",
   "metadata": {},
   "outputs": [],
   "source": [
    "variables = ['flipper_length_mm']\n",
    "\n",
    "X = penguins[variables]\n",
    "y = penguins['body_mass_g']\n",
    "\n",
    "X_train, X_test, y_train, y_test = train_test_split(X, y, random_state = 321, stratify = penguins['species'])\n",
    "\n",
    "linreg = LinearRegression().fit(X_train, y_train)"
   ]
  },
  {
   "cell_type": "code",
   "execution_count": null,
   "id": "91657737",
   "metadata": {},
   "outputs": [],
   "source": [
    "coefficients = pd.DataFrame({\n",
    "    'variable': ['intercept'] + list(X_train.columns),\n",
    "    'coefficient': [linreg.intercept_] + list(linreg.coef_)\n",
    "})\n",
    "coefficients"
   ]
  },
  {
   "cell_type": "code",
   "execution_count": null,
   "id": "e4cff3f3",
   "metadata": {},
   "outputs": [],
   "source": [
    "x_grid = np.linspace(start = penguins['flipper_length_mm'].min(),\n",
    "                    stop = penguins['flipper_length_mm'].max(),\n",
    "                    num = 150)\n",
    "y_grid = linreg.predict(x_grid.reshape(-1,1))\n",
    "\n",
    "\n",
    "fig, ax = plt.subplots(figsize = (10,6))\n",
    "plt.plot(x_grid, y_grid)\n",
    "sns.scatterplot(data = penguins,\n",
    "             x = 'flipper_length_mm',\n",
    "             y = 'body_mass_g', ax = ax);\n",
    "#plt.tight_layout()\n",
    "#plt.savefig('images/scatter_01.png', dpi = 150);"
   ]
  },
  {
   "cell_type": "code",
   "execution_count": null,
   "id": "e99b908f",
   "metadata": {},
   "outputs": [],
   "source": [
    "x_grid = np.linspace(start = penguins['flipper_length_mm'].min(),\n",
    "                    stop = penguins['flipper_length_mm'].max(),\n",
    "                    num = 150)\n",
    "y_grid = linreg.predict(x_grid.reshape(-1,1))\n",
    "\n",
    "\n",
    "fig, ax = plt.subplots(figsize = (10,6))\n",
    "plt.plot(x_grid, y_grid)\n",
    "sns.scatterplot(data = penguins,\n",
    "             x = 'flipper_length_mm',\n",
    "             y = 'body_mass_g', \n",
    "                hue = 'species',\n",
    "                palette = ['red', 'blue', 'limegreen'],\n",
    "                ax = ax);\n",
    "#plt.tight_layout()\n",
    "#plt.savefig('images/scatter_02.png', dpi = 150);"
   ]
  },
  {
   "cell_type": "code",
   "execution_count": null,
   "id": "f5a2316e",
   "metadata": {},
   "outputs": [],
   "source": [
    "print(f'MSE: {mean_squared_error(y_test, linreg.predict(X_test))}')\n",
    "print(f'R2: {r2_score(y_test, linreg.predict(X_test))}')"
   ]
  },
  {
   "cell_type": "markdown",
   "id": "4e4e9a07",
   "metadata": {},
   "source": [
    "Now, we'll add on the species information. We can create our predictors matrix using the `dmatrix` function and specifying a [formula](https://patsy.readthedocs.io/en/latest/formulas.html). Here, we want a column for flipper length and dummy columns for species.\n",
    "\n",
    "Note that dmatrix will add an intercept column by default, so we need to tell the LinearRegression model to not fit the intercept."
   ]
  },
  {
   "cell_type": "code",
   "execution_count": null,
   "id": "5878cfa4",
   "metadata": {},
   "outputs": [],
   "source": [
    "X = dmatrix('~flipper_length_mm + species', data = penguins, return_type = 'dataframe')\n",
    "y = penguins['body_mass_g']\n",
    "\n",
    "X_train, X_test, y_train, y_test = train_test_split(X, y, random_state = 321, stratify = penguins['species'])\n",
    "\n",
    "linreg = LinearRegression(fit_intercept = False).fit(X_train, y_train)"
   ]
  },
  {
   "cell_type": "code",
   "execution_count": null,
   "id": "2c5826d8",
   "metadata": {},
   "outputs": [],
   "source": [
    "coefficients = pd.DataFrame({\n",
    "    'variable': list(X_train.columns),\n",
    "    'coefficient': list(linreg.coef_)\n",
    "})\n",
    "coefficients"
   ]
  },
  {
   "cell_type": "code",
   "execution_count": null,
   "id": "97fbb969",
   "metadata": {},
   "outputs": [],
   "source": [
    "print(f'MSE: {mean_squared_error(y_test, linreg.predict(X_test))}')\n",
    "print(f'R2: {r2_score(y_test, linreg.predict(X_test))}')"
   ]
  },
  {
   "cell_type": "code",
   "execution_count": null,
   "id": "bf0949d5",
   "metadata": {},
   "outputs": [],
   "source": [
    "fig, ax = plt.subplots(figsize = (10,6))\n",
    "\n",
    "for species, color in zip(penguins['species'].unique(), ['red', 'blue', 'limegreen']):\n",
    "    \n",
    "    intercept = coefficients.set_index('variable').loc['Intercept'].values[0]\n",
    "    \n",
    "    if species != 'Adelie':\n",
    "        intercept += coefficients.set_index('variable').loc[f'species[T.{species}]'].values[0]\n",
    "\n",
    "    x_grid = np.linspace(start = penguins[penguins['species'] == species]['flipper_length_mm'].min(),\n",
    "                        stop = penguins[penguins['species'] == species]['flipper_length_mm'].max(),\n",
    "                        num = 150)\n",
    "    y_grid = intercept + coefficients.set_index('variable').loc['flipper_length_mm'].values[0]*x_grid\n",
    "\n",
    "    plt.plot(x_grid, y_grid, #label = species, \n",
    "             color = color)\n",
    "    \n",
    "    \n",
    "sns.scatterplot(data = penguins,\n",
    "             x = 'flipper_length_mm',\n",
    "             y = 'body_mass_g', \n",
    "                hue = 'species',\n",
    "                palette = ['red', 'blue', 'limegreen'],\n",
    "                ax = ax);\n",
    "#plt.tight_layout()\n",
    "#plt.savefig('images/scatter_03.png', dpi = 150);"
   ]
  },
  {
   "cell_type": "markdown",
   "id": "72617644",
   "metadata": {},
   "source": [
    "We can add an interaction between flipper length and species by adding a term with a colon."
   ]
  },
  {
   "cell_type": "code",
   "execution_count": null,
   "id": "0c8d752c",
   "metadata": {},
   "outputs": [],
   "source": [
    "X = dmatrix('flipper_length_mm + species + flipper_length_mm:species', \n",
    "        data = penguins, \n",
    "        return_type = 'dataframe')\n",
    "y = penguins['body_mass_g']\n",
    "\n",
    "X_train, X_test, y_train, y_test = train_test_split(X, y, random_state = 321, stratify = penguins['species'])\n",
    "\n",
    "linreg = LinearRegression(fit_intercept = False).fit(X_train, y_train)"
   ]
  },
  {
   "cell_type": "code",
   "execution_count": null,
   "id": "9ee2b7cc",
   "metadata": {},
   "outputs": [],
   "source": [
    "coefficients = pd.DataFrame({\n",
    "    'variable': list(X_train.columns),\n",
    "    'coefficient': list(linreg.coef_)\n",
    "})\n",
    "coefficients"
   ]
  },
  {
   "cell_type": "code",
   "execution_count": null,
   "id": "c6cff2e2",
   "metadata": {},
   "outputs": [],
   "source": [
    "print(f'MSE: {mean_squared_error(y_test, linreg.predict(X_test))}')\n",
    "print(f'R2: {r2_score(y_test, linreg.predict(X_test))}')"
   ]
  },
  {
   "cell_type": "code",
   "execution_count": null,
   "id": "858daacf",
   "metadata": {},
   "outputs": [],
   "source": [
    "fig, ax = plt.subplots(figsize = (10,6))\n",
    "\n",
    "for species, color in zip(penguins['species'].unique(), ['red', 'blue', 'limegreen']):\n",
    "    \n",
    "    intercept = coefficients.set_index('variable').loc['Intercept'].values[0]\n",
    "    slope = coefficients.set_index('variable').loc['flipper_length_mm'].values[0]\n",
    "    \n",
    "    if species != 'Adelie':\n",
    "        intercept += coefficients.set_index('variable').loc[f'species[T.{species}]'].values[0]\n",
    "        slope += coefficients.set_index('variable').loc[f'flipper_length_mm:species[T.{species}]'].values[0]\n",
    "\n",
    "    x_grid = np.linspace(start = penguins[penguins['species'] == species]['flipper_length_mm'].min(),\n",
    "                        stop = penguins[penguins['species'] == species]['flipper_length_mm'].max(),\n",
    "                        num = 150)\n",
    "    y_grid = intercept + slope*x_grid\n",
    "\n",
    "    plt.plot(x_grid, y_grid, #label = species, \n",
    "             color = color)\n",
    "    \n",
    "    \n",
    "sns.scatterplot(data = penguins,\n",
    "             x = 'flipper_length_mm',\n",
    "             y = 'body_mass_g', \n",
    "                hue = 'species',\n",
    "                palette = ['red', 'blue', 'limegreen'],\n",
    "                ax = ax);\n",
    "#plt.tight_layout()\n",
    "#plt.savefig('images/scatter_04.png', dpi = 150);"
   ]
  },
  {
   "cell_type": "markdown",
   "id": "1de37f96",
   "metadata": {},
   "source": [
    "Now, let's add the sex variable in."
   ]
  },
  {
   "cell_type": "code",
   "execution_count": null,
   "id": "6bab22ea",
   "metadata": {},
   "outputs": [],
   "source": [
    "X = dmatrix('flipper_length_mm + species + sex + flipper_length_mm:species + flipper_length_mm:sex', \n",
    "        data = penguins, \n",
    "        return_type = 'dataframe')\n",
    "y = penguins['body_mass_g']\n",
    "\n",
    "X_train, X_test, y_train, y_test = train_test_split(X, y, random_state = 321, stratify = penguins['species'])\n",
    "\n",
    "linreg = LinearRegression(fit_intercept = False).fit(X_train, y_train)"
   ]
  },
  {
   "cell_type": "code",
   "execution_count": null,
   "id": "a62df8d6",
   "metadata": {},
   "outputs": [],
   "source": [
    "coefficients = pd.DataFrame({\n",
    "    'variable': list(X_train.columns),\n",
    "    'coefficient': list(linreg.coef_)\n",
    "})\n",
    "coefficients"
   ]
  },
  {
   "cell_type": "code",
   "execution_count": null,
   "id": "edbd0e35",
   "metadata": {},
   "outputs": [],
   "source": [
    "print(f'MSE: {mean_squared_error(y_test, linreg.predict(X_test))}')\n",
    "print(f'R2: {r2_score(y_test, linreg.predict(X_test))}')"
   ]
  },
  {
   "cell_type": "code",
   "execution_count": null,
   "id": "4acf6913",
   "metadata": {},
   "outputs": [],
   "source": [
    "fig, axes = plt.subplots(figsize = (10,6), nrows= 2)\n",
    "\n",
    "for sex, ax in zip(['female', 'male'], axes):\n",
    "    \n",
    "    ax.set_title(sex)\n",
    "    \n",
    "    for species, color in zip(penguins['species'].unique(), ['red', 'blue', 'limegreen']):\n",
    "        \n",
    "        intercept = coefficients.set_index('variable').loc['Intercept'].values[0]\n",
    "        slope = coefficients.set_index('variable').loc['flipper_length_mm'].values[0]\n",
    "\n",
    "        if species != 'Adelie':\n",
    "            intercept += coefficients.set_index('variable').loc[f'species[T.{species}]'].values[0]\n",
    "            slope += coefficients.set_index('variable').loc[f'flipper_length_mm:species[T.{species}]'].values[0]\n",
    "\n",
    "        if sex == 'male':\n",
    "            intercept += coefficients.set_index('variable').loc['sex[T.male]'].values[0]\n",
    "            slope += coefficients.set_index('variable').loc['flipper_length_mm:sex[T.male]'].values[0]\n",
    "\n",
    "\n",
    "        x_grid = np.linspace(start = penguins[(penguins['species'] == species) & (penguins['sex'] == sex)]['flipper_length_mm'].min(),\n",
    "                            stop = penguins[(penguins['species'] == species) & (penguins['sex'] == sex)]['flipper_length_mm'].max(),\n",
    "                            num = 150)\n",
    "        \n",
    "        y_grid = intercept + slope*x_grid\n",
    "                \n",
    "        ax.plot(x_grid, y_grid, #label = species, \n",
    "                 color = color)\n",
    "    \n",
    "    sns.scatterplot(data = penguins[penguins['sex'] == sex],\n",
    "                 x = 'flipper_length_mm',\n",
    "                 y = 'body_mass_g', \n",
    "                    hue = 'species',\n",
    "                    palette = ['red', 'blue', 'limegreen'],\n",
    "                    ax = ax);\n",
    "    \n",
    "    \n",
    "#plt.tight_layout()\n",
    "#plt.savefig('images/scatter_05.png', dpi = 150);"
   ]
  }
 ],
 "metadata": {
  "kernelspec": {
   "display_name": "Python 3 (ipykernel)",
   "language": "python",
   "name": "python3"
  },
  "language_info": {
   "codemirror_mode": {
    "name": "ipython",
    "version": 3
   },
   "file_extension": ".py",
   "mimetype": "text/x-python",
   "name": "python",
   "nbconvert_exporter": "python",
   "pygments_lexer": "ipython3",
   "version": "3.8.3"
  }
 },
 "nbformat": 4,
 "nbformat_minor": 5
}
