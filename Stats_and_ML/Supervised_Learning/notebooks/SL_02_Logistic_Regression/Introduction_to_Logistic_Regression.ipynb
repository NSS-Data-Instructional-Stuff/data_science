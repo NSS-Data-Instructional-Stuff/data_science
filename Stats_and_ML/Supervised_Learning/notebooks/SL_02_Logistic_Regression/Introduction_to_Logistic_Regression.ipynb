{
 "cells": [
  {
   "cell_type": "markdown",
   "id": "c933e397",
   "metadata": {},
   "source": [
    "# Introduction to Logistic Regression\n",
    "\n",
    "In this notebook, we'll learn the basics of building a logistic regression model using scikit-learn."
   ]
  },
  {
   "cell_type": "code",
   "execution_count": null,
   "id": "ec593f6a",
   "metadata": {},
   "outputs": [],
   "source": [
    "import pandas as pd\n",
    "from sklearn.linear_model import LogisticRegression\n",
    "\n",
    "from sklearn.model_selection import train_test_split\n",
    "import seaborn as sns\n",
    "import matplotlib.pyplot as plt"
   ]
  },
  {
   "cell_type": "markdown",
   "id": "a2d63e10",
   "metadata": {},
   "source": [
    "We'll be working with the penguins dataset again."
   ]
  },
  {
   "cell_type": "code",
   "execution_count": null,
   "id": "f3c2a9ad",
   "metadata": {},
   "outputs": [],
   "source": [
    "penguins = pd.read_csv('data/penguins.csv').dropna().reset_index()"
   ]
  },
  {
   "cell_type": "code",
   "execution_count": null,
   "id": "58c51598",
   "metadata": {},
   "outputs": [],
   "source": [
    "penguins.columns"
   ]
  },
  {
   "cell_type": "code",
   "execution_count": null,
   "id": "524d4785",
   "metadata": {},
   "outputs": [],
   "source": [
    "penguins.sample(5)[['body_mass_g', 'species']]"
   ]
  },
  {
   "cell_type": "markdown",
   "id": "3349f534",
   "metadata": {},
   "source": [
    "First, let's prepare out dataset. Our initial target will be predicting whether or not a penguin is of the gentoo species, so we'll create a Boolean column to indicate this.\n",
    "\n",
    "Note also that in our train test split, we are going to use the **stratify** keyword, which will result in the same (or very close to it) proportions of the target variable in the training and test data."
   ]
  },
  {
   "cell_type": "code",
   "execution_count": null,
   "id": "b1f0e0e5",
   "metadata": {},
   "outputs": [],
   "source": [
    "variables = ['body_mass_g']\n",
    "\n",
    "X = penguins[variables]\n",
    "y = penguins['species'] == 'Gentoo'\n",
    "\n",
    "X_train, X_test, y_train, y_test = train_test_split(X, y, random_state = 321, stratify = y)"
   ]
  },
  {
   "cell_type": "markdown",
   "id": "889d228a",
   "metadata": {},
   "source": [
    "The syntax for fitting a logistic regression model is the same as the other scikit-learn models that we've seen so far."
   ]
  },
  {
   "cell_type": "code",
   "execution_count": null,
   "id": "3c420e9e",
   "metadata": {},
   "outputs": [],
   "source": [
    "logreg = LogisticRegression().fit(X_train, y_train)"
   ]
  },
  {
   "cell_type": "markdown",
   "id": "960a0b0c",
   "metadata": {},
   "source": [
    "We can extract out the coefficients, which are fit attributes of the model."
   ]
  },
  {
   "cell_type": "code",
   "execution_count": null,
   "id": "c89e315f",
   "metadata": {},
   "outputs": [],
   "source": [
    "logreg.intercept_"
   ]
  },
  {
   "cell_type": "code",
   "execution_count": null,
   "id": "90438825",
   "metadata": {},
   "outputs": [],
   "source": [
    "logreg.coef_"
   ]
  },
  {
   "cell_type": "code",
   "execution_count": null,
   "id": "d22926d9",
   "metadata": {},
   "outputs": [],
   "source": [
    "boundary = - logreg.intercept_[0] / logreg.coef_[0]\n",
    "boundary"
   ]
  },
  {
   "cell_type": "code",
   "execution_count": null,
   "id": "023a3519",
   "metadata": {},
   "outputs": [],
   "source": [
    "fontsize = 18\n",
    "\n",
    "plt.figure(figsize = (10,6))\n",
    "\n",
    "sns.boxplot(data = penguins.assign(Gentoo = penguins['species'] == 'Gentoo'), x = 'Gentoo', y = 'body_mass_g')\n",
    "plt.xticks(fontsize = fontsize)\n",
    "plt.yticks(fontsize = fontsize)\n",
    "plt.xlabel('Gentoo', fontsize = fontsize)\n",
    "plt.ylabel('body_mass_g', fontsize = fontsize)\n",
    "\n",
    "xmin, xmax = plt.xlim()\n",
    "plt.hlines(y = boundary, xmin = xmin, xmax = xmax, linestyle = '--', color = 'red', linewidth = 3)\n",
    "plt.xlim(xmin, xmax);"
   ]
  },
  {
   "cell_type": "markdown",
   "id": "4c409b28",
   "metadata": {},
   "source": [
    "Now, let's look at some metrics."
   ]
  },
  {
   "cell_type": "code",
   "execution_count": null,
   "id": "d11cfc57",
   "metadata": {},
   "outputs": [],
   "source": [
    "from sklearn.metrics import classification_report, accuracy_score, confusion_matrix"
   ]
  },
  {
   "cell_type": "markdown",
   "id": "9ddcb1c5",
   "metadata": {},
   "source": [
    "Like before, we can use the `predict` method to see the predicted class."
   ]
  },
  {
   "cell_type": "code",
   "execution_count": null,
   "id": "3a483b62",
   "metadata": {},
   "outputs": [],
   "source": [
    "logreg.predict(X_test)"
   ]
  },
  {
   "cell_type": "code",
   "execution_count": null,
   "id": "91508c80",
   "metadata": {},
   "outputs": [],
   "source": [
    "accuracy_score(y_test, logreg.predict(X_test))"
   ]
  },
  {
   "cell_type": "code",
   "execution_count": null,
   "id": "021723d7",
   "metadata": {},
   "outputs": [],
   "source": [
    "print(classification_report(y_test, logreg.predict(X_test)))"
   ]
  },
  {
   "cell_type": "code",
   "execution_count": null,
   "id": "75d30d9c",
   "metadata": {},
   "outputs": [],
   "source": [
    "print(confusion_matrix(y_test, logreg.predict(X_test)))"
   ]
  },
  {
   "cell_type": "markdown",
   "id": "55d32d6e",
   "metadata": {},
   "source": [
    "Let's look at the confusion matrix in a different way."
   ]
  },
  {
   "cell_type": "code",
   "execution_count": null,
   "id": "54e33374",
   "metadata": {},
   "outputs": [],
   "source": [
    "from cm import plot_confusion_matrix"
   ]
  },
  {
   "cell_type": "code",
   "execution_count": null,
   "id": "dc05dded",
   "metadata": {},
   "outputs": [],
   "source": [
    "plot_confusion_matrix(y_test, logreg.predict(X_test), labels = ['Not Gentoo', 'Gentoo']);"
   ]
  },
  {
   "cell_type": "code",
   "execution_count": null,
   "id": "abf015df",
   "metadata": {},
   "outputs": [],
   "source": [
    "plot_confusion_matrix(y_test, logreg.predict(X_test), labels = ['Not Gentoo', 'Gentoo'], metric = 'accuracy');"
   ]
  },
  {
   "cell_type": "code",
   "execution_count": null,
   "id": "f9be562d",
   "metadata": {},
   "outputs": [],
   "source": [
    "plot_confusion_matrix(y_test, logreg.predict(X_test), labels = ['Not Gentoo', 'Gentoo'], metric = 'precision');"
   ]
  },
  {
   "cell_type": "code",
   "execution_count": null,
   "id": "eae7b249",
   "metadata": {},
   "outputs": [],
   "source": [
    "plot_confusion_matrix(y_test, logreg.predict(X_test), labels = ['Not Gentoo', 'Gentoo'], metric = 'recall');"
   ]
  },
  {
   "cell_type": "code",
   "execution_count": null,
   "id": "6db24ccf",
   "metadata": {},
   "outputs": [],
   "source": [
    "plot_confusion_matrix(y_test, logreg.predict(X_test), labels = ['Not Gentoo', 'Gentoo'], metric = 'f1');"
   ]
  },
  {
   "cell_type": "markdown",
   "id": "1225b6bd",
   "metadata": {},
   "source": [
    "We can also access the predicted probabilities using the `predict_proba` method."
   ]
  },
  {
   "cell_type": "code",
   "execution_count": null,
   "id": "f354277b",
   "metadata": {},
   "outputs": [],
   "source": [
    "logreg.predict_proba(X_test)"
   ]
  },
  {
   "cell_type": "markdown",
   "id": "858df676",
   "metadata": {},
   "source": [
    "## Multi-class Classification\n",
    "\n",
    "Now, let's see what it looks like to fit a multi-class model. Notice that this time, we are keeping the original species column. We'll add in the flipper length variable into our predictors as well."
   ]
  },
  {
   "cell_type": "code",
   "execution_count": null,
   "id": "8e36ab24",
   "metadata": {},
   "outputs": [],
   "source": [
    "variables = ['body_mass_g', 'flipper_length_mm']\n",
    "\n",
    "X = penguins[variables]\n",
    "y = penguins['species']\n",
    "\n",
    "X_train, X_test, y_train, y_test = train_test_split(X, y, random_state = 321, stratify = y)\n",
    "\n",
    "logreg = LogisticRegression().fit(X_train, y_train)"
   ]
  },
  {
   "cell_type": "markdown",
   "id": "87850a8b",
   "metadata": {},
   "source": [
    "Now, let's look at our coefficients"
   ]
  },
  {
   "cell_type": "code",
   "execution_count": null,
   "id": "c36c094e",
   "metadata": {},
   "outputs": [],
   "source": [
    "logreg.intercept_"
   ]
  },
  {
   "cell_type": "code",
   "execution_count": null,
   "id": "e00740dd",
   "metadata": {},
   "outputs": [],
   "source": [
    "logreg.coef_"
   ]
  },
  {
   "cell_type": "markdown",
   "id": "5a561c7f",
   "metadata": {},
   "source": [
    "We've got three sets of coefficients. This is because we have fit three different models, one for each target class.\n",
    "\n",
    "If we use the `predict_proba` method, we can see that we get three different probabilities."
   ]
  },
  {
   "cell_type": "code",
   "execution_count": null,
   "id": "0374ebac",
   "metadata": {},
   "outputs": [],
   "source": [
    "logreg.predict_proba(X_test)"
   ]
  },
  {
   "cell_type": "markdown",
   "id": "22d2fba9",
   "metadata": {},
   "source": [
    "The `predict` method now assigns the target class that has the highest predicted probability."
   ]
  },
  {
   "cell_type": "code",
   "execution_count": null,
   "id": "1b9da541",
   "metadata": {},
   "outputs": [],
   "source": [
    "logreg.predict(X_test)"
   ]
  },
  {
   "cell_type": "code",
   "execution_count": null,
   "id": "ce655afa",
   "metadata": {},
   "outputs": [],
   "source": [
    "X_test.assign(adelie_prob = logreg.predict_proba(X_test)[:,0],\n",
    "              chinstrap_prob = logreg.predict_proba(X_test)[:,1],\n",
    "              gentoo_prob = logreg.predict_proba(X_test)[:,2],\n",
    "              prediction = logreg.predict(X_test),\n",
    "              true = y_test)"
   ]
  },
  {
   "cell_type": "code",
   "execution_count": null,
   "id": "6a88985c",
   "metadata": {},
   "outputs": [],
   "source": [
    "accuracy_score(y_test, logreg.predict(X_test))"
   ]
  },
  {
   "cell_type": "code",
   "execution_count": null,
   "id": "a4f0e728",
   "metadata": {},
   "outputs": [],
   "source": [
    "confusion_matrix(y_test, logreg.predict(X_test))"
   ]
  },
  {
   "cell_type": "code",
   "execution_count": null,
   "id": "533579bf",
   "metadata": {},
   "outputs": [],
   "source": [
    "print(classification_report(y_test, logreg.predict(X_test)))"
   ]
  },
  {
   "cell_type": "code",
   "execution_count": null,
   "id": "f199ebf2",
   "metadata": {},
   "outputs": [],
   "source": [
    "from cm import plot_confusion_matrix_multiclass"
   ]
  },
  {
   "cell_type": "code",
   "execution_count": null,
   "id": "26fdcbb4",
   "metadata": {},
   "outputs": [],
   "source": [
    "plot_confusion_matrix_multiclass(y_test, \n",
    "                                 logreg.predict(X_test), \n",
    "                                 labels = logreg.classes_,\n",
    "                                 figsize = (8,8))"
   ]
  }
 ],
 "metadata": {
  "kernelspec": {
   "display_name": "Python 3 (ipykernel)",
   "language": "python",
   "name": "python3"
  },
  "language_info": {
   "codemirror_mode": {
    "name": "ipython",
    "version": 3
   },
   "file_extension": ".py",
   "mimetype": "text/x-python",
   "name": "python",
   "nbconvert_exporter": "python",
   "pygments_lexer": "ipython3",
   "version": "3.8.3"
  }
 },
 "nbformat": 4,
 "nbformat_minor": 5
}
