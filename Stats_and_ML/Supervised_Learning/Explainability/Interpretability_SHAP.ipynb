{
 "cells": [
  {
   "cell_type": "code",
   "execution_count": null,
   "metadata": {},
   "outputs": [],
   "source": [
    "#! conda install -y shap"
   ]
  },
  {
   "cell_type": "code",
   "execution_count": null,
   "metadata": {},
   "outputs": [],
   "source": [
    "import pandas as pd\n",
    "import matplotlib.pyplot as plt\n",
    "import numpy as np\n",
    "%matplotlib inline"
   ]
  },
  {
   "cell_type": "code",
   "execution_count": null,
   "metadata": {},
   "outputs": [],
   "source": [
    "# For this demo, I'm only using a subset of the data since SHAP can take a long time to compute\n",
    "housing = pd.read_csv('../data/kc_house_data.csv', nrows = 1000)  "
   ]
  },
  {
   "cell_type": "code",
   "execution_count": null,
   "metadata": {},
   "outputs": [],
   "source": [
    "X = housing[['sqft_living', 'grade', 'waterfront', 'bedrooms']]\n",
    "y = housing['price']"
   ]
  },
  {
   "cell_type": "code",
   "execution_count": null,
   "metadata": {},
   "outputs": [],
   "source": [
    "from sklearn.ensemble import RandomForestRegressor"
   ]
  },
  {
   "cell_type": "code",
   "execution_count": null,
   "metadata": {},
   "outputs": [],
   "source": [
    "rf = RandomForestRegressor().fit(X, y)"
   ]
  },
  {
   "cell_type": "code",
   "execution_count": null,
   "metadata": {},
   "outputs": [],
   "source": [
    "import shap\n",
    "\n",
    "shap.initjs()     #Load Javascript so that we can view the force plots."
   ]
  },
  {
   "cell_type": "markdown",
   "metadata": {},
   "source": [
    "Since we are using a random forest model (tree-based), we can use the TreeExplainer, which will compute exact SHAP values."
   ]
  },
  {
   "cell_type": "code",
   "execution_count": null,
   "metadata": {},
   "outputs": [],
   "source": [
    "explainer = shap.TreeExplainer(rf)\n",
    "shap_values = explainer.shap_values(X)"
   ]
  },
  {
   "cell_type": "code",
   "execution_count": null,
   "metadata": {},
   "outputs": [],
   "source": [
    "observation_idx = 5\n",
    "\n",
    "shap.force_plot(explainer.expected_value, shap_values[observation_idx,:], X.iloc[observation_idx,:])"
   ]
  },
  {
   "cell_type": "code",
   "execution_count": null,
   "metadata": {},
   "outputs": [],
   "source": [
    "shap.dependence_plot(\"grade\", shap_values, X)"
   ]
  },
  {
   "cell_type": "code",
   "execution_count": null,
   "metadata": {},
   "outputs": [],
   "source": [
    "sum_plot = shap.summary_plot(shap_values, X, plot_size = (14,6))"
   ]
  },
  {
   "cell_type": "code",
   "execution_count": null,
   "metadata": {},
   "outputs": [],
   "source": [
    "shap.summary_plot(shap_values, X, plot_type=\"bar\", plot_size = (14,6))"
   ]
  },
  {
   "cell_type": "code",
   "execution_count": null,
   "metadata": {},
   "outputs": [],
   "source": [
    "explainer_rf = shap.TreeExplainer(rf)"
   ]
  },
  {
   "cell_type": "code",
   "execution_count": null,
   "metadata": {},
   "outputs": [],
   "source": [
    "shap_rf = explainer_rf.shap_values(X.iloc[observation_idx, :])"
   ]
  },
  {
   "cell_type": "code",
   "execution_count": null,
   "metadata": {},
   "outputs": [],
   "source": [
    "shap_rf"
   ]
  },
  {
   "cell_type": "code",
   "execution_count": null,
   "metadata": {},
   "outputs": [],
   "source": [
    "X.columns"
   ]
  },
  {
   "cell_type": "code",
   "execution_count": null,
   "metadata": {},
   "outputs": [],
   "source": [
    "X.loc[observation_idx, :]"
   ]
  },
  {
   "cell_type": "code",
   "execution_count": null,
   "metadata": {},
   "outputs": [],
   "source": [
    "avg_price = round(y.mean(),2)\n",
    "\n",
    "\n",
    "def make_explanations_plot(row_num):\n",
    "    predicted_price = round(rf.predict(X.iloc[row_num, :].values.reshape(1,-1))[0],2)\n",
    "    \n",
    "    shap_rf = explainer_rf.shap_values(X.iloc[row_num, :])\n",
    "    shap_rf_idx = shap_rf.argsort()\n",
    "\n",
    "    labels = np.array([str(x) + ':\\n' + str(y) for x,y in zip(X.columns, X.iloc[row_num, :])])\n",
    "    \n",
    "    feature_indices = np.arange(0, len(X.columns)) + 0.5\n",
    "    \n",
    "    print(f'Average home price: {avg_price}')\n",
    "    print(f'Predicted home price: {predicted_price}')\n",
    "    print(f'Difference from Average: {round(predicted_price - avg_price,2)}')\n",
    "    \n",
    "    fig, ax = plt.subplots(figsize=(8, 6))\n",
    "\n",
    "\n",
    "    \n",
    "    ax.barh(feature_indices,shap_rf[shap_rf.argsort()], height=0.7, edgecolor = 'black')\n",
    "    ax.set_yticklabels(labels[shap_rf_idx], fontsize = 18)\n",
    "    ax.set_yticks(feature_indices)\n",
    "    plt.vlines(x = 0, ymin = 0, ymax = len(X.columns));"
   ]
  },
  {
   "cell_type": "code",
   "execution_count": null,
   "metadata": {},
   "outputs": [],
   "source": [
    "make_explanations_plot(10)"
   ]
  },
  {
   "cell_type": "code",
   "execution_count": null,
   "metadata": {},
   "outputs": [],
   "source": [
    "def make_force(row_num):\n",
    "    return shap.force_plot(explainer_rf.expected_value,\n",
    "                    explainer_rf.shap_values(X.iloc[row_num, :]),\n",
    "                    X.iloc[row_num,:])"
   ]
  },
  {
   "cell_type": "code",
   "execution_count": null,
   "metadata": {},
   "outputs": [],
   "source": [
    "make_force(10)"
   ]
  },
  {
   "cell_type": "code",
   "execution_count": null,
   "metadata": {},
   "outputs": [],
   "source": [
    "# For this demo, I'm only using a subset of the data since SHAP can take a long time to compute\n",
    "titanic = pd.read_csv('../data/titanic.csv') "
   ]
  },
  {
   "cell_type": "code",
   "execution_count": null,
   "metadata": {},
   "outputs": [],
   "source": [
    "X = pd.get_dummies(titanic[['Pclass', 'Sex', 'Age', 'Siblings/Spouses Aboard', 'Parents/Children Aboard', 'Fare']],columns = ['Sex'], drop_first = True)\n",
    "y = titanic['Survived']"
   ]
  },
  {
   "cell_type": "code",
   "execution_count": null,
   "metadata": {},
   "outputs": [],
   "source": [
    "from sklearn.ensemble import RandomForestClassifier"
   ]
  },
  {
   "cell_type": "code",
   "execution_count": null,
   "metadata": {},
   "outputs": [],
   "source": [
    "rf_titanic = RandomForestClassifier().fit(X, y)"
   ]
  },
  {
   "cell_type": "code",
   "execution_count": null,
   "metadata": {},
   "outputs": [],
   "source": [
    "explainer = shap.TreeExplainer(rf_titanic)\n",
    "shap_values = explainer.shap_values(X)"
   ]
  },
  {
   "cell_type": "code",
   "execution_count": null,
   "metadata": {},
   "outputs": [],
   "source": [
    "observation_idx = 10\n",
    "\n",
    "shap.force_plot(explainer.expected_value[1], shap_values[1][observation_idx,:], X.iloc[observation_idx,:])"
   ]
  },
  {
   "cell_type": "markdown",
   "metadata": {},
   "source": [
    "## Using KernelSHAP\n",
    "\n",
    "To use kernelSHAP, we need to pass in the predict method for our model as well as our data.\n",
    "\n",
    "Note that kernelSHAP is quite a bit slower than treeSHAP, so sometimes it is better to only use a subset of your data."
   ]
  },
  {
   "cell_type": "code",
   "execution_count": null,
   "metadata": {},
   "outputs": [],
   "source": [
    "kernel_explainer = shap.KernelExplainer(rf_titanic.predict, X)"
   ]
  },
  {
   "cell_type": "code",
   "execution_count": null,
   "metadata": {},
   "outputs": [],
   "source": [
    "ke_shap = kernel_explainer.shap_values(X.loc[observation_idx, :])"
   ]
  },
  {
   "cell_type": "code",
   "execution_count": null,
   "metadata": {},
   "outputs": [],
   "source": [
    "avg_price = round(y.mean(),2)\n",
    "\n",
    "\n",
    "def kernel_explanations_plot(row_num):\n",
    "    predicted_price = round(rf_titanic.predict_proba(X.iloc[row_num, :].values.reshape(1,-1))[0,1],2)\n",
    "    \n",
    "    shap_rf = kernel_explainer.shap_values(X.iloc[row_num, :])\n",
    "    shap_rf_idx = shap_rf.argsort()\n",
    "\n",
    "    labels = np.array([str(x) + ':\\n' + str(y) for x,y in zip(X.columns, X.iloc[row_num, :])])\n",
    "    \n",
    "    feature_indices = np.arange(0, len(X.columns)) + 0.5\n",
    "    \n",
    "    print(f'Overall probability of surviving: {avg_price}')\n",
    "    print(f'Predicted probability of surviving: {predicted_price}')\n",
    "    print(f'Difference from Overall: {round(predicted_price - avg_price,2)}')\n",
    "    \n",
    "    fig, ax = plt.subplots(figsize=(8, 6))\n",
    "\n",
    "\n",
    "    \n",
    "    ax.barh(feature_indices,shap_rf[shap_rf.argsort()], height=0.7, edgecolor = 'black')\n",
    "    ax.set_yticklabels(labels[shap_rf_idx], fontsize = 18)\n",
    "    ax.set_yticks(feature_indices)\n",
    "    plt.vlines(x = 0, ymin = 0, ymax = len(X.columns));"
   ]
  },
  {
   "cell_type": "code",
   "execution_count": null,
   "metadata": {},
   "outputs": [],
   "source": [
    "kernel_explanations_plot(0)"
   ]
  },
  {
   "cell_type": "code",
   "execution_count": null,
   "metadata": {},
   "outputs": [],
   "source": []
  }
 ],
 "metadata": {
  "kernelspec": {
   "display_name": "Python 3",
   "language": "python",
   "name": "python3"
  },
  "language_info": {
   "codemirror_mode": {
    "name": "ipython",
    "version": 3
   },
   "file_extension": ".py",
   "mimetype": "text/x-python",
   "name": "python",
   "nbconvert_exporter": "python",
   "pygments_lexer": "ipython3",
   "version": "3.8.3"
  }
 },
 "nbformat": 4,
 "nbformat_minor": 2
}
